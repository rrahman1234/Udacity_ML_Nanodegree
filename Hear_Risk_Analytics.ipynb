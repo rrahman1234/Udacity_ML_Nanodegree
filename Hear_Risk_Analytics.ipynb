{
 "cells": [
  {
   "cell_type": "markdown",
   "metadata": {},
   "source": [
    "# Heart Risk Prediction using supervised ML"
   ]
  },
  {
   "cell_type": "code",
   "execution_count": 1,
   "metadata": {},
   "outputs": [],
   "source": [
    "import sklearn\n",
    "import numpy as np\n",
    "import io\n",
    "import pandas as pd\n",
    "import matplotlib.pyplot as plt\n",
    "import plotly.express as px\n",
    "import seaborn as sns\n",
    "sns.set(rc={'figure.figsize':(11.7,8.27)})\n",
    "import matplotlib.ticker as ticker\n",
    "from sklearn.model_selection import train_test_split\n",
    "from sklearn.preprocessing import Normalizer\n",
    "from sklearn.metrics import accuracy_score,confusion_matrix,classification_report, roc_auc_score\n",
    "from sklearn.model_selection import cross_val_score\n",
    "import warnings\n",
    "warnings.simplefilter(action='ignore')\n",
    "from sklearn.model_selection import RandomizedSearchCV, GridSearchCV, StratifiedKFold\n",
    "kfold = StratifiedKFold(n_splits=5)\n",
    "\n",
    "import util"
   ]
  },
  {
   "cell_type": "markdown",
   "metadata": {},
   "source": [
    "## *Data Loading from Source*"
   ]
  },
  {
   "cell_type": "markdown",
   "metadata": {},
   "source": [
    "### Using UCI  heart risk data used at kaggle competieion\n",
    "- Download UCI Cleveland heart risk data available on Kaggle\n",
    "https://www.kaggle.com/datasets/johnsmith88/heart-disease-dataset"
   ]
  },
  {
   "cell_type": "code",
   "execution_count": 2,
   "metadata": {},
   "outputs": [],
   "source": [
    "df_heart_disease = pd.read_csv('heart_disease_dataset_UCI.csv')"
   ]
  },
  {
   "cell_type": "markdown",
   "metadata": {},
   "source": [
    "## Data Pre-Processing:\n",
    "- Data cleaning \n",
    "- Remove NANs\n",
    "- Look for missing and unimportant data\n",
    "\n",
    "## Description of feature vectors:\n",
    " - description\n",
    "\n",
    "It's a clean, easy to understand set of data. However, the meaning of some of the column headers are not obvious. Here's what they mean,\n",
    "- **age**: The person's age in years\n",
    "- **sex**: The person's sex (1 = male, 0 = female)\n",
    "- **cp**:         \n",
    "        0 = typical angina\n",
    "        1 = atypical angina\n",
    "        2 = non-anginal pain\n",
    "        3 = asymptomatic\n",
    "- **trestbps**: The person's resting blood pressure (mm Hg on admission to the hospital)\n",
    "- **chol**: The person's cholesterol measurement in mg/dl\n",
    "- **fbs**: The person's fasting blood sugar (> 120 mg/dl, 1 = true; 0 = false)\n",
    "- **restecg**: Resting electrocardiographic measurement (0 = normal, 1 = having ST-T wave abnormality, 2 = showing probable or definite left ventricular hypertrophy by Estes' criteria)\n",
    "- **thalach**: The person's maximum heart rate achieved\n",
    "- **exang**: Exercise induced angina (1 = yes; 0 = no)\n",
    "- **oldpeak**: ST depression induced by exercise relative to rest ('ST' relates to positions on the ECG plot. See more here)\n",
    "- **slope**: \n",
    "        0 = upsloping\n",
    "        1 = flat\n",
    "        2 = downsloping\n",
    "- **ca**: The number of major vessels (0-3)\n",
    "- **thal**: A blood disorder called thalassemia \n",
    "        0: NULL (dropped from the dataset previously)\n",
    "        1: fixed defect (no blood flow in some part of the heart)\n",
    "        2: normal blood flow\n",
    "        3: reversible defect (a blood flow is observed but it is not normal)\n",
    "- **target**: Heart disease (0 = no, 1 = yes)\n",
    "\n"
   ]
  },
  {
   "cell_type": "markdown",
   "metadata": {},
   "source": [
    "## Check for Null and NANs\n",
    "### Need to convert object types to numerical types"
   ]
  },
  {
   "cell_type": "code",
   "execution_count": 3,
   "metadata": {},
   "outputs": [
    {
     "data": {
      "text/plain": [
       "age           int64\n",
       "sex           int64\n",
       "cp            int64\n",
       "trestbps      int64\n",
       "chol          int64\n",
       "fbs           int64\n",
       "restecg       int64\n",
       "thalach       int64\n",
       "exang         int64\n",
       "oldpeak     float64\n",
       "slope         int64\n",
       "ca            int64\n",
       "thal          int64\n",
       "target        int64\n",
       "dtype: object"
      ]
     },
     "execution_count": 3,
     "metadata": {},
     "output_type": "execute_result"
    }
   ],
   "source": [
    "df_heart_disease.dtypes"
   ]
  },
  {
   "cell_type": "code",
   "execution_count": 4,
   "metadata": {},
   "outputs": [],
   "source": [
    "#df_heart_disease = df_heart_disease.astype(float, errors = 'raise')"
   ]
  },
  {
   "cell_type": "code",
   "execution_count": 5,
   "metadata": {},
   "outputs": [],
   "source": [
    "#df_heart_disease.dtypes"
   ]
  },
  {
   "cell_type": "code",
   "execution_count": 6,
   "metadata": {},
   "outputs": [
    {
     "data": {
      "text/plain": [
       "age         0\n",
       "sex         0\n",
       "cp          0\n",
       "trestbps    0\n",
       "chol        0\n",
       "fbs         0\n",
       "restecg     0\n",
       "thalach     0\n",
       "exang       0\n",
       "oldpeak     0\n",
       "slope       0\n",
       "ca          0\n",
       "thal        0\n",
       "target      0\n",
       "dtype: int64"
      ]
     },
     "execution_count": 6,
     "metadata": {},
     "output_type": "execute_result"
    }
   ],
   "source": [
    "df_heart_disease.isnull().sum()"
   ]
  },
  {
   "cell_type": "code",
   "execution_count": 7,
   "metadata": {},
   "outputs": [
    {
     "data": {
      "text/plain": [
       "age         0\n",
       "sex         0\n",
       "cp          0\n",
       "trestbps    0\n",
       "chol        0\n",
       "fbs         0\n",
       "restecg     0\n",
       "thalach     0\n",
       "exang       0\n",
       "oldpeak     0\n",
       "slope       0\n",
       "ca          0\n",
       "thal        0\n",
       "target      0\n",
       "dtype: int64"
      ]
     },
     "execution_count": 7,
     "metadata": {},
     "output_type": "execute_result"
    }
   ],
   "source": [
    "df_heart_disease.isna().sum()"
   ]
  },
  {
   "cell_type": "code",
   "execution_count": 8,
   "metadata": {},
   "outputs": [
    {
     "data": {
      "text/plain": [
       "Index(['age', 'sex', 'cp', 'trestbps', 'chol', 'fbs', 'restecg', 'thalach',\n",
       "       'exang', 'oldpeak', 'slope', 'ca', 'thal', 'target'],\n",
       "      dtype='object')"
      ]
     },
     "execution_count": 8,
     "metadata": {},
     "output_type": "execute_result"
    }
   ],
   "source": [
    "df_heart_disease.columns"
   ]
  },
  {
   "cell_type": "code",
   "execution_count": 9,
   "metadata": {},
   "outputs": [],
   "source": [
    "input_features = df_heart_disease.iloc[:,1:]\n",
    "output_features = df_heart_disease.iloc[:,-1]"
   ]
  },
  {
   "cell_type": "code",
   "execution_count": 10,
   "metadata": {
    "scrolled": true
   },
   "outputs": [
    {
     "data": {
      "text/html": [
       "<div>\n",
       "<style scoped>\n",
       "    .dataframe tbody tr th:only-of-type {\n",
       "        vertical-align: middle;\n",
       "    }\n",
       "\n",
       "    .dataframe tbody tr th {\n",
       "        vertical-align: top;\n",
       "    }\n",
       "\n",
       "    .dataframe thead th {\n",
       "        text-align: right;\n",
       "    }\n",
       "</style>\n",
       "<table border=\"1\" class=\"dataframe\">\n",
       "  <thead>\n",
       "    <tr style=\"text-align: right;\">\n",
       "      <th></th>\n",
       "      <th>age</th>\n",
       "      <th>sex</th>\n",
       "      <th>cp</th>\n",
       "      <th>trestbps</th>\n",
       "      <th>chol</th>\n",
       "      <th>fbs</th>\n",
       "      <th>restecg</th>\n",
       "      <th>thalach</th>\n",
       "      <th>exang</th>\n",
       "      <th>oldpeak</th>\n",
       "      <th>slope</th>\n",
       "      <th>ca</th>\n",
       "      <th>thal</th>\n",
       "      <th>target</th>\n",
       "    </tr>\n",
       "  </thead>\n",
       "  <tbody>\n",
       "    <tr>\n",
       "      <th>count</th>\n",
       "      <td>303.000000</td>\n",
       "      <td>303.000000</td>\n",
       "      <td>303.000000</td>\n",
       "      <td>303.000000</td>\n",
       "      <td>303.000000</td>\n",
       "      <td>303.000000</td>\n",
       "      <td>303.000000</td>\n",
       "      <td>303.000000</td>\n",
       "      <td>303.000000</td>\n",
       "      <td>303.000000</td>\n",
       "      <td>303.000000</td>\n",
       "      <td>303.000000</td>\n",
       "      <td>303.000000</td>\n",
       "      <td>303.000000</td>\n",
       "    </tr>\n",
       "    <tr>\n",
       "      <th>mean</th>\n",
       "      <td>54.366337</td>\n",
       "      <td>0.683168</td>\n",
       "      <td>0.966997</td>\n",
       "      <td>131.623762</td>\n",
       "      <td>246.264026</td>\n",
       "      <td>0.148515</td>\n",
       "      <td>0.528053</td>\n",
       "      <td>149.646865</td>\n",
       "      <td>0.326733</td>\n",
       "      <td>1.039604</td>\n",
       "      <td>1.399340</td>\n",
       "      <td>0.729373</td>\n",
       "      <td>2.313531</td>\n",
       "      <td>0.544554</td>\n",
       "    </tr>\n",
       "    <tr>\n",
       "      <th>std</th>\n",
       "      <td>9.082101</td>\n",
       "      <td>0.466011</td>\n",
       "      <td>1.032052</td>\n",
       "      <td>17.538143</td>\n",
       "      <td>51.830751</td>\n",
       "      <td>0.356198</td>\n",
       "      <td>0.525860</td>\n",
       "      <td>22.905161</td>\n",
       "      <td>0.469794</td>\n",
       "      <td>1.161075</td>\n",
       "      <td>0.616226</td>\n",
       "      <td>1.022606</td>\n",
       "      <td>0.612277</td>\n",
       "      <td>0.498835</td>\n",
       "    </tr>\n",
       "    <tr>\n",
       "      <th>min</th>\n",
       "      <td>29.000000</td>\n",
       "      <td>0.000000</td>\n",
       "      <td>0.000000</td>\n",
       "      <td>94.000000</td>\n",
       "      <td>126.000000</td>\n",
       "      <td>0.000000</td>\n",
       "      <td>0.000000</td>\n",
       "      <td>71.000000</td>\n",
       "      <td>0.000000</td>\n",
       "      <td>0.000000</td>\n",
       "      <td>0.000000</td>\n",
       "      <td>0.000000</td>\n",
       "      <td>0.000000</td>\n",
       "      <td>0.000000</td>\n",
       "    </tr>\n",
       "    <tr>\n",
       "      <th>25%</th>\n",
       "      <td>47.500000</td>\n",
       "      <td>0.000000</td>\n",
       "      <td>0.000000</td>\n",
       "      <td>120.000000</td>\n",
       "      <td>211.000000</td>\n",
       "      <td>0.000000</td>\n",
       "      <td>0.000000</td>\n",
       "      <td>133.500000</td>\n",
       "      <td>0.000000</td>\n",
       "      <td>0.000000</td>\n",
       "      <td>1.000000</td>\n",
       "      <td>0.000000</td>\n",
       "      <td>2.000000</td>\n",
       "      <td>0.000000</td>\n",
       "    </tr>\n",
       "    <tr>\n",
       "      <th>50%</th>\n",
       "      <td>55.000000</td>\n",
       "      <td>1.000000</td>\n",
       "      <td>1.000000</td>\n",
       "      <td>130.000000</td>\n",
       "      <td>240.000000</td>\n",
       "      <td>0.000000</td>\n",
       "      <td>1.000000</td>\n",
       "      <td>153.000000</td>\n",
       "      <td>0.000000</td>\n",
       "      <td>0.800000</td>\n",
       "      <td>1.000000</td>\n",
       "      <td>0.000000</td>\n",
       "      <td>2.000000</td>\n",
       "      <td>1.000000</td>\n",
       "    </tr>\n",
       "    <tr>\n",
       "      <th>75%</th>\n",
       "      <td>61.000000</td>\n",
       "      <td>1.000000</td>\n",
       "      <td>2.000000</td>\n",
       "      <td>140.000000</td>\n",
       "      <td>274.500000</td>\n",
       "      <td>0.000000</td>\n",
       "      <td>1.000000</td>\n",
       "      <td>166.000000</td>\n",
       "      <td>1.000000</td>\n",
       "      <td>1.600000</td>\n",
       "      <td>2.000000</td>\n",
       "      <td>1.000000</td>\n",
       "      <td>3.000000</td>\n",
       "      <td>1.000000</td>\n",
       "    </tr>\n",
       "    <tr>\n",
       "      <th>max</th>\n",
       "      <td>77.000000</td>\n",
       "      <td>1.000000</td>\n",
       "      <td>3.000000</td>\n",
       "      <td>200.000000</td>\n",
       "      <td>564.000000</td>\n",
       "      <td>1.000000</td>\n",
       "      <td>2.000000</td>\n",
       "      <td>202.000000</td>\n",
       "      <td>1.000000</td>\n",
       "      <td>6.200000</td>\n",
       "      <td>2.000000</td>\n",
       "      <td>4.000000</td>\n",
       "      <td>3.000000</td>\n",
       "      <td>1.000000</td>\n",
       "    </tr>\n",
       "  </tbody>\n",
       "</table>\n",
       "</div>"
      ],
      "text/plain": [
       "              age         sex          cp    trestbps        chol         fbs  \\\n",
       "count  303.000000  303.000000  303.000000  303.000000  303.000000  303.000000   \n",
       "mean    54.366337    0.683168    0.966997  131.623762  246.264026    0.148515   \n",
       "std      9.082101    0.466011    1.032052   17.538143   51.830751    0.356198   \n",
       "min     29.000000    0.000000    0.000000   94.000000  126.000000    0.000000   \n",
       "25%     47.500000    0.000000    0.000000  120.000000  211.000000    0.000000   \n",
       "50%     55.000000    1.000000    1.000000  130.000000  240.000000    0.000000   \n",
       "75%     61.000000    1.000000    2.000000  140.000000  274.500000    0.000000   \n",
       "max     77.000000    1.000000    3.000000  200.000000  564.000000    1.000000   \n",
       "\n",
       "          restecg     thalach       exang     oldpeak       slope          ca  \\\n",
       "count  303.000000  303.000000  303.000000  303.000000  303.000000  303.000000   \n",
       "mean     0.528053  149.646865    0.326733    1.039604    1.399340    0.729373   \n",
       "std      0.525860   22.905161    0.469794    1.161075    0.616226    1.022606   \n",
       "min      0.000000   71.000000    0.000000    0.000000    0.000000    0.000000   \n",
       "25%      0.000000  133.500000    0.000000    0.000000    1.000000    0.000000   \n",
       "50%      1.000000  153.000000    0.000000    0.800000    1.000000    0.000000   \n",
       "75%      1.000000  166.000000    1.000000    1.600000    2.000000    1.000000   \n",
       "max      2.000000  202.000000    1.000000    6.200000    2.000000    4.000000   \n",
       "\n",
       "             thal      target  \n",
       "count  303.000000  303.000000  \n",
       "mean     2.313531    0.544554  \n",
       "std      0.612277    0.498835  \n",
       "min      0.000000    0.000000  \n",
       "25%      2.000000    0.000000  \n",
       "50%      2.000000    1.000000  \n",
       "75%      3.000000    1.000000  \n",
       "max      3.000000    1.000000  "
      ]
     },
     "execution_count": 10,
     "metadata": {},
     "output_type": "execute_result"
    }
   ],
   "source": [
    "df_heart_disease.describe()"
   ]
  },
  {
   "cell_type": "markdown",
   "metadata": {},
   "source": [
    "### Consider rows with target = 1 or target = 0. Ignore other values"
   ]
  },
  {
   "cell_type": "code",
   "execution_count": 11,
   "metadata": {},
   "outputs": [],
   "source": [
    "df_heart_disease = df_heart_disease[(df_heart_disease['target'] == 1) | (df_heart_disease['target'] == 0)]"
   ]
  },
  {
   "cell_type": "code",
   "execution_count": 12,
   "metadata": {},
   "outputs": [
    {
     "data": {
      "text/html": [
       "<div>\n",
       "<style scoped>\n",
       "    .dataframe tbody tr th:only-of-type {\n",
       "        vertical-align: middle;\n",
       "    }\n",
       "\n",
       "    .dataframe tbody tr th {\n",
       "        vertical-align: top;\n",
       "    }\n",
       "\n",
       "    .dataframe thead th {\n",
       "        text-align: right;\n",
       "    }\n",
       "</style>\n",
       "<table border=\"1\" class=\"dataframe\">\n",
       "  <thead>\n",
       "    <tr style=\"text-align: right;\">\n",
       "      <th></th>\n",
       "      <th>age</th>\n",
       "      <th>sex</th>\n",
       "      <th>cp</th>\n",
       "      <th>trestbps</th>\n",
       "      <th>chol</th>\n",
       "      <th>fbs</th>\n",
       "      <th>restecg</th>\n",
       "      <th>thalach</th>\n",
       "      <th>exang</th>\n",
       "      <th>oldpeak</th>\n",
       "      <th>slope</th>\n",
       "      <th>ca</th>\n",
       "      <th>thal</th>\n",
       "      <th>target</th>\n",
       "    </tr>\n",
       "  </thead>\n",
       "  <tbody>\n",
       "    <tr>\n",
       "      <th>count</th>\n",
       "      <td>303.000000</td>\n",
       "      <td>303.000000</td>\n",
       "      <td>303.000000</td>\n",
       "      <td>303.000000</td>\n",
       "      <td>303.000000</td>\n",
       "      <td>303.000000</td>\n",
       "      <td>303.000000</td>\n",
       "      <td>303.000000</td>\n",
       "      <td>303.000000</td>\n",
       "      <td>303.000000</td>\n",
       "      <td>303.000000</td>\n",
       "      <td>303.000000</td>\n",
       "      <td>303.000000</td>\n",
       "      <td>303.000000</td>\n",
       "    </tr>\n",
       "    <tr>\n",
       "      <th>mean</th>\n",
       "      <td>54.366337</td>\n",
       "      <td>0.683168</td>\n",
       "      <td>0.966997</td>\n",
       "      <td>131.623762</td>\n",
       "      <td>246.264026</td>\n",
       "      <td>0.148515</td>\n",
       "      <td>0.528053</td>\n",
       "      <td>149.646865</td>\n",
       "      <td>0.326733</td>\n",
       "      <td>1.039604</td>\n",
       "      <td>1.399340</td>\n",
       "      <td>0.729373</td>\n",
       "      <td>2.313531</td>\n",
       "      <td>0.544554</td>\n",
       "    </tr>\n",
       "    <tr>\n",
       "      <th>std</th>\n",
       "      <td>9.082101</td>\n",
       "      <td>0.466011</td>\n",
       "      <td>1.032052</td>\n",
       "      <td>17.538143</td>\n",
       "      <td>51.830751</td>\n",
       "      <td>0.356198</td>\n",
       "      <td>0.525860</td>\n",
       "      <td>22.905161</td>\n",
       "      <td>0.469794</td>\n",
       "      <td>1.161075</td>\n",
       "      <td>0.616226</td>\n",
       "      <td>1.022606</td>\n",
       "      <td>0.612277</td>\n",
       "      <td>0.498835</td>\n",
       "    </tr>\n",
       "    <tr>\n",
       "      <th>min</th>\n",
       "      <td>29.000000</td>\n",
       "      <td>0.000000</td>\n",
       "      <td>0.000000</td>\n",
       "      <td>94.000000</td>\n",
       "      <td>126.000000</td>\n",
       "      <td>0.000000</td>\n",
       "      <td>0.000000</td>\n",
       "      <td>71.000000</td>\n",
       "      <td>0.000000</td>\n",
       "      <td>0.000000</td>\n",
       "      <td>0.000000</td>\n",
       "      <td>0.000000</td>\n",
       "      <td>0.000000</td>\n",
       "      <td>0.000000</td>\n",
       "    </tr>\n",
       "    <tr>\n",
       "      <th>25%</th>\n",
       "      <td>47.500000</td>\n",
       "      <td>0.000000</td>\n",
       "      <td>0.000000</td>\n",
       "      <td>120.000000</td>\n",
       "      <td>211.000000</td>\n",
       "      <td>0.000000</td>\n",
       "      <td>0.000000</td>\n",
       "      <td>133.500000</td>\n",
       "      <td>0.000000</td>\n",
       "      <td>0.000000</td>\n",
       "      <td>1.000000</td>\n",
       "      <td>0.000000</td>\n",
       "      <td>2.000000</td>\n",
       "      <td>0.000000</td>\n",
       "    </tr>\n",
       "    <tr>\n",
       "      <th>50%</th>\n",
       "      <td>55.000000</td>\n",
       "      <td>1.000000</td>\n",
       "      <td>1.000000</td>\n",
       "      <td>130.000000</td>\n",
       "      <td>240.000000</td>\n",
       "      <td>0.000000</td>\n",
       "      <td>1.000000</td>\n",
       "      <td>153.000000</td>\n",
       "      <td>0.000000</td>\n",
       "      <td>0.800000</td>\n",
       "      <td>1.000000</td>\n",
       "      <td>0.000000</td>\n",
       "      <td>2.000000</td>\n",
       "      <td>1.000000</td>\n",
       "    </tr>\n",
       "    <tr>\n",
       "      <th>75%</th>\n",
       "      <td>61.000000</td>\n",
       "      <td>1.000000</td>\n",
       "      <td>2.000000</td>\n",
       "      <td>140.000000</td>\n",
       "      <td>274.500000</td>\n",
       "      <td>0.000000</td>\n",
       "      <td>1.000000</td>\n",
       "      <td>166.000000</td>\n",
       "      <td>1.000000</td>\n",
       "      <td>1.600000</td>\n",
       "      <td>2.000000</td>\n",
       "      <td>1.000000</td>\n",
       "      <td>3.000000</td>\n",
       "      <td>1.000000</td>\n",
       "    </tr>\n",
       "    <tr>\n",
       "      <th>max</th>\n",
       "      <td>77.000000</td>\n",
       "      <td>1.000000</td>\n",
       "      <td>3.000000</td>\n",
       "      <td>200.000000</td>\n",
       "      <td>564.000000</td>\n",
       "      <td>1.000000</td>\n",
       "      <td>2.000000</td>\n",
       "      <td>202.000000</td>\n",
       "      <td>1.000000</td>\n",
       "      <td>6.200000</td>\n",
       "      <td>2.000000</td>\n",
       "      <td>4.000000</td>\n",
       "      <td>3.000000</td>\n",
       "      <td>1.000000</td>\n",
       "    </tr>\n",
       "  </tbody>\n",
       "</table>\n",
       "</div>"
      ],
      "text/plain": [
       "              age         sex          cp    trestbps        chol         fbs  \\\n",
       "count  303.000000  303.000000  303.000000  303.000000  303.000000  303.000000   \n",
       "mean    54.366337    0.683168    0.966997  131.623762  246.264026    0.148515   \n",
       "std      9.082101    0.466011    1.032052   17.538143   51.830751    0.356198   \n",
       "min     29.000000    0.000000    0.000000   94.000000  126.000000    0.000000   \n",
       "25%     47.500000    0.000000    0.000000  120.000000  211.000000    0.000000   \n",
       "50%     55.000000    1.000000    1.000000  130.000000  240.000000    0.000000   \n",
       "75%     61.000000    1.000000    2.000000  140.000000  274.500000    0.000000   \n",
       "max     77.000000    1.000000    3.000000  200.000000  564.000000    1.000000   \n",
       "\n",
       "          restecg     thalach       exang     oldpeak       slope          ca  \\\n",
       "count  303.000000  303.000000  303.000000  303.000000  303.000000  303.000000   \n",
       "mean     0.528053  149.646865    0.326733    1.039604    1.399340    0.729373   \n",
       "std      0.525860   22.905161    0.469794    1.161075    0.616226    1.022606   \n",
       "min      0.000000   71.000000    0.000000    0.000000    0.000000    0.000000   \n",
       "25%      0.000000  133.500000    0.000000    0.000000    1.000000    0.000000   \n",
       "50%      1.000000  153.000000    0.000000    0.800000    1.000000    0.000000   \n",
       "75%      1.000000  166.000000    1.000000    1.600000    2.000000    1.000000   \n",
       "max      2.000000  202.000000    1.000000    6.200000    2.000000    4.000000   \n",
       "\n",
       "             thal      target  \n",
       "count  303.000000  303.000000  \n",
       "mean     2.313531    0.544554  \n",
       "std      0.612277    0.498835  \n",
       "min      0.000000    0.000000  \n",
       "25%      2.000000    0.000000  \n",
       "50%      2.000000    1.000000  \n",
       "75%      3.000000    1.000000  \n",
       "max      3.000000    1.000000  "
      ]
     },
     "execution_count": 12,
     "metadata": {},
     "output_type": "execute_result"
    }
   ],
   "source": [
    "df_heart_disease.describe()"
   ]
  },
  {
   "cell_type": "markdown",
   "metadata": {},
   "source": [
    "# **_Exploratory Data Analysis_**:\n",
    "## Check outliers using Inter Quantile Range (IQR):\n",
    "\n",
    "We are not going to remove outliers since they carry valuable info about certain types of patients. However, it can give us an idea on the necessecity of the exploratory data analysis."
   ]
  },
  {
   "cell_type": "code",
   "execution_count": 13,
   "metadata": {},
   "outputs": [],
   "source": [
    "Q1 = df_heart_disease.quantile(0.90)\n",
    "Q3 = df_heart_disease.quantile(0.10)\n",
    "IQR = Q3 - Q1"
   ]
  },
  {
   "cell_type": "code",
   "execution_count": 14,
   "metadata": {},
   "outputs": [
    {
     "data": {
      "text/plain": [
       "age         -24.0\n",
       "sex          -1.0\n",
       "cp           -2.0\n",
       "trestbps    -42.0\n",
       "chol       -120.8\n",
       "fbs          -1.0\n",
       "restecg      -1.0\n",
       "thalach     -60.6\n",
       "exang        -1.0\n",
       "oldpeak      -2.8\n",
       "slope        -1.0\n",
       "ca           -2.0\n",
       "thal         -1.0\n",
       "target       -1.0\n",
       "dtype: float64"
      ]
     },
     "execution_count": 14,
     "metadata": {},
     "output_type": "execute_result"
    }
   ],
   "source": [
    "IQR"
   ]
  },
  {
   "cell_type": "code",
   "execution_count": 15,
   "metadata": {},
   "outputs": [],
   "source": [
    "df_heart_disease_IQR = (df_heart_disease < (Q1 - 1.5 * IQR)) |(df_heart_disease > (Q3 + 1.5 * IQR))"
   ]
  },
  {
   "cell_type": "code",
   "execution_count": 16,
   "metadata": {},
   "outputs": [
    {
     "data": {
      "text/html": [
       "<div>\n",
       "<style scoped>\n",
       "    .dataframe tbody tr th:only-of-type {\n",
       "        vertical-align: middle;\n",
       "    }\n",
       "\n",
       "    .dataframe tbody tr th {\n",
       "        vertical-align: top;\n",
       "    }\n",
       "\n",
       "    .dataframe thead th {\n",
       "        text-align: right;\n",
       "    }\n",
       "</style>\n",
       "<table border=\"1\" class=\"dataframe\">\n",
       "  <thead>\n",
       "    <tr style=\"text-align: right;\">\n",
       "      <th></th>\n",
       "      <th>age</th>\n",
       "      <th>sex</th>\n",
       "      <th>cp</th>\n",
       "      <th>trestbps</th>\n",
       "      <th>chol</th>\n",
       "      <th>fbs</th>\n",
       "      <th>restecg</th>\n",
       "      <th>thalach</th>\n",
       "      <th>exang</th>\n",
       "      <th>oldpeak</th>\n",
       "      <th>slope</th>\n",
       "      <th>ca</th>\n",
       "      <th>thal</th>\n",
       "      <th>target</th>\n",
       "    </tr>\n",
       "  </thead>\n",
       "  <tbody>\n",
       "    <tr>\n",
       "      <th>0</th>\n",
       "      <td>True</td>\n",
       "      <td>True</td>\n",
       "      <td>True</td>\n",
       "      <td>True</td>\n",
       "      <td>True</td>\n",
       "      <td>True</td>\n",
       "      <td>True</td>\n",
       "      <td>True</td>\n",
       "      <td>True</td>\n",
       "      <td>True</td>\n",
       "      <td>True</td>\n",
       "      <td>True</td>\n",
       "      <td>True</td>\n",
       "      <td>True</td>\n",
       "    </tr>\n",
       "    <tr>\n",
       "      <th>1</th>\n",
       "      <td>True</td>\n",
       "      <td>True</td>\n",
       "      <td>True</td>\n",
       "      <td>True</td>\n",
       "      <td>True</td>\n",
       "      <td>True</td>\n",
       "      <td>True</td>\n",
       "      <td>True</td>\n",
       "      <td>True</td>\n",
       "      <td>True</td>\n",
       "      <td>True</td>\n",
       "      <td>True</td>\n",
       "      <td>True</td>\n",
       "      <td>True</td>\n",
       "    </tr>\n",
       "    <tr>\n",
       "      <th>2</th>\n",
       "      <td>True</td>\n",
       "      <td>True</td>\n",
       "      <td>True</td>\n",
       "      <td>True</td>\n",
       "      <td>True</td>\n",
       "      <td>True</td>\n",
       "      <td>True</td>\n",
       "      <td>True</td>\n",
       "      <td>True</td>\n",
       "      <td>True</td>\n",
       "      <td>True</td>\n",
       "      <td>True</td>\n",
       "      <td>True</td>\n",
       "      <td>True</td>\n",
       "    </tr>\n",
       "    <tr>\n",
       "      <th>3</th>\n",
       "      <td>True</td>\n",
       "      <td>True</td>\n",
       "      <td>True</td>\n",
       "      <td>True</td>\n",
       "      <td>True</td>\n",
       "      <td>True</td>\n",
       "      <td>True</td>\n",
       "      <td>True</td>\n",
       "      <td>True</td>\n",
       "      <td>True</td>\n",
       "      <td>True</td>\n",
       "      <td>True</td>\n",
       "      <td>True</td>\n",
       "      <td>True</td>\n",
       "    </tr>\n",
       "    <tr>\n",
       "      <th>4</th>\n",
       "      <td>True</td>\n",
       "      <td>True</td>\n",
       "      <td>True</td>\n",
       "      <td>True</td>\n",
       "      <td>True</td>\n",
       "      <td>True</td>\n",
       "      <td>True</td>\n",
       "      <td>True</td>\n",
       "      <td>True</td>\n",
       "      <td>True</td>\n",
       "      <td>True</td>\n",
       "      <td>True</td>\n",
       "      <td>True</td>\n",
       "      <td>True</td>\n",
       "    </tr>\n",
       "    <tr>\n",
       "      <th>...</th>\n",
       "      <td>...</td>\n",
       "      <td>...</td>\n",
       "      <td>...</td>\n",
       "      <td>...</td>\n",
       "      <td>...</td>\n",
       "      <td>...</td>\n",
       "      <td>...</td>\n",
       "      <td>...</td>\n",
       "      <td>...</td>\n",
       "      <td>...</td>\n",
       "      <td>...</td>\n",
       "      <td>...</td>\n",
       "      <td>...</td>\n",
       "      <td>...</td>\n",
       "    </tr>\n",
       "    <tr>\n",
       "      <th>298</th>\n",
       "      <td>True</td>\n",
       "      <td>True</td>\n",
       "      <td>True</td>\n",
       "      <td>True</td>\n",
       "      <td>True</td>\n",
       "      <td>True</td>\n",
       "      <td>True</td>\n",
       "      <td>True</td>\n",
       "      <td>True</td>\n",
       "      <td>True</td>\n",
       "      <td>True</td>\n",
       "      <td>True</td>\n",
       "      <td>True</td>\n",
       "      <td>True</td>\n",
       "    </tr>\n",
       "    <tr>\n",
       "      <th>299</th>\n",
       "      <td>True</td>\n",
       "      <td>True</td>\n",
       "      <td>True</td>\n",
       "      <td>True</td>\n",
       "      <td>True</td>\n",
       "      <td>True</td>\n",
       "      <td>True</td>\n",
       "      <td>True</td>\n",
       "      <td>True</td>\n",
       "      <td>True</td>\n",
       "      <td>True</td>\n",
       "      <td>True</td>\n",
       "      <td>True</td>\n",
       "      <td>True</td>\n",
       "    </tr>\n",
       "    <tr>\n",
       "      <th>300</th>\n",
       "      <td>True</td>\n",
       "      <td>True</td>\n",
       "      <td>True</td>\n",
       "      <td>True</td>\n",
       "      <td>True</td>\n",
       "      <td>True</td>\n",
       "      <td>True</td>\n",
       "      <td>True</td>\n",
       "      <td>True</td>\n",
       "      <td>True</td>\n",
       "      <td>True</td>\n",
       "      <td>True</td>\n",
       "      <td>True</td>\n",
       "      <td>True</td>\n",
       "    </tr>\n",
       "    <tr>\n",
       "      <th>301</th>\n",
       "      <td>True</td>\n",
       "      <td>True</td>\n",
       "      <td>True</td>\n",
       "      <td>True</td>\n",
       "      <td>True</td>\n",
       "      <td>True</td>\n",
       "      <td>True</td>\n",
       "      <td>True</td>\n",
       "      <td>True</td>\n",
       "      <td>True</td>\n",
       "      <td>True</td>\n",
       "      <td>True</td>\n",
       "      <td>True</td>\n",
       "      <td>True</td>\n",
       "    </tr>\n",
       "    <tr>\n",
       "      <th>302</th>\n",
       "      <td>True</td>\n",
       "      <td>True</td>\n",
       "      <td>True</td>\n",
       "      <td>True</td>\n",
       "      <td>True</td>\n",
       "      <td>True</td>\n",
       "      <td>True</td>\n",
       "      <td>True</td>\n",
       "      <td>True</td>\n",
       "      <td>True</td>\n",
       "      <td>True</td>\n",
       "      <td>True</td>\n",
       "      <td>True</td>\n",
       "      <td>True</td>\n",
       "    </tr>\n",
       "  </tbody>\n",
       "</table>\n",
       "<p>303 rows × 14 columns</p>\n",
       "</div>"
      ],
      "text/plain": [
       "      age   sex    cp  trestbps  chol   fbs  restecg  thalach  exang  oldpeak  \\\n",
       "0    True  True  True      True  True  True     True     True   True     True   \n",
       "1    True  True  True      True  True  True     True     True   True     True   \n",
       "2    True  True  True      True  True  True     True     True   True     True   \n",
       "3    True  True  True      True  True  True     True     True   True     True   \n",
       "4    True  True  True      True  True  True     True     True   True     True   \n",
       "..    ...   ...   ...       ...   ...   ...      ...      ...    ...      ...   \n",
       "298  True  True  True      True  True  True     True     True   True     True   \n",
       "299  True  True  True      True  True  True     True     True   True     True   \n",
       "300  True  True  True      True  True  True     True     True   True     True   \n",
       "301  True  True  True      True  True  True     True     True   True     True   \n",
       "302  True  True  True      True  True  True     True     True   True     True   \n",
       "\n",
       "     slope    ca  thal  target  \n",
       "0     True  True  True    True  \n",
       "1     True  True  True    True  \n",
       "2     True  True  True    True  \n",
       "3     True  True  True    True  \n",
       "4     True  True  True    True  \n",
       "..     ...   ...   ...     ...  \n",
       "298   True  True  True    True  \n",
       "299   True  True  True    True  \n",
       "300   True  True  True    True  \n",
       "301   True  True  True    True  \n",
       "302   True  True  True    True  \n",
       "\n",
       "[303 rows x 14 columns]"
      ]
     },
     "execution_count": 16,
     "metadata": {},
     "output_type": "execute_result"
    }
   ],
   "source": [
    "df_heart_disease_IQR"
   ]
  },
  {
   "cell_type": "markdown",
   "metadata": {},
   "source": [
    "### Drop Column which holds outlier"
   ]
  },
  {
   "cell_type": "code",
   "execution_count": 17,
   "metadata": {
    "scrolled": true
   },
   "outputs": [
    {
     "data": {
      "text/plain": [
       "[]"
      ]
     },
     "execution_count": 17,
     "metadata": {},
     "output_type": "execute_result"
    }
   ],
   "source": [
    "Row_with_outliers = df_heart_disease_IQR.all(axis=0)\n",
    "indx = Row_with_outliers[Row_with_outliers== False].index.to_list()\n",
    "indx"
   ]
  },
  {
   "cell_type": "code",
   "execution_count": 18,
   "metadata": {},
   "outputs": [],
   "source": [
    "df_heart_disease = df_heart_disease.drop(indx, axis = 1)"
   ]
  },
  {
   "cell_type": "code",
   "execution_count": 19,
   "metadata": {},
   "outputs": [],
   "source": [
    "df_heart_disease.reset_index(drop=True, inplace=True)"
   ]
  },
  {
   "cell_type": "code",
   "execution_count": 20,
   "metadata": {},
   "outputs": [
    {
     "data": {
      "text/html": [
       "<div>\n",
       "<style scoped>\n",
       "    .dataframe tbody tr th:only-of-type {\n",
       "        vertical-align: middle;\n",
       "    }\n",
       "\n",
       "    .dataframe tbody tr th {\n",
       "        vertical-align: top;\n",
       "    }\n",
       "\n",
       "    .dataframe thead th {\n",
       "        text-align: right;\n",
       "    }\n",
       "</style>\n",
       "<table border=\"1\" class=\"dataframe\">\n",
       "  <thead>\n",
       "    <tr style=\"text-align: right;\">\n",
       "      <th></th>\n",
       "      <th>age</th>\n",
       "      <th>sex</th>\n",
       "      <th>cp</th>\n",
       "      <th>trestbps</th>\n",
       "      <th>chol</th>\n",
       "      <th>fbs</th>\n",
       "      <th>restecg</th>\n",
       "      <th>thalach</th>\n",
       "      <th>exang</th>\n",
       "      <th>oldpeak</th>\n",
       "      <th>slope</th>\n",
       "      <th>ca</th>\n",
       "      <th>thal</th>\n",
       "      <th>target</th>\n",
       "    </tr>\n",
       "  </thead>\n",
       "  <tbody>\n",
       "    <tr>\n",
       "      <th>0</th>\n",
       "      <td>63</td>\n",
       "      <td>1</td>\n",
       "      <td>3</td>\n",
       "      <td>145</td>\n",
       "      <td>233</td>\n",
       "      <td>1</td>\n",
       "      <td>0</td>\n",
       "      <td>150</td>\n",
       "      <td>0</td>\n",
       "      <td>2.3</td>\n",
       "      <td>0</td>\n",
       "      <td>0</td>\n",
       "      <td>1</td>\n",
       "      <td>1</td>\n",
       "    </tr>\n",
       "    <tr>\n",
       "      <th>1</th>\n",
       "      <td>37</td>\n",
       "      <td>1</td>\n",
       "      <td>2</td>\n",
       "      <td>130</td>\n",
       "      <td>250</td>\n",
       "      <td>0</td>\n",
       "      <td>1</td>\n",
       "      <td>187</td>\n",
       "      <td>0</td>\n",
       "      <td>3.5</td>\n",
       "      <td>0</td>\n",
       "      <td>0</td>\n",
       "      <td>2</td>\n",
       "      <td>1</td>\n",
       "    </tr>\n",
       "    <tr>\n",
       "      <th>2</th>\n",
       "      <td>41</td>\n",
       "      <td>0</td>\n",
       "      <td>1</td>\n",
       "      <td>130</td>\n",
       "      <td>204</td>\n",
       "      <td>0</td>\n",
       "      <td>0</td>\n",
       "      <td>172</td>\n",
       "      <td>0</td>\n",
       "      <td>1.4</td>\n",
       "      <td>2</td>\n",
       "      <td>0</td>\n",
       "      <td>2</td>\n",
       "      <td>1</td>\n",
       "    </tr>\n",
       "    <tr>\n",
       "      <th>3</th>\n",
       "      <td>56</td>\n",
       "      <td>1</td>\n",
       "      <td>1</td>\n",
       "      <td>120</td>\n",
       "      <td>236</td>\n",
       "      <td>0</td>\n",
       "      <td>1</td>\n",
       "      <td>178</td>\n",
       "      <td>0</td>\n",
       "      <td>0.8</td>\n",
       "      <td>2</td>\n",
       "      <td>0</td>\n",
       "      <td>2</td>\n",
       "      <td>1</td>\n",
       "    </tr>\n",
       "    <tr>\n",
       "      <th>4</th>\n",
       "      <td>57</td>\n",
       "      <td>0</td>\n",
       "      <td>0</td>\n",
       "      <td>120</td>\n",
       "      <td>354</td>\n",
       "      <td>0</td>\n",
       "      <td>1</td>\n",
       "      <td>163</td>\n",
       "      <td>1</td>\n",
       "      <td>0.6</td>\n",
       "      <td>2</td>\n",
       "      <td>0</td>\n",
       "      <td>2</td>\n",
       "      <td>1</td>\n",
       "    </tr>\n",
       "  </tbody>\n",
       "</table>\n",
       "</div>"
      ],
      "text/plain": [
       "   age  sex  cp  trestbps  chol  fbs  restecg  thalach  exang  oldpeak  slope  \\\n",
       "0   63    1   3       145   233    1        0      150      0      2.3      0   \n",
       "1   37    1   2       130   250    0        1      187      0      3.5      0   \n",
       "2   41    0   1       130   204    0        0      172      0      1.4      2   \n",
       "3   56    1   1       120   236    0        1      178      0      0.8      2   \n",
       "4   57    0   0       120   354    0        1      163      1      0.6      2   \n",
       "\n",
       "   ca  thal  target  \n",
       "0   0     1       1  \n",
       "1   0     2       1  \n",
       "2   0     2       1  \n",
       "3   0     2       1  \n",
       "4   0     2       1  "
      ]
     },
     "execution_count": 20,
     "metadata": {},
     "output_type": "execute_result"
    }
   ],
   "source": [
    "df_heart_disease.head()"
   ]
  },
  {
   "cell_type": "code",
   "execution_count": 21,
   "metadata": {},
   "outputs": [
    {
     "data": {
      "image/png": "[encoded data removed]",
      "text/plain": [
       "<Figure size 1440x1080 with 1 Axes>"
      ]
     },
     "metadata": {},
     "output_type": "display_data"
    }
   ],
   "source": [
    "fig, out_fig = plt.subplots(figsize = (20,15))\n",
    "plt.xticks(rotation=45)\n",
    "out_fig = sns.boxplot(data = df_heart_disease, orient=\"h\", palette=\"crest\")"
   ]
  },
  {
   "cell_type": "code",
   "execution_count": 22,
   "metadata": {},
   "outputs": [
    {
     "data": {
      "image/png": "[encoded data removed]",
      "text/plain": [
       "<Figure size 720x720 with 14 Axes>"
      ]
     },
     "metadata": {},
     "output_type": "display_data"
    }
   ],
   "source": [
    "for i,col in enumerate(df_heart_disease.columns.values):\n",
    "    plt.subplot(5,3,i+1)\n",
    "    plt.scatter([i for i in range(303)],df_heart_disease[col].values.tolist())\n",
    "    plt.title(col)\n",
    "    fig,ax=plt.gcf(),plt.gca()\n",
    "    fig.set_size_inches(10,10)\n",
    "    plt.tight_layout()\n",
    "plt.show()"
   ]
  },
  {
   "cell_type": "code",
   "execution_count": 23,
   "metadata": {
    "scrolled": false
   },
   "outputs": [
    {
     "data": {
      "image/png": "[encoded data removed]",
      "text/plain": [
       "<Figure size 720x1440 with 14 Axes>"
      ]
     },
     "metadata": {
      "needs_background": "light"
     },
     "output_type": "display_data"
    }
   ],
   "source": [
    "%matplotlib inline\n",
    "fig, axis = plt.subplots(7,2,figsize=(10, 20));\n",
    "df_heart_disease.hist(ax=axis);"
   ]
  },
  {
   "cell_type": "code",
   "execution_count": null,
   "metadata": {},
   "outputs": [],
   "source": [
    "categorical_val = []\n",
    "continous_val = []\n",
    "\n",
    "for column in df_heart_disease.columns:\n",
    "    if len(df_heart_disease[column].unique()) <= 15:\n",
    "        categorical_val.append(column)\n",
    "    else:\n",
    "        continous_val.append(column)\n",
    "        \n",
    "plt.figure(figsize=(15, 20))\n",
    "for i, column in enumerate(categorical_val[:-1], 1):\n",
    "    plt.subplot(3, 3, i)\n",
    "    df_heart_disease[df_heart_disease[\"target\"] == 0][column].hist(bins=35, color='blue', label='With Heart Disease', alpha=0.6)\n",
    "    df_heart_disease[df_heart_disease[\"target\"] == 1][column].hist(bins=35, color='red', label='Without Heart Disease', alpha=0.6)\n",
    "    plt.legend()\n",
    "    plt.xlabel(column)\n",
    "    plt.legend(loc='upper right');"
   ]
  },
  {
   "cell_type": "code",
   "execution_count": 24,
   "metadata": {},
   "outputs": [],
   "source": [
    "def data_Sex(sex):\n",
    "    if sex == 0:\n",
    "        return 'female'\n",
    "    else:\n",
    "        return 'male'\n",
    "\n",
    "def data_target(target):\n",
    "    if target == 0:\n",
    "        return 'No Heart Disease'\n",
    "    else:\n",
    "        return 'With Heart Disease'\n",
    "    \n",
    "def data_thal(thal):\n",
    "    if thal == 0:\n",
    "        return 'Non conclusive'\n",
    "    elif thal == 2:\n",
    "        return 'Normal'\n",
    "    elif thal == 1:\n",
    "        return 'Fixed Defect'\n",
    "    else:\n",
    "        return 'Reversible defect'\n",
    "\n",
    "def data_cp(cp):\n",
    "    if cp == 0:\n",
    "        return 'Typical angina'\n",
    "    elif cp == 1:\n",
    "        return 'Atypical angina'\n",
    "    elif cp== 2:\n",
    "        return 'Non-anginal pain'\n",
    "    else:\n",
    "        return 'Asymptomatic'\n",
    "    \n",
    "def data_restecg(restecg):\n",
    "    if restecg == 1:\n",
    "        return 'Normal'\n",
    "    elif restecg == 0:\n",
    "        return 'left ventricular hypertrophy'\n",
    "    else:\n",
    "        return 'abnormality in ST-T wave'\n",
    "\n",
    "def data_st_slope(slope):\n",
    "    if slope == 0:\n",
    "        return 'downsloping'\n",
    "    elif slope == 1:\n",
    "        return 'flat'\n",
    "    else:\n",
    "        return 'upsloping'\n",
    "\n",
    "def data_age(age):\n",
    "    if age < 30:\n",
    "        return 'young patients'\n",
    "    elif age >= 30 and age < 60:\n",
    "        return 'middle aged patients'\n",
    "    else:\n",
    "        return 'elderly patients'\n",
    "    \n",
    "def data_chol(chol):\n",
    "    if chol < 200:\n",
    "        return 'Normal Cholesterol Level'\n",
    "    else:\n",
    "        return 'High Cholesterol Level'    \n",
    "    \n",
    "df_heart_disease_with_catagoricalData = df_heart_disease.copy()\n",
    "df_heart_disease_with_catagoricalData['sex'] = df_heart_disease['sex'].apply(data_Sex)\n",
    "df_heart_disease_with_catagoricalData['target'] = df_heart_disease['target'].apply(data_target)\n",
    "df_heart_disease_with_catagoricalData['thal'] = df_heart_disease['thal'].apply(data_thal)\n",
    "df_heart_disease_with_catagoricalData['cp'] = df_heart_disease['cp'].apply(data_cp)\n",
    "df_heart_disease_with_catagoricalData['restecg'] = df_heart_disease['restecg'].apply(data_restecg)\n",
    "df_heart_disease_with_catagoricalData['slope'] = df_heart_disease['slope'].apply(data_st_slope)\n",
    "df_heart_disease_with_catagoricalData['age_class'] = df_heart_disease['age'].apply(data_age)\n",
    "df_heart_disease_with_catagoricalData['chol_level'] = df_heart_disease['chol'].apply(data_chol)"
   ]
  },
  {
   "cell_type": "code",
   "execution_count": 25,
   "metadata": {},
   "outputs": [],
   "source": [
    "col_to_move = df_heart_disease_with_catagoricalData.pop('target')\n",
    "df_heart_disease_with_catagoricalData.insert(len(df_heart_disease_with_catagoricalData.columns), 'target', col_to_move)"
   ]
  },
  {
   "cell_type": "code",
   "execution_count": 26,
   "metadata": {},
   "outputs": [
    {
     "data": {
      "text/html": [
       "<div>\n",
       "<style scoped>\n",
       "    .dataframe tbody tr th:only-of-type {\n",
       "        vertical-align: middle;\n",
       "    }\n",
       "\n",
       "    .dataframe tbody tr th {\n",
       "        vertical-align: top;\n",
       "    }\n",
       "\n",
       "    .dataframe thead th {\n",
       "        text-align: right;\n",
       "    }\n",
       "</style>\n",
       "<table border=\"1\" class=\"dataframe\">\n",
       "  <thead>\n",
       "    <tr style=\"text-align: right;\">\n",
       "      <th></th>\n",
       "      <th>age</th>\n",
       "      <th>sex</th>\n",
       "      <th>cp</th>\n",
       "      <th>trestbps</th>\n",
       "      <th>chol</th>\n",
       "      <th>fbs</th>\n",
       "      <th>restecg</th>\n",
       "      <th>thalach</th>\n",
       "      <th>exang</th>\n",
       "      <th>oldpeak</th>\n",
       "      <th>slope</th>\n",
       "      <th>ca</th>\n",
       "      <th>thal</th>\n",
       "      <th>age_class</th>\n",
       "      <th>chol_level</th>\n",
       "      <th>target</th>\n",
       "    </tr>\n",
       "  </thead>\n",
       "  <tbody>\n",
       "    <tr>\n",
       "      <th>0</th>\n",
       "      <td>63</td>\n",
       "      <td>male</td>\n",
       "      <td>Asymptomatic</td>\n",
       "      <td>145</td>\n",
       "      <td>233</td>\n",
       "      <td>1</td>\n",
       "      <td>left ventricular hypertrophy</td>\n",
       "      <td>150</td>\n",
       "      <td>0</td>\n",
       "      <td>2.3</td>\n",
       "      <td>downsloping</td>\n",
       "      <td>0</td>\n",
       "      <td>Fixed Defect</td>\n",
       "      <td>elderly patients</td>\n",
       "      <td>High Cholesterol Level</td>\n",
       "      <td>With Heart Disease</td>\n",
       "    </tr>\n",
       "    <tr>\n",
       "      <th>1</th>\n",
       "      <td>37</td>\n",
       "      <td>male</td>\n",
       "      <td>Non-anginal pain</td>\n",
       "      <td>130</td>\n",
       "      <td>250</td>\n",
       "      <td>0</td>\n",
       "      <td>Normal</td>\n",
       "      <td>187</td>\n",
       "      <td>0</td>\n",
       "      <td>3.5</td>\n",
       "      <td>downsloping</td>\n",
       "      <td>0</td>\n",
       "      <td>Normal</td>\n",
       "      <td>middle aged patients</td>\n",
       "      <td>High Cholesterol Level</td>\n",
       "      <td>With Heart Disease</td>\n",
       "    </tr>\n",
       "    <tr>\n",
       "      <th>2</th>\n",
       "      <td>41</td>\n",
       "      <td>female</td>\n",
       "      <td>Atypical angina</td>\n",
       "      <td>130</td>\n",
       "      <td>204</td>\n",
       "      <td>0</td>\n",
       "      <td>left ventricular hypertrophy</td>\n",
       "      <td>172</td>\n",
       "      <td>0</td>\n",
       "      <td>1.4</td>\n",
       "      <td>upsloping</td>\n",
       "      <td>0</td>\n",
       "      <td>Normal</td>\n",
       "      <td>middle aged patients</td>\n",
       "      <td>High Cholesterol Level</td>\n",
       "      <td>With Heart Disease</td>\n",
       "    </tr>\n",
       "    <tr>\n",
       "      <th>3</th>\n",
       "      <td>56</td>\n",
       "      <td>male</td>\n",
       "      <td>Atypical angina</td>\n",
       "      <td>120</td>\n",
       "      <td>236</td>\n",
       "      <td>0</td>\n",
       "      <td>Normal</td>\n",
       "      <td>178</td>\n",
       "      <td>0</td>\n",
       "      <td>0.8</td>\n",
       "      <td>upsloping</td>\n",
       "      <td>0</td>\n",
       "      <td>Normal</td>\n",
       "      <td>middle aged patients</td>\n",
       "      <td>High Cholesterol Level</td>\n",
       "      <td>With Heart Disease</td>\n",
       "    </tr>\n",
       "    <tr>\n",
       "      <th>4</th>\n",
       "      <td>57</td>\n",
       "      <td>female</td>\n",
       "      <td>Typical angina</td>\n",
       "      <td>120</td>\n",
       "      <td>354</td>\n",
       "      <td>0</td>\n",
       "      <td>Normal</td>\n",
       "      <td>163</td>\n",
       "      <td>1</td>\n",
       "      <td>0.6</td>\n",
       "      <td>upsloping</td>\n",
       "      <td>0</td>\n",
       "      <td>Normal</td>\n",
       "      <td>middle aged patients</td>\n",
       "      <td>High Cholesterol Level</td>\n",
       "      <td>With Heart Disease</td>\n",
       "    </tr>\n",
       "  </tbody>\n",
       "</table>\n",
       "</div>"
      ],
      "text/plain": [
       "   age     sex                cp  trestbps  chol  fbs  \\\n",
       "0   63    male      Asymptomatic       145   233    1   \n",
       "1   37    male  Non-anginal pain       130   250    0   \n",
       "2   41  female   Atypical angina       130   204    0   \n",
       "3   56    male   Atypical angina       120   236    0   \n",
       "4   57  female    Typical angina       120   354    0   \n",
       "\n",
       "                        restecg  thalach  exang  oldpeak        slope  ca  \\\n",
       "0  left ventricular hypertrophy      150      0      2.3  downsloping   0   \n",
       "1                        Normal      187      0      3.5  downsloping   0   \n",
       "2  left ventricular hypertrophy      172      0      1.4    upsloping   0   \n",
       "3                        Normal      178      0      0.8    upsloping   0   \n",
       "4                        Normal      163      1      0.6    upsloping   0   \n",
       "\n",
       "           thal             age_class              chol_level  \\\n",
       "0  Fixed Defect      elderly patients  High Cholesterol Level   \n",
       "1        Normal  middle aged patients  High Cholesterol Level   \n",
       "2        Normal  middle aged patients  High Cholesterol Level   \n",
       "3        Normal  middle aged patients  High Cholesterol Level   \n",
       "4        Normal  middle aged patients  High Cholesterol Level   \n",
       "\n",
       "               target  \n",
       "0  With Heart Disease  \n",
       "1  With Heart Disease  \n",
       "2  With Heart Disease  \n",
       "3  With Heart Disease  \n",
       "4  With Heart Disease  "
      ]
     },
     "execution_count": 26,
     "metadata": {},
     "output_type": "execute_result"
    }
   ],
   "source": [
    "df_heart_disease_with_catagoricalData.head()"
   ]
  },
  {
   "cell_type": "code",
   "execution_count": null,
   "metadata": {},
   "outputs": [],
   "source": [
    "sns.set(rc={'figure.figsize':(6,5), 'xtick.labelsize':10})\n",
    "sns.countplot(data= df_heart_disease_with_catagoricalData, x='age_class',hue='target')\n",
    "plt.title('Relationship between age and risk of heart disease \\n');\n",
    "plt.legend(loc='upper right');"
   ]
  },
  {
   "cell_type": "code",
   "execution_count": null,
   "metadata": {
    "scrolled": false
   },
   "outputs": [],
   "source": [
    "sns.set(rc={'figure.figsize':(15, 7)})\n",
    "sns.countplot(data= df_heart_disease_with_catagoricalData[df_heart_disease_with_catagoricalData['target']=='With Heart Disease'], x='age',hue='sex')\n",
    "plt.title('Relationship between gender and risk of heart disease at all age \\n');\n",
    "plt.legend(loc='upper right');"
   ]
  },
  {
   "cell_type": "code",
   "execution_count": null,
   "metadata": {},
   "outputs": [],
   "source": [
    "sns.set(rc={'figure.figsize':(6,5), 'xtick.labelsize':10})\n",
    "plot_ = sns.countplot(data= df_heart_disease_with_catagoricalData[df_heart_disease_with_catagoricalData['target']=='With Heart Disease'], x='chol_level', hue='sex')\n",
    "plt.title('Relationship between gender and risk of heart disease at all age with varying cholesterollevel \\n');\n",
    "plt.tight_layout();\n",
    "plt.legend(loc='upper right');"
   ]
  },
  {
   "cell_type": "code",
   "execution_count": null,
   "metadata": {},
   "outputs": [],
   "source": [
    "sns.set(rc={'figure.figsize':(6, 5), 'xtick.labelsize':10})\n",
    "plot_ = sns.countplot(data= df_heart_disease_with_catagoricalData, x='chol_level', hue='target')\n",
    "plt.tight_layout();\n",
    "plt.legend(loc='upper right');"
   ]
  },
  {
   "cell_type": "code",
   "execution_count": null,
   "metadata": {},
   "outputs": [],
   "source": [
    "sns.set(rc={'figure.figsize':(6, 5), 'xtick.labelsize':10})\n",
    "sns.countplot(data= df_heart_disease_with_catagoricalData[df_heart_disease_with_catagoricalData['target'] == 'With Heart Disease'], x='sex',hue='thal')\n",
    "plt.title('Relationship between gender and risk of heart disorder \"thalassemia\" \\n');\n",
    "plt.legend(loc='upper right');"
   ]
  },
  {
   "cell_type": "code",
   "execution_count": null,
   "metadata": {},
   "outputs": [],
   "source": [
    "sns.set(rc={'figure.figsize':(6, 5), 'xtick.labelsize':10})\n",
    "sns.countplot(data= df_heart_disease_with_catagoricalData, x='cp',hue='target')\n",
    "plt.title('Chest Pain varying with existence of heart disease \\n');\n",
    "plt.legend(loc='upper right');"
   ]
  },
  {
   "cell_type": "code",
   "execution_count": null,
   "metadata": {
    "scrolled": false
   },
   "outputs": [],
   "source": [
    "sns.set(rc={'figure.figsize':(6, 5), 'xtick.labelsize':10})\n",
    "sns.countplot(data= df_heart_disease_with_catagoricalData, x='chol_level',hue='target')\n",
    "plt.title('Effect of cholesterol level and  heart disease \\n');"
   ]
  },
  {
   "cell_type": "code",
   "execution_count": null,
   "metadata": {
    "scrolled": true
   },
   "outputs": [],
   "source": [
    "sns.countplot(data= df_heart_disease_with_catagoricalData, x='restecg',hue='target')\n",
    "plt.title('Resting electrocardiographic measurement varying with existence of heart disease \\n');"
   ]
  },
  {
   "cell_type": "code",
   "execution_count": null,
   "metadata": {},
   "outputs": [],
   "source": [
    "plt.figure(figsize=(10,5))\n",
    "sns.pointplot(x=df_heart_disease['age'],y=df_heart_disease['thalach'],color='red',alpha=0.8)\n",
    "plt.xlabel('Age',fontsize = 15,color='blue')\n",
    "plt.xticks(rotation=45)\n",
    "plt.ylabel('Thalach',fontsize = 15,color='blue')\n",
    "plt.title('Age vs Thalach',fontsize = 15,color='blue')\n",
    "plt.grid()\n",
    "plt.show()"
   ]
  },
  {
   "cell_type": "code",
   "execution_count": null,
   "metadata": {
    "scrolled": true
   },
   "outputs": [],
   "source": [
    "plt.figure(figsize=(10,5))\n",
    "sns.pointplot(x=df_heart_disease['age'],y=df_heart_disease['chol'],color='red', alpha=0.8)\n",
    "plt.xlabel('Age',fontsize = 15,color='blue')\n",
    "plt.xticks(rotation=45)\n",
    "plt.ylabel('Chol',fontsize = 15,color='blue')\n",
    "plt.title('Age vs Chol',fontsize = 15,color='blue')\n",
    "plt.grid()\n",
    "plt.show()"
   ]
  },
  {
   "cell_type": "code",
   "execution_count": null,
   "metadata": {
    "scrolled": true
   },
   "outputs": [],
   "source": [
    "plt.figure(figsize=(10,5))\n",
    "sns.pointplot(x=df_heart_disease['age'],y=df_heart_disease['oldpeak'],color='red', alpha=0.8)\n",
    "plt.xlabel('Age',fontsize = 15,color='blue')\n",
    "plt.xticks(rotation=45)\n",
    "plt.ylabel('Chol',fontsize = 15,color='blue')\n",
    "plt.title('Age vs oldpeak',fontsize = 15,color='blue')\n",
    "plt.grid()\n",
    "plt.show()"
   ]
  },
  {
   "cell_type": "code",
   "execution_count": null,
   "metadata": {},
   "outputs": [],
   "source": [
    "plt.figure(figsize=(10,5))\n",
    "sns.pointplot(x=df_heart_disease['age'],y=df_heart_disease['trestbps'],color='red', alpha=0.8)\n",
    "plt.xlabel('Age',fontsize = 15,color='blue')\n",
    "plt.xticks(rotation=45)\n",
    "plt.ylabel('trestbps',fontsize = 15,color='blue')\n",
    "plt.title('Age vs trestbps',fontsize = 15,color='blue')\n",
    "plt.grid()\n",
    "plt.show()"
   ]
  },
  {
   "cell_type": "code",
   "execution_count": null,
   "metadata": {
    "scrolled": false
   },
   "outputs": [],
   "source": [
    "plt.figure(figsize=(14,7))\n",
    "sns.heatmap(df_heart_disease.drop('target', axis=1).corr(),annot=True,cmap=\"magma\",fmt='.2f');"
   ]
  },
  {
   "cell_type": "code",
   "execution_count": null,
   "metadata": {
    "scrolled": false
   },
   "outputs": [],
   "source": [
    "import hvplot.pandas\n",
    "\n",
    "df_heart_disease.drop('target', axis=1).corrwith(df_heart_disease.target).hvplot.barh(\n",
    "    width=600, height=400, \n",
    "    title=\"Correlation between Heart Disease and Feature Vector\", \n",
    "    ylabel='Correlation', xlabel='Feature Vector',\n",
    ")"
   ]
  },
  {
   "cell_type": "markdown",
   "metadata": {},
   "source": [
    "### Features are not highly correlated. So it is reasonable to use these features to the machine learning model."
   ]
  },
  {
   "cell_type": "markdown",
   "metadata": {},
   "source": [
    "# *Important Feature Selection*:\n",
    "### Univariate Feature Selection"
   ]
  },
  {
   "cell_type": "code",
   "execution_count": 27,
   "metadata": {},
   "outputs": [],
   "source": [
    "#Top  x% features to consider\n",
    "fraction_of_top_features = 0.8\n",
    "\n",
    "X = df_heart_disease.drop('target', axis=1)\n",
    "y = df_heart_disease['target']\n",
    "X_train, X_test,y_train,y_test = train_test_split(X, y, test_size=0.25, random_state=42)\n",
    "\n",
    "transformer = Normalizer()\n",
    "X_train_scaled = transformer.fit_transform(X_train)\n",
    "X_test_scaled = transformer.transform(X_test)"
   ]
  },
  {
   "cell_type": "code",
   "execution_count": 28,
   "metadata": {},
   "outputs": [
    {
     "data": {
      "text/plain": [
       "Index(['thalach', 'restecg', 'oldpeak', 'age', 'ca', 'cp', 'exang', 'thal',\n",
       "       'chol', 'slope', 'sex', 'trestbps', 'fbs'],\n",
       "      dtype='object')"
      ]
     },
     "execution_count": 28,
     "metadata": {},
     "output_type": "execute_result"
    }
   ],
   "source": [
    "from sklearn.feature_selection import SelectKBest, chi2\n",
    "UV_model = SelectKBest(chi2, k='all').fit(X_train_scaled, y_train)\n",
    "mask = np.argsort(np.flip(UV_model.scores_)) #list of booleans for selected features\n",
    "best_features_SKBest = [] \n",
    "best_features_SKBest = X_train.columns[mask]  \n",
    "\n",
    "best_features_SKBest"
   ]
  },
  {
   "cell_type": "markdown",
   "metadata": {},
   "source": [
    "### Recursive feature elimination with Random Forest Classifier"
   ]
  },
  {
   "cell_type": "code",
   "execution_count": 29,
   "metadata": {
    "scrolled": false
   },
   "outputs": [
    {
     "data": {
      "image/png": "[encoded data removed]",
      "text/plain": [
       "<Figure size 864x432 with 1 Axes>"
      ]
     },
     "metadata": {
      "needs_background": "light"
     },
     "output_type": "display_data"
    }
   ],
   "source": [
    "from sklearn.ensemble import RandomForestClassifier\n",
    "from sklearn.inspection import permutation_importance\n",
    "\n",
    "model_rf = RandomForestClassifier(n_estimators=1500, max_depth=5)\n",
    "model_rf.fit(X_train_scaled, y_train)\n",
    "\n",
    "feature_importance = model_rf.feature_importances_\n",
    "sorted_idx = np.argsort(feature_importance)\n",
    "fig = plt.figure(figsize=(12, 6))\n",
    "plt.barh(range(len(sorted_idx)), feature_importance[sorted_idx], align='center')\n",
    "plt.yticks(range(len(sorted_idx)), np.array(X_train.columns)[sorted_idx])\n",
    "plt.title('Feature Importance')\n",
    "\n",
    "best_features_rf= X_train.columns[np.flip(sorted_idx)]\n",
    "best_features_rf = best_features_rf[:int(fraction_of_top_features*len(best_features_rf))]"
   ]
  },
  {
   "cell_type": "code",
   "execution_count": 30,
   "metadata": {},
   "outputs": [
    {
     "name": "stdout",
     "output_type": "stream",
     "text": [
      "[16:15:57] WARNING: /Users/runner/work/xgboost/xgboost/src/learner.cc:1115: Starting in XGBoost 1.3.0, the default evaluation metric used with the objective 'binary:logistic' was changed from 'error' to 'logloss'. Explicitly set eval_metric if you'd like to restore the old behavior.\n"
     ]
    },
    {
     "data": {
      "image/png": "[encoded data removed]",
      "text/plain": [
       "<Figure size 864x432 with 1 Axes>"
      ]
     },
     "metadata": {
      "needs_background": "light"
     },
     "output_type": "display_data"
    }
   ],
   "source": [
    "from sklearn.inspection import permutation_importance\n",
    "import xgboost as xgb\n",
    "\n",
    "model_xgb = xgb.XGBClassifier(n_estimators=1500, max_depth=5, eta=0.05)\n",
    "model_xgb.fit(X_train_scaled, y_train)\n",
    "\n",
    "feature_importance = model_xgb.feature_importances_\n",
    "sorted_idx = np.argsort(feature_importance)\n",
    "fig = plt.figure(figsize=(12, 6))\n",
    "plt.barh(range(len(sorted_idx)), feature_importance[sorted_idx], align='center')\n",
    "plt.yticks(range(len(sorted_idx)), np.array(X_train.columns)[sorted_idx])\n",
    "plt.title('Feature Importance')\n",
    "\n",
    "best_features_xgb = X_train.columns[np.flip(sorted_idx)]\n",
    "best_features_xgb = best_features_xgb[:int(fraction_of_top_features*len(best_features_xgb))]"
   ]
  },
  {
   "cell_type": "markdown",
   "metadata": {},
   "source": [
    "### Recursive feature elimination with XGBoost Classifier"
   ]
  },
  {
   "cell_type": "code",
   "execution_count": 31,
   "metadata": {},
   "outputs": [],
   "source": [
    "best_feature_list = list(set.intersection(set(best_features_SKBest), set(best_features_rf), set(best_features_xgb)))"
   ]
  },
  {
   "cell_type": "markdown",
   "metadata": {},
   "source": [
    "### Use PCA to see how many features are important:"
   ]
  },
  {
   "cell_type": "code",
   "execution_count": 32,
   "metadata": {},
   "outputs": [
    {
     "data": {
      "image/png": "[encoded data removed]",
      "text/plain": [
       "<Figure size 432x288 with 1 Axes>"
      ]
     },
     "metadata": {
      "needs_background": "light"
     },
     "output_type": "display_data"
    }
   ],
   "source": [
    "from sklearn.decomposition import PCA\n",
    "\n",
    "pca = PCA(n_components = len(X_train.columns)).fit(X_train_scaled)\n",
    "\n",
    "plt.plot(pca.explained_variance_ratio_.cumsum(), lw=3, color='#087E8B')\n",
    "plt.title('Significance of principal components', size=20)\n",
    "plt.show()"
   ]
  },
  {
   "cell_type": "markdown",
   "metadata": {},
   "source": [
    "Based on PCA seems like first 4 features are significant"
   ]
  },
  {
   "cell_type": "markdown",
   "metadata": {},
   "source": [
    "### Best Feature Set:"
   ]
  },
  {
   "cell_type": "code",
   "execution_count": 33,
   "metadata": {
    "scrolled": true
   },
   "outputs": [
    {
     "data": {
      "text/plain": [
       "['cp', 'age', 'sex', 'slope', 'ca', 'exang', 'oldpeak', 'thal', 'thalach']"
      ]
     },
     "execution_count": 33,
     "metadata": {},
     "output_type": "execute_result"
    }
   ],
   "source": [
    "best_feature_list"
   ]
  },
  {
   "cell_type": "markdown",
   "metadata": {},
   "source": [
    "### Visualizing simple decision tree based classification using ***Best Feature Set***"
   ]
  },
  {
   "cell_type": "code",
   "execution_count": 34,
   "metadata": {},
   "outputs": [
    {
     "data": {
      "image/png": "[encoded data removed]",
      "text/plain": [
       "<IPython.core.display.Image object>"
      ]
     },
     "execution_count": 34,
     "metadata": {},
     "output_type": "execute_result"
    }
   ],
   "source": [
    "from sklearn.tree import export_graphviz\n",
    "from sklearn.tree import DecisionTreeClassifier\n",
    "from six import StringIO \n",
    "from IPython.display import Image  \n",
    "import pydotplus\n",
    "\n",
    "clf = DecisionTreeClassifier(criterion=\"entropy\", max_depth=5)\n",
    "clf = clf.fit(X_train[best_feature_list],y_train)\n",
    "\n",
    "dot_data = StringIO()\n",
    "export_graphviz(clf, out_file=dot_data,  \n",
    "                filled=False, rounded=True,\n",
    "                special_characters=True,feature_names = X_train[best_feature_list].columns  ,class_names=['No Heart Risk','With Heart Risk'])\n",
    "graph = pydotplus.graph_from_dot_data(dot_data.getvalue())  \n",
    "Image(graph.create_png())"
   ]
  },
  {
   "cell_type": "markdown",
   "metadata": {},
   "source": [
    "# ML Model Development for heart risk detection"
   ]
  },
  {
   "cell_type": "markdown",
   "metadata": {},
   "source": [
    "## *PyCaret AutoML based classification for heart risk*"
   ]
  },
  {
   "cell_type": "markdown",
   "metadata": {},
   "source": [
    "### Get a tuned model that has comparatively highest accuracy:\n",
    "Use features with numerical values only ***df_heart_disease***"
   ]
  },
  {
   "cell_type": "markdown",
   "metadata": {},
   "source": [
    "### Use extracted best features from these schemes. \n",
    "***best_feature_list***"
   ]
  },
  {
   "cell_type": "code",
   "execution_count": 35,
   "metadata": {},
   "outputs": [],
   "source": [
    "X_train = X_train[best_feature_list]\n",
    "X_test  = X_test[best_feature_list]"
   ]
  },
  {
   "cell_type": "code",
   "execution_count": 61,
   "metadata": {},
   "outputs": [],
   "source": [
    "df_heart_disease_with_catagoricalData = df_heart_disease_with_catagoricalData[best_feature_list + ['target']]"
   ]
  },
  {
   "cell_type": "code",
   "execution_count": 62,
   "metadata": {
    "scrolled": false
   },
   "outputs": [],
   "source": [
    "from pycaret.classification import *"
   ]
  },
  {
   "cell_type": "code",
   "execution_count": 63,
   "metadata": {
    "scrolled": false
   },
   "outputs": [
    {
     "data": {
      "text/html": [
       "<style type=\"text/css\">\n",
       "#T_88b75_row19_col1, #T_88b75_row44_col1 {\n",
       "  background-color: lightgreen;\n",
       "}\n",
       "</style>\n",
       "<table id=\"T_88b75\">\n",
       "  <thead>\n",
       "    <tr>\n",
       "      <th class=\"blank level0\" >&nbsp;</th>\n",
       "      <th id=\"T_88b75_level0_col0\" class=\"col_heading level0 col0\" >Description</th>\n",
       "      <th id=\"T_88b75_level0_col1\" class=\"col_heading level0 col1\" >Value</th>\n",
       "    </tr>\n",
       "  </thead>\n",
       "  <tbody>\n",
       "    <tr>\n",
       "      <th id=\"T_88b75_level0_row0\" class=\"row_heading level0 row0\" >0</th>\n",
       "      <td id=\"T_88b75_row0_col0\" class=\"data row0 col0\" >session_id</td>\n",
       "      <td id=\"T_88b75_row0_col1\" class=\"data row0 col1\" >123</td>\n",
       "    </tr>\n",
       "    <tr>\n",
       "      <th id=\"T_88b75_level0_row1\" class=\"row_heading level0 row1\" >1</th>\n",
       "      <td id=\"T_88b75_row1_col0\" class=\"data row1 col0\" >Target</td>\n",
       "      <td id=\"T_88b75_row1_col1\" class=\"data row1 col1\" >target</td>\n",
       "    </tr>\n",
       "    <tr>\n",
       "      <th id=\"T_88b75_level0_row2\" class=\"row_heading level0 row2\" >2</th>\n",
       "      <td id=\"T_88b75_row2_col0\" class=\"data row2 col0\" >Target Type</td>\n",
       "      <td id=\"T_88b75_row2_col1\" class=\"data row2 col1\" >Binary</td>\n",
       "    </tr>\n",
       "    <tr>\n",
       "      <th id=\"T_88b75_level0_row3\" class=\"row_heading level0 row3\" >3</th>\n",
       "      <td id=\"T_88b75_row3_col0\" class=\"data row3 col0\" >Label Encoded</td>\n",
       "      <td id=\"T_88b75_row3_col1\" class=\"data row3 col1\" >No Heart Disease: 0, With Heart Disease: 1</td>\n",
       "    </tr>\n",
       "    <tr>\n",
       "      <th id=\"T_88b75_level0_row4\" class=\"row_heading level0 row4\" >4</th>\n",
       "      <td id=\"T_88b75_row4_col0\" class=\"data row4 col0\" >Original Data</td>\n",
       "      <td id=\"T_88b75_row4_col1\" class=\"data row4 col1\" >(303, 10)</td>\n",
       "    </tr>\n",
       "    <tr>\n",
       "      <th id=\"T_88b75_level0_row5\" class=\"row_heading level0 row5\" >5</th>\n",
       "      <td id=\"T_88b75_row5_col0\" class=\"data row5 col0\" >Missing Values</td>\n",
       "      <td id=\"T_88b75_row5_col1\" class=\"data row5 col1\" >False</td>\n",
       "    </tr>\n",
       "    <tr>\n",
       "      <th id=\"T_88b75_level0_row6\" class=\"row_heading level0 row6\" >6</th>\n",
       "      <td id=\"T_88b75_row6_col0\" class=\"data row6 col0\" >Numeric Features</td>\n",
       "      <td id=\"T_88b75_row6_col1\" class=\"data row6 col1\" >3</td>\n",
       "    </tr>\n",
       "    <tr>\n",
       "      <th id=\"T_88b75_level0_row7\" class=\"row_heading level0 row7\" >7</th>\n",
       "      <td id=\"T_88b75_row7_col0\" class=\"data row7 col0\" >Categorical Features</td>\n",
       "      <td id=\"T_88b75_row7_col1\" class=\"data row7 col1\" >6</td>\n",
       "    </tr>\n",
       "    <tr>\n",
       "      <th id=\"T_88b75_level0_row8\" class=\"row_heading level0 row8\" >8</th>\n",
       "      <td id=\"T_88b75_row8_col0\" class=\"data row8 col0\" >Ordinal Features</td>\n",
       "      <td id=\"T_88b75_row8_col1\" class=\"data row8 col1\" >False</td>\n",
       "    </tr>\n",
       "    <tr>\n",
       "      <th id=\"T_88b75_level0_row9\" class=\"row_heading level0 row9\" >9</th>\n",
       "      <td id=\"T_88b75_row9_col0\" class=\"data row9 col0\" >High Cardinality Features</td>\n",
       "      <td id=\"T_88b75_row9_col1\" class=\"data row9 col1\" >False</td>\n",
       "    </tr>\n",
       "    <tr>\n",
       "      <th id=\"T_88b75_level0_row10\" class=\"row_heading level0 row10\" >10</th>\n",
       "      <td id=\"T_88b75_row10_col0\" class=\"data row10 col0\" >High Cardinality Method</td>\n",
       "      <td id=\"T_88b75_row10_col1\" class=\"data row10 col1\" >None</td>\n",
       "    </tr>\n",
       "    <tr>\n",
       "      <th id=\"T_88b75_level0_row11\" class=\"row_heading level0 row11\" >11</th>\n",
       "      <td id=\"T_88b75_row11_col0\" class=\"data row11 col0\" >Transformed Train Set</td>\n",
       "      <td id=\"T_88b75_row11_col1\" class=\"data row11 col1\" >(212, 21)</td>\n",
       "    </tr>\n",
       "    <tr>\n",
       "      <th id=\"T_88b75_level0_row12\" class=\"row_heading level0 row12\" >12</th>\n",
       "      <td id=\"T_88b75_row12_col0\" class=\"data row12 col0\" >Transformed Test Set</td>\n",
       "      <td id=\"T_88b75_row12_col1\" class=\"data row12 col1\" >(91, 21)</td>\n",
       "    </tr>\n",
       "    <tr>\n",
       "      <th id=\"T_88b75_level0_row13\" class=\"row_heading level0 row13\" >13</th>\n",
       "      <td id=\"T_88b75_row13_col0\" class=\"data row13 col0\" >Shuffle Train-Test</td>\n",
       "      <td id=\"T_88b75_row13_col1\" class=\"data row13 col1\" >True</td>\n",
       "    </tr>\n",
       "    <tr>\n",
       "      <th id=\"T_88b75_level0_row14\" class=\"row_heading level0 row14\" >14</th>\n",
       "      <td id=\"T_88b75_row14_col0\" class=\"data row14 col0\" >Stratify Train-Test</td>\n",
       "      <td id=\"T_88b75_row14_col1\" class=\"data row14 col1\" >False</td>\n",
       "    </tr>\n",
       "    <tr>\n",
       "      <th id=\"T_88b75_level0_row15\" class=\"row_heading level0 row15\" >15</th>\n",
       "      <td id=\"T_88b75_row15_col0\" class=\"data row15 col0\" >Fold Generator</td>\n",
       "      <td id=\"T_88b75_row15_col1\" class=\"data row15 col1\" >StratifiedKFold</td>\n",
       "    </tr>\n",
       "    <tr>\n",
       "      <th id=\"T_88b75_level0_row16\" class=\"row_heading level0 row16\" >16</th>\n",
       "      <td id=\"T_88b75_row16_col0\" class=\"data row16 col0\" >Fold Number</td>\n",
       "      <td id=\"T_88b75_row16_col1\" class=\"data row16 col1\" >10</td>\n",
       "    </tr>\n",
       "    <tr>\n",
       "      <th id=\"T_88b75_level0_row17\" class=\"row_heading level0 row17\" >17</th>\n",
       "      <td id=\"T_88b75_row17_col0\" class=\"data row17 col0\" >CPU Jobs</td>\n",
       "      <td id=\"T_88b75_row17_col1\" class=\"data row17 col1\" >-1</td>\n",
       "    </tr>\n",
       "    <tr>\n",
       "      <th id=\"T_88b75_level0_row18\" class=\"row_heading level0 row18\" >18</th>\n",
       "      <td id=\"T_88b75_row18_col0\" class=\"data row18 col0\" >Use GPU</td>\n",
       "      <td id=\"T_88b75_row18_col1\" class=\"data row18 col1\" >False</td>\n",
       "    </tr>\n",
       "    <tr>\n",
       "      <th id=\"T_88b75_level0_row19\" class=\"row_heading level0 row19\" >19</th>\n",
       "      <td id=\"T_88b75_row19_col0\" class=\"data row19 col0\" >Log Experiment</td>\n",
       "      <td id=\"T_88b75_row19_col1\" class=\"data row19 col1\" >True</td>\n",
       "    </tr>\n",
       "    <tr>\n",
       "      <th id=\"T_88b75_level0_row20\" class=\"row_heading level0 row20\" >20</th>\n",
       "      <td id=\"T_88b75_row20_col0\" class=\"data row20 col0\" >Experiment Name</td>\n",
       "      <td id=\"T_88b75_row20_col1\" class=\"data row20 col1\" >Hear_risk</td>\n",
       "    </tr>\n",
       "    <tr>\n",
       "      <th id=\"T_88b75_level0_row21\" class=\"row_heading level0 row21\" >21</th>\n",
       "      <td id=\"T_88b75_row21_col0\" class=\"data row21 col0\" >USI</td>\n",
       "      <td id=\"T_88b75_row21_col1\" class=\"data row21 col1\" >720d</td>\n",
       "    </tr>\n",
       "    <tr>\n",
       "      <th id=\"T_88b75_level0_row22\" class=\"row_heading level0 row22\" >22</th>\n",
       "      <td id=\"T_88b75_row22_col0\" class=\"data row22 col0\" >Imputation Type</td>\n",
       "      <td id=\"T_88b75_row22_col1\" class=\"data row22 col1\" >simple</td>\n",
       "    </tr>\n",
       "    <tr>\n",
       "      <th id=\"T_88b75_level0_row23\" class=\"row_heading level0 row23\" >23</th>\n",
       "      <td id=\"T_88b75_row23_col0\" class=\"data row23 col0\" >Iterative Imputation Iteration</td>\n",
       "      <td id=\"T_88b75_row23_col1\" class=\"data row23 col1\" >None</td>\n",
       "    </tr>\n",
       "    <tr>\n",
       "      <th id=\"T_88b75_level0_row24\" class=\"row_heading level0 row24\" >24</th>\n",
       "      <td id=\"T_88b75_row24_col0\" class=\"data row24 col0\" >Numeric Imputer</td>\n",
       "      <td id=\"T_88b75_row24_col1\" class=\"data row24 col1\" >mean</td>\n",
       "    </tr>\n",
       "    <tr>\n",
       "      <th id=\"T_88b75_level0_row25\" class=\"row_heading level0 row25\" >25</th>\n",
       "      <td id=\"T_88b75_row25_col0\" class=\"data row25 col0\" >Iterative Imputation Numeric Model</td>\n",
       "      <td id=\"T_88b75_row25_col1\" class=\"data row25 col1\" >None</td>\n",
       "    </tr>\n",
       "    <tr>\n",
       "      <th id=\"T_88b75_level0_row26\" class=\"row_heading level0 row26\" >26</th>\n",
       "      <td id=\"T_88b75_row26_col0\" class=\"data row26 col0\" >Categorical Imputer</td>\n",
       "      <td id=\"T_88b75_row26_col1\" class=\"data row26 col1\" >constant</td>\n",
       "    </tr>\n",
       "    <tr>\n",
       "      <th id=\"T_88b75_level0_row27\" class=\"row_heading level0 row27\" >27</th>\n",
       "      <td id=\"T_88b75_row27_col0\" class=\"data row27 col0\" >Iterative Imputation Categorical Model</td>\n",
       "      <td id=\"T_88b75_row27_col1\" class=\"data row27 col1\" >None</td>\n",
       "    </tr>\n",
       "    <tr>\n",
       "      <th id=\"T_88b75_level0_row28\" class=\"row_heading level0 row28\" >28</th>\n",
       "      <td id=\"T_88b75_row28_col0\" class=\"data row28 col0\" >Unknown Categoricals Handling</td>\n",
       "      <td id=\"T_88b75_row28_col1\" class=\"data row28 col1\" >least_frequent</td>\n",
       "    </tr>\n",
       "    <tr>\n",
       "      <th id=\"T_88b75_level0_row29\" class=\"row_heading level0 row29\" >29</th>\n",
       "      <td id=\"T_88b75_row29_col0\" class=\"data row29 col0\" >Normalize</td>\n",
       "      <td id=\"T_88b75_row29_col1\" class=\"data row29 col1\" >False</td>\n",
       "    </tr>\n",
       "    <tr>\n",
       "      <th id=\"T_88b75_level0_row30\" class=\"row_heading level0 row30\" >30</th>\n",
       "      <td id=\"T_88b75_row30_col0\" class=\"data row30 col0\" >Normalize Method</td>\n",
       "      <td id=\"T_88b75_row30_col1\" class=\"data row30 col1\" >None</td>\n",
       "    </tr>\n",
       "    <tr>\n",
       "      <th id=\"T_88b75_level0_row31\" class=\"row_heading level0 row31\" >31</th>\n",
       "      <td id=\"T_88b75_row31_col0\" class=\"data row31 col0\" >Transformation</td>\n",
       "      <td id=\"T_88b75_row31_col1\" class=\"data row31 col1\" >False</td>\n",
       "    </tr>\n",
       "    <tr>\n",
       "      <th id=\"T_88b75_level0_row32\" class=\"row_heading level0 row32\" >32</th>\n",
       "      <td id=\"T_88b75_row32_col0\" class=\"data row32 col0\" >Transformation Method</td>\n",
       "      <td id=\"T_88b75_row32_col1\" class=\"data row32 col1\" >None</td>\n",
       "    </tr>\n",
       "    <tr>\n",
       "      <th id=\"T_88b75_level0_row33\" class=\"row_heading level0 row33\" >33</th>\n",
       "      <td id=\"T_88b75_row33_col0\" class=\"data row33 col0\" >PCA</td>\n",
       "      <td id=\"T_88b75_row33_col1\" class=\"data row33 col1\" >False</td>\n",
       "    </tr>\n",
       "    <tr>\n",
       "      <th id=\"T_88b75_level0_row34\" class=\"row_heading level0 row34\" >34</th>\n",
       "      <td id=\"T_88b75_row34_col0\" class=\"data row34 col0\" >PCA Method</td>\n",
       "      <td id=\"T_88b75_row34_col1\" class=\"data row34 col1\" >None</td>\n",
       "    </tr>\n",
       "    <tr>\n",
       "      <th id=\"T_88b75_level0_row35\" class=\"row_heading level0 row35\" >35</th>\n",
       "      <td id=\"T_88b75_row35_col0\" class=\"data row35 col0\" >PCA Components</td>\n",
       "      <td id=\"T_88b75_row35_col1\" class=\"data row35 col1\" >None</td>\n",
       "    </tr>\n",
       "    <tr>\n",
       "      <th id=\"T_88b75_level0_row36\" class=\"row_heading level0 row36\" >36</th>\n",
       "      <td id=\"T_88b75_row36_col0\" class=\"data row36 col0\" >Ignore Low Variance</td>\n",
       "      <td id=\"T_88b75_row36_col1\" class=\"data row36 col1\" >False</td>\n",
       "    </tr>\n",
       "    <tr>\n",
       "      <th id=\"T_88b75_level0_row37\" class=\"row_heading level0 row37\" >37</th>\n",
       "      <td id=\"T_88b75_row37_col0\" class=\"data row37 col0\" >Combine Rare Levels</td>\n",
       "      <td id=\"T_88b75_row37_col1\" class=\"data row37 col1\" >False</td>\n",
       "    </tr>\n",
       "    <tr>\n",
       "      <th id=\"T_88b75_level0_row38\" class=\"row_heading level0 row38\" >38</th>\n",
       "      <td id=\"T_88b75_row38_col0\" class=\"data row38 col0\" >Rare Level Threshold</td>\n",
       "      <td id=\"T_88b75_row38_col1\" class=\"data row38 col1\" >None</td>\n",
       "    </tr>\n",
       "    <tr>\n",
       "      <th id=\"T_88b75_level0_row39\" class=\"row_heading level0 row39\" >39</th>\n",
       "      <td id=\"T_88b75_row39_col0\" class=\"data row39 col0\" >Numeric Binning</td>\n",
       "      <td id=\"T_88b75_row39_col1\" class=\"data row39 col1\" >False</td>\n",
       "    </tr>\n",
       "    <tr>\n",
       "      <th id=\"T_88b75_level0_row40\" class=\"row_heading level0 row40\" >40</th>\n",
       "      <td id=\"T_88b75_row40_col0\" class=\"data row40 col0\" >Remove Outliers</td>\n",
       "      <td id=\"T_88b75_row40_col1\" class=\"data row40 col1\" >False</td>\n",
       "    </tr>\n",
       "    <tr>\n",
       "      <th id=\"T_88b75_level0_row41\" class=\"row_heading level0 row41\" >41</th>\n",
       "      <td id=\"T_88b75_row41_col0\" class=\"data row41 col0\" >Outliers Threshold</td>\n",
       "      <td id=\"T_88b75_row41_col1\" class=\"data row41 col1\" >None</td>\n",
       "    </tr>\n",
       "    <tr>\n",
       "      <th id=\"T_88b75_level0_row42\" class=\"row_heading level0 row42\" >42</th>\n",
       "      <td id=\"T_88b75_row42_col0\" class=\"data row42 col0\" >Remove Multicollinearity</td>\n",
       "      <td id=\"T_88b75_row42_col1\" class=\"data row42 col1\" >False</td>\n",
       "    </tr>\n",
       "    <tr>\n",
       "      <th id=\"T_88b75_level0_row43\" class=\"row_heading level0 row43\" >43</th>\n",
       "      <td id=\"T_88b75_row43_col0\" class=\"data row43 col0\" >Multicollinearity Threshold</td>\n",
       "      <td id=\"T_88b75_row43_col1\" class=\"data row43 col1\" >None</td>\n",
       "    </tr>\n",
       "    <tr>\n",
       "      <th id=\"T_88b75_level0_row44\" class=\"row_heading level0 row44\" >44</th>\n",
       "      <td id=\"T_88b75_row44_col0\" class=\"data row44 col0\" >Remove Perfect Collinearity</td>\n",
       "      <td id=\"T_88b75_row44_col1\" class=\"data row44 col1\" >True</td>\n",
       "    </tr>\n",
       "    <tr>\n",
       "      <th id=\"T_88b75_level0_row45\" class=\"row_heading level0 row45\" >45</th>\n",
       "      <td id=\"T_88b75_row45_col0\" class=\"data row45 col0\" >Clustering</td>\n",
       "      <td id=\"T_88b75_row45_col1\" class=\"data row45 col1\" >False</td>\n",
       "    </tr>\n",
       "    <tr>\n",
       "      <th id=\"T_88b75_level0_row46\" class=\"row_heading level0 row46\" >46</th>\n",
       "      <td id=\"T_88b75_row46_col0\" class=\"data row46 col0\" >Clustering Iteration</td>\n",
       "      <td id=\"T_88b75_row46_col1\" class=\"data row46 col1\" >None</td>\n",
       "    </tr>\n",
       "    <tr>\n",
       "      <th id=\"T_88b75_level0_row47\" class=\"row_heading level0 row47\" >47</th>\n",
       "      <td id=\"T_88b75_row47_col0\" class=\"data row47 col0\" >Polynomial Features</td>\n",
       "      <td id=\"T_88b75_row47_col1\" class=\"data row47 col1\" >False</td>\n",
       "    </tr>\n",
       "    <tr>\n",
       "      <th id=\"T_88b75_level0_row48\" class=\"row_heading level0 row48\" >48</th>\n",
       "      <td id=\"T_88b75_row48_col0\" class=\"data row48 col0\" >Polynomial Degree</td>\n",
       "      <td id=\"T_88b75_row48_col1\" class=\"data row48 col1\" >None</td>\n",
       "    </tr>\n",
       "    <tr>\n",
       "      <th id=\"T_88b75_level0_row49\" class=\"row_heading level0 row49\" >49</th>\n",
       "      <td id=\"T_88b75_row49_col0\" class=\"data row49 col0\" >Trignometry Features</td>\n",
       "      <td id=\"T_88b75_row49_col1\" class=\"data row49 col1\" >False</td>\n",
       "    </tr>\n",
       "    <tr>\n",
       "      <th id=\"T_88b75_level0_row50\" class=\"row_heading level0 row50\" >50</th>\n",
       "      <td id=\"T_88b75_row50_col0\" class=\"data row50 col0\" >Polynomial Threshold</td>\n",
       "      <td id=\"T_88b75_row50_col1\" class=\"data row50 col1\" >None</td>\n",
       "    </tr>\n",
       "    <tr>\n",
       "      <th id=\"T_88b75_level0_row51\" class=\"row_heading level0 row51\" >51</th>\n",
       "      <td id=\"T_88b75_row51_col0\" class=\"data row51 col0\" >Group Features</td>\n",
       "      <td id=\"T_88b75_row51_col1\" class=\"data row51 col1\" >False</td>\n",
       "    </tr>\n",
       "    <tr>\n",
       "      <th id=\"T_88b75_level0_row52\" class=\"row_heading level0 row52\" >52</th>\n",
       "      <td id=\"T_88b75_row52_col0\" class=\"data row52 col0\" >Feature Selection</td>\n",
       "      <td id=\"T_88b75_row52_col1\" class=\"data row52 col1\" >False</td>\n",
       "    </tr>\n",
       "    <tr>\n",
       "      <th id=\"T_88b75_level0_row53\" class=\"row_heading level0 row53\" >53</th>\n",
       "      <td id=\"T_88b75_row53_col0\" class=\"data row53 col0\" >Feature Selection Method</td>\n",
       "      <td id=\"T_88b75_row53_col1\" class=\"data row53 col1\" >classic</td>\n",
       "    </tr>\n",
       "    <tr>\n",
       "      <th id=\"T_88b75_level0_row54\" class=\"row_heading level0 row54\" >54</th>\n",
       "      <td id=\"T_88b75_row54_col0\" class=\"data row54 col0\" >Features Selection Threshold</td>\n",
       "      <td id=\"T_88b75_row54_col1\" class=\"data row54 col1\" >None</td>\n",
       "    </tr>\n",
       "    <tr>\n",
       "      <th id=\"T_88b75_level0_row55\" class=\"row_heading level0 row55\" >55</th>\n",
       "      <td id=\"T_88b75_row55_col0\" class=\"data row55 col0\" >Feature Interaction</td>\n",
       "      <td id=\"T_88b75_row55_col1\" class=\"data row55 col1\" >False</td>\n",
       "    </tr>\n",
       "    <tr>\n",
       "      <th id=\"T_88b75_level0_row56\" class=\"row_heading level0 row56\" >56</th>\n",
       "      <td id=\"T_88b75_row56_col0\" class=\"data row56 col0\" >Feature Ratio</td>\n",
       "      <td id=\"T_88b75_row56_col1\" class=\"data row56 col1\" >False</td>\n",
       "    </tr>\n",
       "    <tr>\n",
       "      <th id=\"T_88b75_level0_row57\" class=\"row_heading level0 row57\" >57</th>\n",
       "      <td id=\"T_88b75_row57_col0\" class=\"data row57 col0\" >Interaction Threshold</td>\n",
       "      <td id=\"T_88b75_row57_col1\" class=\"data row57 col1\" >None</td>\n",
       "    </tr>\n",
       "    <tr>\n",
       "      <th id=\"T_88b75_level0_row58\" class=\"row_heading level0 row58\" >58</th>\n",
       "      <td id=\"T_88b75_row58_col0\" class=\"data row58 col0\" >Fix Imbalance</td>\n",
       "      <td id=\"T_88b75_row58_col1\" class=\"data row58 col1\" >False</td>\n",
       "    </tr>\n",
       "    <tr>\n",
       "      <th id=\"T_88b75_level0_row59\" class=\"row_heading level0 row59\" >59</th>\n",
       "      <td id=\"T_88b75_row59_col0\" class=\"data row59 col0\" >Fix Imbalance Method</td>\n",
       "      <td id=\"T_88b75_row59_col1\" class=\"data row59 col1\" >SMOTE</td>\n",
       "    </tr>\n",
       "  </tbody>\n",
       "</table>\n"
      ],
      "text/plain": [
       "<pandas.io.formats.style.Styler at 0x150b20f70>"
      ]
     },
     "metadata": {},
     "output_type": "display_data"
    }
   ],
   "source": [
    "caret_mdl = setup(df_heart_disease_with_catagoricalData, target = 'target', session_id=123, log_experiment=True, experiment_name='Hear_risk')"
   ]
  },
  {
   "cell_type": "code",
   "execution_count": 64,
   "metadata": {
    "scrolled": false
   },
   "outputs": [
    {
     "data": {
      "text/html": [
       "<style type=\"text/css\">\n",
       "#T_4e4be th {\n",
       "  text-align: left;\n",
       "}\n",
       "#T_4e4be_row0_col0, #T_4e4be_row0_col3, #T_4e4be_row0_col4, #T_4e4be_row1_col0, #T_4e4be_row1_col1, #T_4e4be_row1_col2, #T_4e4be_row1_col3, #T_4e4be_row1_col4, #T_4e4be_row1_col5, #T_4e4be_row1_col6, #T_4e4be_row1_col7, #T_4e4be_row2_col0, #T_4e4be_row2_col1, #T_4e4be_row2_col2, #T_4e4be_row2_col3, #T_4e4be_row2_col4, #T_4e4be_row2_col5, #T_4e4be_row2_col6, #T_4e4be_row2_col7, #T_4e4be_row3_col0, #T_4e4be_row3_col1, #T_4e4be_row3_col2, #T_4e4be_row3_col3, #T_4e4be_row3_col4, #T_4e4be_row3_col5, #T_4e4be_row3_col6, #T_4e4be_row3_col7, #T_4e4be_row4_col0, #T_4e4be_row4_col1, #T_4e4be_row4_col2, #T_4e4be_row4_col3, #T_4e4be_row4_col4, #T_4e4be_row4_col5, #T_4e4be_row4_col6, #T_4e4be_row4_col7, #T_4e4be_row5_col0, #T_4e4be_row5_col1, #T_4e4be_row5_col2, #T_4e4be_row5_col3, #T_4e4be_row5_col4, #T_4e4be_row5_col5, #T_4e4be_row5_col6, #T_4e4be_row5_col7, #T_4e4be_row6_col0, #T_4e4be_row6_col1, #T_4e4be_row6_col2, #T_4e4be_row6_col3, #T_4e4be_row6_col4, #T_4e4be_row6_col5, #T_4e4be_row6_col6, #T_4e4be_row6_col7, #T_4e4be_row7_col0, #T_4e4be_row7_col1, #T_4e4be_row7_col2, #T_4e4be_row7_col3, #T_4e4be_row7_col4, #T_4e4be_row7_col5, #T_4e4be_row7_col6, #T_4e4be_row7_col7, #T_4e4be_row8_col0, #T_4e4be_row8_col1, #T_4e4be_row8_col2, #T_4e4be_row8_col3, #T_4e4be_row8_col4, #T_4e4be_row8_col5, #T_4e4be_row8_col6, #T_4e4be_row8_col7, #T_4e4be_row9_col0, #T_4e4be_row9_col1, #T_4e4be_row9_col2, #T_4e4be_row9_col3, #T_4e4be_row9_col4, #T_4e4be_row9_col5, #T_4e4be_row9_col6, #T_4e4be_row9_col7, #T_4e4be_row10_col0, #T_4e4be_row10_col1, #T_4e4be_row10_col2, #T_4e4be_row10_col3, #T_4e4be_row10_col4, #T_4e4be_row10_col5, #T_4e4be_row10_col6, #T_4e4be_row10_col7, #T_4e4be_row11_col0, #T_4e4be_row11_col1, #T_4e4be_row11_col2, #T_4e4be_row11_col3, #T_4e4be_row11_col5, #T_4e4be_row11_col6, #T_4e4be_row11_col7, #T_4e4be_row12_col0, #T_4e4be_row12_col1, #T_4e4be_row12_col2, #T_4e4be_row12_col3, #T_4e4be_row12_col4, #T_4e4be_row12_col5, #T_4e4be_row12_col6, #T_4e4be_row12_col7, #T_4e4be_row13_col0, #T_4e4be_row13_col1, #T_4e4be_row13_col2, #T_4e4be_row13_col3, #T_4e4be_row13_col4, #T_4e4be_row13_col5, #T_4e4be_row13_col6, #T_4e4be_row13_col7, #T_4e4be_row14_col0, #T_4e4be_row14_col1, #T_4e4be_row14_col2, #T_4e4be_row14_col4, #T_4e4be_row14_col5, #T_4e4be_row14_col6, #T_4e4be_row14_col7, #T_4e4be_row15_col0, #T_4e4be_row15_col1, #T_4e4be_row15_col2, #T_4e4be_row15_col3, #T_4e4be_row15_col4, #T_4e4be_row15_col5, #T_4e4be_row15_col6, #T_4e4be_row15_col7 {\n",
       "  text-align: left;\n",
       "}\n",
       "#T_4e4be_row0_col1, #T_4e4be_row0_col2, #T_4e4be_row0_col5, #T_4e4be_row0_col6, #T_4e4be_row0_col7, #T_4e4be_row11_col4, #T_4e4be_row14_col3 {\n",
       "  text-align: left;\n",
       "  background-color: yellow;\n",
       "}\n",
       "#T_4e4be_row0_col8, #T_4e4be_row1_col8, #T_4e4be_row2_col8, #T_4e4be_row3_col8, #T_4e4be_row4_col8, #T_4e4be_row5_col8, #T_4e4be_row6_col8, #T_4e4be_row7_col8, #T_4e4be_row8_col8, #T_4e4be_row9_col8, #T_4e4be_row10_col8, #T_4e4be_row11_col8, #T_4e4be_row12_col8, #T_4e4be_row13_col8, #T_4e4be_row15_col8 {\n",
       "  text-align: left;\n",
       "  background-color: lightgrey;\n",
       "}\n",
       "#T_4e4be_row14_col8 {\n",
       "  text-align: left;\n",
       "  background-color: yellow;\n",
       "  background-color: lightgrey;\n",
       "}\n",
       "</style>\n",
       "<table id=\"T_4e4be\">\n",
       "  <thead>\n",
       "    <tr>\n",
       "      <th class=\"blank level0\" >&nbsp;</th>\n",
       "      <th id=\"T_4e4be_level0_col0\" class=\"col_heading level0 col0\" >Model</th>\n",
       "      <th id=\"T_4e4be_level0_col1\" class=\"col_heading level0 col1\" >Accuracy</th>\n",
       "      <th id=\"T_4e4be_level0_col2\" class=\"col_heading level0 col2\" >AUC</th>\n",
       "      <th id=\"T_4e4be_level0_col3\" class=\"col_heading level0 col3\" >Recall</th>\n",
       "      <th id=\"T_4e4be_level0_col4\" class=\"col_heading level0 col4\" >Prec.</th>\n",
       "      <th id=\"T_4e4be_level0_col5\" class=\"col_heading level0 col5\" >F1</th>\n",
       "      <th id=\"T_4e4be_level0_col6\" class=\"col_heading level0 col6\" >Kappa</th>\n",
       "      <th id=\"T_4e4be_level0_col7\" class=\"col_heading level0 col7\" >MCC</th>\n",
       "      <th id=\"T_4e4be_level0_col8\" class=\"col_heading level0 col8\" >TT (Sec)</th>\n",
       "    </tr>\n",
       "  </thead>\n",
       "  <tbody>\n",
       "    <tr>\n",
       "      <th id=\"T_4e4be_level0_row0\" class=\"row_heading level0 row0\" >lda</th>\n",
       "      <td id=\"T_4e4be_row0_col0\" class=\"data row0 col0\" >Linear Discriminant Analysis</td>\n",
       "      <td id=\"T_4e4be_row0_col1\" class=\"data row0 col1\" >0.8868</td>\n",
       "      <td id=\"T_4e4be_row0_col2\" class=\"data row0 col2\" >0.9200</td>\n",
       "      <td id=\"T_4e4be_row0_col3\" class=\"data row0 col3\" >0.9485</td>\n",
       "      <td id=\"T_4e4be_row0_col4\" class=\"data row0 col4\" >0.8651</td>\n",
       "      <td id=\"T_4e4be_row0_col5\" class=\"data row0 col5\" >0.9039</td>\n",
       "      <td id=\"T_4e4be_row0_col6\" class=\"data row0 col6\" >0.7668</td>\n",
       "      <td id=\"T_4e4be_row0_col7\" class=\"data row0 col7\" >0.7746</td>\n",
       "      <td id=\"T_4e4be_row0_col8\" class=\"data row0 col8\" >0.0060</td>\n",
       "    </tr>\n",
       "    <tr>\n",
       "      <th id=\"T_4e4be_level0_row1\" class=\"row_heading level0 row1\" >ridge</th>\n",
       "      <td id=\"T_4e4be_row1_col0\" class=\"data row1 col0\" >Ridge Classifier</td>\n",
       "      <td id=\"T_4e4be_row1_col1\" class=\"data row1 col1\" >0.8820</td>\n",
       "      <td id=\"T_4e4be_row1_col2\" class=\"data row1 col2\" >0.0000</td>\n",
       "      <td id=\"T_4e4be_row1_col3\" class=\"data row1 col3\" >0.9402</td>\n",
       "      <td id=\"T_4e4be_row1_col4\" class=\"data row1 col4\" >0.8644</td>\n",
       "      <td id=\"T_4e4be_row1_col5\" class=\"data row1 col5\" >0.8995</td>\n",
       "      <td id=\"T_4e4be_row1_col6\" class=\"data row1 col6\" >0.7572</td>\n",
       "      <td id=\"T_4e4be_row1_col7\" class=\"data row1 col7\" >0.7646</td>\n",
       "      <td id=\"T_4e4be_row1_col8\" class=\"data row1 col8\" >0.0060</td>\n",
       "    </tr>\n",
       "    <tr>\n",
       "      <th id=\"T_4e4be_level0_row2\" class=\"row_heading level0 row2\" >lr</th>\n",
       "      <td id=\"T_4e4be_row2_col0\" class=\"data row2 col0\" >Logistic Regression</td>\n",
       "      <td id=\"T_4e4be_row2_col1\" class=\"data row2 col1\" >0.8636</td>\n",
       "      <td id=\"T_4e4be_row2_col2\" class=\"data row2 col2\" >0.9145</td>\n",
       "      <td id=\"T_4e4be_row2_col3\" class=\"data row2 col3\" >0.9235</td>\n",
       "      <td id=\"T_4e4be_row2_col4\" class=\"data row2 col4\" >0.8490</td>\n",
       "      <td id=\"T_4e4be_row2_col5\" class=\"data row2 col5\" >0.8835</td>\n",
       "      <td id=\"T_4e4be_row2_col6\" class=\"data row2 col6\" >0.7198</td>\n",
       "      <td id=\"T_4e4be_row2_col7\" class=\"data row2 col7\" >0.7269</td>\n",
       "      <td id=\"T_4e4be_row2_col8\" class=\"data row2 col8\" >0.0270</td>\n",
       "    </tr>\n",
       "    <tr>\n",
       "      <th id=\"T_4e4be_level0_row3\" class=\"row_heading level0 row3\" >rf</th>\n",
       "      <td id=\"T_4e4be_row3_col0\" class=\"data row3 col0\" >Random Forest Classifier</td>\n",
       "      <td id=\"T_4e4be_row3_col1\" class=\"data row3 col1\" >0.8396</td>\n",
       "      <td id=\"T_4e4be_row3_col2\" class=\"data row3 col2\" >0.9121</td>\n",
       "      <td id=\"T_4e4be_row3_col3\" class=\"data row3 col3\" >0.8902</td>\n",
       "      <td id=\"T_4e4be_row3_col4\" class=\"data row3 col4\" >0.8390</td>\n",
       "      <td id=\"T_4e4be_row3_col5\" class=\"data row3 col5\" >0.8617</td>\n",
       "      <td id=\"T_4e4be_row3_col6\" class=\"data row3 col6\" >0.6709</td>\n",
       "      <td id=\"T_4e4be_row3_col7\" class=\"data row3 col7\" >0.6788</td>\n",
       "      <td id=\"T_4e4be_row3_col8\" class=\"data row3 col8\" >0.0870</td>\n",
       "    </tr>\n",
       "    <tr>\n",
       "      <th id=\"T_4e4be_level0_row4\" class=\"row_heading level0 row4\" >catboost</th>\n",
       "      <td id=\"T_4e4be_row4_col0\" class=\"data row4 col0\" >CatBoost Classifier</td>\n",
       "      <td id=\"T_4e4be_row4_col1\" class=\"data row4 col1\" >0.8258</td>\n",
       "      <td id=\"T_4e4be_row4_col2\" class=\"data row4 col2\" >0.9099</td>\n",
       "      <td id=\"T_4e4be_row4_col3\" class=\"data row4 col3\" >0.8902</td>\n",
       "      <td id=\"T_4e4be_row4_col4\" class=\"data row4 col4\" >0.8191</td>\n",
       "      <td id=\"T_4e4be_row4_col5\" class=\"data row4 col5\" >0.8510</td>\n",
       "      <td id=\"T_4e4be_row4_col6\" class=\"data row4 col6\" >0.6425</td>\n",
       "      <td id=\"T_4e4be_row4_col7\" class=\"data row4 col7\" >0.6516</td>\n",
       "      <td id=\"T_4e4be_row4_col8\" class=\"data row4 col8\" >0.1640</td>\n",
       "    </tr>\n",
       "    <tr>\n",
       "      <th id=\"T_4e4be_level0_row5\" class=\"row_heading level0 row5\" >xgboost</th>\n",
       "      <td id=\"T_4e4be_row5_col0\" class=\"data row5 col0\" >Extreme Gradient Boosting</td>\n",
       "      <td id=\"T_4e4be_row5_col1\" class=\"data row5 col1\" >0.8123</td>\n",
       "      <td id=\"T_4e4be_row5_col2\" class=\"data row5 col2\" >0.8768</td>\n",
       "      <td id=\"T_4e4be_row5_col3\" class=\"data row5 col3\" >0.8735</td>\n",
       "      <td id=\"T_4e4be_row5_col4\" class=\"data row5 col4\" >0.8086</td>\n",
       "      <td id=\"T_4e4be_row5_col5\" class=\"data row5 col5\" >0.8385</td>\n",
       "      <td id=\"T_4e4be_row5_col6\" class=\"data row5 col6\" >0.6155</td>\n",
       "      <td id=\"T_4e4be_row5_col7\" class=\"data row5 col7\" >0.6216</td>\n",
       "      <td id=\"T_4e4be_row5_col8\" class=\"data row5 col8\" >0.1110</td>\n",
       "    </tr>\n",
       "    <tr>\n",
       "      <th id=\"T_4e4be_level0_row6\" class=\"row_heading level0 row6\" >ada</th>\n",
       "      <td id=\"T_4e4be_row6_col0\" class=\"data row6 col0\" >Ada Boost Classifier</td>\n",
       "      <td id=\"T_4e4be_row6_col1\" class=\"data row6 col1\" >0.8074</td>\n",
       "      <td id=\"T_4e4be_row6_col2\" class=\"data row6 col2\" >0.8447</td>\n",
       "      <td id=\"T_4e4be_row6_col3\" class=\"data row6 col3\" >0.8311</td>\n",
       "      <td id=\"T_4e4be_row6_col4\" class=\"data row6 col4\" >0.8297</td>\n",
       "      <td id=\"T_4e4be_row6_col5\" class=\"data row6 col5\" >0.8256</td>\n",
       "      <td id=\"T_4e4be_row6_col6\" class=\"data row6 col6\" >0.6098</td>\n",
       "      <td id=\"T_4e4be_row6_col7\" class=\"data row6 col7\" >0.6203</td>\n",
       "      <td id=\"T_4e4be_row6_col8\" class=\"data row6 col8\" >0.0330</td>\n",
       "    </tr>\n",
       "    <tr>\n",
       "      <th id=\"T_4e4be_level0_row7\" class=\"row_heading level0 row7\" >et</th>\n",
       "      <td id=\"T_4e4be_row7_col0\" class=\"data row7 col0\" >Extra Trees Classifier</td>\n",
       "      <td id=\"T_4e4be_row7_col1\" class=\"data row7 col1\" >0.8074</td>\n",
       "      <td id=\"T_4e4be_row7_col2\" class=\"data row7 col2\" >0.8810</td>\n",
       "      <td id=\"T_4e4be_row7_col3\" class=\"data row7 col3\" >0.8402</td>\n",
       "      <td id=\"T_4e4be_row7_col4\" class=\"data row7 col4\" >0.8272</td>\n",
       "      <td id=\"T_4e4be_row7_col5\" class=\"data row7 col5\" >0.8291</td>\n",
       "      <td id=\"T_4e4be_row7_col6\" class=\"data row7 col6\" >0.6077</td>\n",
       "      <td id=\"T_4e4be_row7_col7\" class=\"data row7 col7\" >0.6181</td>\n",
       "      <td id=\"T_4e4be_row7_col8\" class=\"data row7 col8\" >0.0680</td>\n",
       "    </tr>\n",
       "    <tr>\n",
       "      <th id=\"T_4e4be_level0_row8\" class=\"row_heading level0 row8\" >gbc</th>\n",
       "      <td id=\"T_4e4be_row8_col0\" class=\"data row8 col0\" >Gradient Boosting Classifier</td>\n",
       "      <td id=\"T_4e4be_row8_col1\" class=\"data row8 col1\" >0.7935</td>\n",
       "      <td id=\"T_4e4be_row8_col2\" class=\"data row8 col2\" >0.8723</td>\n",
       "      <td id=\"T_4e4be_row8_col3\" class=\"data row8 col3\" >0.8235</td>\n",
       "      <td id=\"T_4e4be_row8_col4\" class=\"data row8 col4\" >0.8098</td>\n",
       "      <td id=\"T_4e4be_row8_col5\" class=\"data row8 col5\" >0.8145</td>\n",
       "      <td id=\"T_4e4be_row8_col6\" class=\"data row8 col6\" >0.5809</td>\n",
       "      <td id=\"T_4e4be_row8_col7\" class=\"data row8 col7\" >0.5846</td>\n",
       "      <td id=\"T_4e4be_row8_col8\" class=\"data row8 col8\" >0.0270</td>\n",
       "    </tr>\n",
       "    <tr>\n",
       "      <th id=\"T_4e4be_level0_row9\" class=\"row_heading level0 row9\" >lightgbm</th>\n",
       "      <td id=\"T_4e4be_row9_col0\" class=\"data row9 col0\" >Light Gradient Boosting Machine</td>\n",
       "      <td id=\"T_4e4be_row9_col1\" class=\"data row9 col1\" >0.7887</td>\n",
       "      <td id=\"T_4e4be_row9_col2\" class=\"data row9 col2\" >0.8728</td>\n",
       "      <td id=\"T_4e4be_row9_col3\" class=\"data row9 col3\" >0.8227</td>\n",
       "      <td id=\"T_4e4be_row9_col4\" class=\"data row9 col4\" >0.8052</td>\n",
       "      <td id=\"T_4e4be_row9_col5\" class=\"data row9 col5\" >0.8114</td>\n",
       "      <td id=\"T_4e4be_row9_col6\" class=\"data row9 col6\" >0.5714</td>\n",
       "      <td id=\"T_4e4be_row9_col7\" class=\"data row9 col7\" >0.5771</td>\n",
       "      <td id=\"T_4e4be_row9_col8\" class=\"data row9 col8\" >0.2050</td>\n",
       "    </tr>\n",
       "    <tr>\n",
       "      <th id=\"T_4e4be_level0_row10\" class=\"row_heading level0 row10\" >dt</th>\n",
       "      <td id=\"T_4e4be_row10_col0\" class=\"data row10 col0\" >Decision Tree Classifier</td>\n",
       "      <td id=\"T_4e4be_row10_col1\" class=\"data row10 col1\" >0.7799</td>\n",
       "      <td id=\"T_4e4be_row10_col2\" class=\"data row10 col2\" >0.7792</td>\n",
       "      <td id=\"T_4e4be_row10_col3\" class=\"data row10 col3\" >0.7985</td>\n",
       "      <td id=\"T_4e4be_row10_col4\" class=\"data row10 col4\" >0.8170</td>\n",
       "      <td id=\"T_4e4be_row10_col5\" class=\"data row10 col5\" >0.8040</td>\n",
       "      <td id=\"T_4e4be_row10_col6\" class=\"data row10 col6\" >0.5538</td>\n",
       "      <td id=\"T_4e4be_row10_col7\" class=\"data row10 col7\" >0.5590</td>\n",
       "      <td id=\"T_4e4be_row10_col8\" class=\"data row10 col8\" >0.0060</td>\n",
       "    </tr>\n",
       "    <tr>\n",
       "      <th id=\"T_4e4be_level0_row11\" class=\"row_heading level0 row11\" >nb</th>\n",
       "      <td id=\"T_4e4be_row11_col0\" class=\"data row11 col0\" >Naive Bayes</td>\n",
       "      <td id=\"T_4e4be_row11_col1\" class=\"data row11 col1\" >0.6517</td>\n",
       "      <td id=\"T_4e4be_row11_col2\" class=\"data row11 col2\" >0.8933</td>\n",
       "      <td id=\"T_4e4be_row11_col3\" class=\"data row11 col3\" >0.4288</td>\n",
       "      <td id=\"T_4e4be_row11_col4\" class=\"data row11 col4\" >0.9083</td>\n",
       "      <td id=\"T_4e4be_row11_col5\" class=\"data row11 col5\" >0.5581</td>\n",
       "      <td id=\"T_4e4be_row11_col6\" class=\"data row11 col6\" >0.3422</td>\n",
       "      <td id=\"T_4e4be_row11_col7\" class=\"data row11 col7\" >0.4141</td>\n",
       "      <td id=\"T_4e4be_row11_col8\" class=\"data row11 col8\" >0.0060</td>\n",
       "    </tr>\n",
       "    <tr>\n",
       "      <th id=\"T_4e4be_level0_row12\" class=\"row_heading level0 row12\" >svm</th>\n",
       "      <td id=\"T_4e4be_row12_col0\" class=\"data row12 col0\" >SVM - Linear Kernel</td>\n",
       "      <td id=\"T_4e4be_row12_col1\" class=\"data row12 col1\" >0.6472</td>\n",
       "      <td id=\"T_4e4be_row12_col2\" class=\"data row12 col2\" >0.0000</td>\n",
       "      <td id=\"T_4e4be_row12_col3\" class=\"data row12 col3\" >0.8659</td>\n",
       "      <td id=\"T_4e4be_row12_col4\" class=\"data row12 col4\" >0.6632</td>\n",
       "      <td id=\"T_4e4be_row12_col5\" class=\"data row12 col5\" >0.7335</td>\n",
       "      <td id=\"T_4e4be_row12_col6\" class=\"data row12 col6\" >0.2410</td>\n",
       "      <td id=\"T_4e4be_row12_col7\" class=\"data row12 col7\" >0.2592</td>\n",
       "      <td id=\"T_4e4be_row12_col8\" class=\"data row12 col8\" >0.0060</td>\n",
       "    </tr>\n",
       "    <tr>\n",
       "      <th id=\"T_4e4be_level0_row13\" class=\"row_heading level0 row13\" >knn</th>\n",
       "      <td id=\"T_4e4be_row13_col0\" class=\"data row13 col0\" >K Neighbors Classifier</td>\n",
       "      <td id=\"T_4e4be_row13_col1\" class=\"data row13 col1\" >0.6470</td>\n",
       "      <td id=\"T_4e4be_row13_col2\" class=\"data row13 col2\" >0.6893</td>\n",
       "      <td id=\"T_4e4be_row13_col3\" class=\"data row13 col3\" >0.6985</td>\n",
       "      <td id=\"T_4e4be_row13_col4\" class=\"data row13 col4\" >0.6888</td>\n",
       "      <td id=\"T_4e4be_row13_col5\" class=\"data row13 col5\" >0.6883</td>\n",
       "      <td id=\"T_4e4be_row13_col6\" class=\"data row13 col6\" >0.2767</td>\n",
       "      <td id=\"T_4e4be_row13_col7\" class=\"data row13 col7\" >0.2803</td>\n",
       "      <td id=\"T_4e4be_row13_col8\" class=\"data row13 col8\" >0.0090</td>\n",
       "    </tr>\n",
       "    <tr>\n",
       "      <th id=\"T_4e4be_level0_row14\" class=\"row_heading level0 row14\" >dummy</th>\n",
       "      <td id=\"T_4e4be_row14_col0\" class=\"data row14 col0\" >Dummy Classifier</td>\n",
       "      <td id=\"T_4e4be_row14_col1\" class=\"data row14 col1\" >0.5615</td>\n",
       "      <td id=\"T_4e4be_row14_col2\" class=\"data row14 col2\" >0.5000</td>\n",
       "      <td id=\"T_4e4be_row14_col3\" class=\"data row14 col3\" >1.0000</td>\n",
       "      <td id=\"T_4e4be_row14_col4\" class=\"data row14 col4\" >0.5615</td>\n",
       "      <td id=\"T_4e4be_row14_col5\" class=\"data row14 col5\" >0.7190</td>\n",
       "      <td id=\"T_4e4be_row14_col6\" class=\"data row14 col6\" >0.0000</td>\n",
       "      <td id=\"T_4e4be_row14_col7\" class=\"data row14 col7\" >0.0000</td>\n",
       "      <td id=\"T_4e4be_row14_col8\" class=\"data row14 col8\" >0.0050</td>\n",
       "    </tr>\n",
       "    <tr>\n",
       "      <th id=\"T_4e4be_level0_row15\" class=\"row_heading level0 row15\" >qda</th>\n",
       "      <td id=\"T_4e4be_row15_col0\" class=\"data row15 col0\" >Quadratic Discriminant Analysis</td>\n",
       "      <td id=\"T_4e4be_row15_col1\" class=\"data row15 col1\" >0.4385</td>\n",
       "      <td id=\"T_4e4be_row15_col2\" class=\"data row15 col2\" >0.0000</td>\n",
       "      <td id=\"T_4e4be_row15_col3\" class=\"data row15 col3\" >0.0000</td>\n",
       "      <td id=\"T_4e4be_row15_col4\" class=\"data row15 col4\" >0.0000</td>\n",
       "      <td id=\"T_4e4be_row15_col5\" class=\"data row15 col5\" >0.0000</td>\n",
       "      <td id=\"T_4e4be_row15_col6\" class=\"data row15 col6\" >0.0000</td>\n",
       "      <td id=\"T_4e4be_row15_col7\" class=\"data row15 col7\" >0.0000</td>\n",
       "      <td id=\"T_4e4be_row15_col8\" class=\"data row15 col8\" >0.0070</td>\n",
       "    </tr>\n",
       "  </tbody>\n",
       "</table>\n"
      ],
      "text/plain": [
       "<pandas.io.formats.style.Styler at 0x14cdb4580>"
      ]
     },
     "metadata": {},
     "output_type": "display_data"
    }
   ],
   "source": [
    "best_model = compare_models(fold = 10, n_select = 5)"
   ]
  },
  {
   "cell_type": "code",
   "execution_count": 54,
   "metadata": {
    "scrolled": true
   },
   "outputs": [
    {
     "data": {
      "text/html": [
       "<style type=\"text/css\">\n",
       "#T_9c215_row10_col0, #T_9c215_row10_col1, #T_9c215_row10_col2, #T_9c215_row10_col3, #T_9c215_row10_col4, #T_9c215_row10_col5, #T_9c215_row10_col6 {\n",
       "  background: yellow;\n",
       "}\n",
       "</style>\n",
       "<table id=\"T_9c215\">\n",
       "  <thead>\n",
       "    <tr>\n",
       "      <th class=\"blank level0\" >&nbsp;</th>\n",
       "      <th id=\"T_9c215_level0_col0\" class=\"col_heading level0 col0\" >Accuracy</th>\n",
       "      <th id=\"T_9c215_level0_col1\" class=\"col_heading level0 col1\" >AUC</th>\n",
       "      <th id=\"T_9c215_level0_col2\" class=\"col_heading level0 col2\" >Recall</th>\n",
       "      <th id=\"T_9c215_level0_col3\" class=\"col_heading level0 col3\" >Prec.</th>\n",
       "      <th id=\"T_9c215_level0_col4\" class=\"col_heading level0 col4\" >F1</th>\n",
       "      <th id=\"T_9c215_level0_col5\" class=\"col_heading level0 col5\" >Kappa</th>\n",
       "      <th id=\"T_9c215_level0_col6\" class=\"col_heading level0 col6\" >MCC</th>\n",
       "    </tr>\n",
       "    <tr>\n",
       "      <th class=\"index_name level0\" >Fold</th>\n",
       "      <th class=\"blank col0\" >&nbsp;</th>\n",
       "      <th class=\"blank col1\" >&nbsp;</th>\n",
       "      <th class=\"blank col2\" >&nbsp;</th>\n",
       "      <th class=\"blank col3\" >&nbsp;</th>\n",
       "      <th class=\"blank col4\" >&nbsp;</th>\n",
       "      <th class=\"blank col5\" >&nbsp;</th>\n",
       "      <th class=\"blank col6\" >&nbsp;</th>\n",
       "    </tr>\n",
       "  </thead>\n",
       "  <tbody>\n",
       "    <tr>\n",
       "      <th id=\"T_9c215_level0_row0\" class=\"row_heading level0 row0\" >0</th>\n",
       "      <td id=\"T_9c215_row0_col0\" class=\"data row0 col0\" >0.9091</td>\n",
       "      <td id=\"T_9c215_row0_col1\" class=\"data row0 col1\" >0.0000</td>\n",
       "      <td id=\"T_9c215_row0_col2\" class=\"data row0 col2\" >0.9167</td>\n",
       "      <td id=\"T_9c215_row0_col3\" class=\"data row0 col3\" >0.9167</td>\n",
       "      <td id=\"T_9c215_row0_col4\" class=\"data row0 col4\" >0.9167</td>\n",
       "      <td id=\"T_9c215_row0_col5\" class=\"data row0 col5\" >0.8167</td>\n",
       "      <td id=\"T_9c215_row0_col6\" class=\"data row0 col6\" >0.8167</td>\n",
       "    </tr>\n",
       "    <tr>\n",
       "      <th id=\"T_9c215_level0_row1\" class=\"row_heading level0 row1\" >1</th>\n",
       "      <td id=\"T_9c215_row1_col0\" class=\"data row1 col0\" >0.9091</td>\n",
       "      <td id=\"T_9c215_row1_col1\" class=\"data row1 col1\" >0.0000</td>\n",
       "      <td id=\"T_9c215_row1_col2\" class=\"data row1 col2\" >0.9167</td>\n",
       "      <td id=\"T_9c215_row1_col3\" class=\"data row1 col3\" >0.9167</td>\n",
       "      <td id=\"T_9c215_row1_col4\" class=\"data row1 col4\" >0.9167</td>\n",
       "      <td id=\"T_9c215_row1_col5\" class=\"data row1 col5\" >0.8167</td>\n",
       "      <td id=\"T_9c215_row1_col6\" class=\"data row1 col6\" >0.8167</td>\n",
       "    </tr>\n",
       "    <tr>\n",
       "      <th id=\"T_9c215_level0_row2\" class=\"row_heading level0 row2\" >2</th>\n",
       "      <td id=\"T_9c215_row2_col0\" class=\"data row2 col0\" >0.7619</td>\n",
       "      <td id=\"T_9c215_row2_col1\" class=\"data row2 col1\" >0.0000</td>\n",
       "      <td id=\"T_9c215_row2_col2\" class=\"data row2 col2\" >0.8182</td>\n",
       "      <td id=\"T_9c215_row2_col3\" class=\"data row2 col3\" >0.7500</td>\n",
       "      <td id=\"T_9c215_row2_col4\" class=\"data row2 col4\" >0.7826</td>\n",
       "      <td id=\"T_9c215_row2_col5\" class=\"data row2 col5\" >0.5205</td>\n",
       "      <td id=\"T_9c215_row2_col6\" class=\"data row2 col6\" >0.5230</td>\n",
       "    </tr>\n",
       "    <tr>\n",
       "      <th id=\"T_9c215_level0_row3\" class=\"row_heading level0 row3\" >3</th>\n",
       "      <td id=\"T_9c215_row3_col0\" class=\"data row3 col0\" >0.9048</td>\n",
       "      <td id=\"T_9c215_row3_col1\" class=\"data row3 col1\" >0.0000</td>\n",
       "      <td id=\"T_9c215_row3_col2\" class=\"data row3 col2\" >1.0000</td>\n",
       "      <td id=\"T_9c215_row3_col3\" class=\"data row3 col3\" >0.8571</td>\n",
       "      <td id=\"T_9c215_row3_col4\" class=\"data row3 col4\" >0.9231</td>\n",
       "      <td id=\"T_9c215_row3_col5\" class=\"data row3 col5\" >0.8000</td>\n",
       "      <td id=\"T_9c215_row3_col6\" class=\"data row3 col6\" >0.8165</td>\n",
       "    </tr>\n",
       "    <tr>\n",
       "      <th id=\"T_9c215_level0_row4\" class=\"row_heading level0 row4\" >4</th>\n",
       "      <td id=\"T_9c215_row4_col0\" class=\"data row4 col0\" >0.9524</td>\n",
       "      <td id=\"T_9c215_row4_col1\" class=\"data row4 col1\" >0.0000</td>\n",
       "      <td id=\"T_9c215_row4_col2\" class=\"data row4 col2\" >1.0000</td>\n",
       "      <td id=\"T_9c215_row4_col3\" class=\"data row4 col3\" >0.9231</td>\n",
       "      <td id=\"T_9c215_row4_col4\" class=\"data row4 col4\" >0.9600</td>\n",
       "      <td id=\"T_9c215_row4_col5\" class=\"data row4 col5\" >0.9014</td>\n",
       "      <td id=\"T_9c215_row4_col6\" class=\"data row4 col6\" >0.9058</td>\n",
       "    </tr>\n",
       "    <tr>\n",
       "      <th id=\"T_9c215_level0_row5\" class=\"row_heading level0 row5\" >5</th>\n",
       "      <td id=\"T_9c215_row5_col0\" class=\"data row5 col0\" >0.8571</td>\n",
       "      <td id=\"T_9c215_row5_col1\" class=\"data row5 col1\" >0.0000</td>\n",
       "      <td id=\"T_9c215_row5_col2\" class=\"data row5 col2\" >1.0000</td>\n",
       "      <td id=\"T_9c215_row5_col3\" class=\"data row5 col3\" >0.8000</td>\n",
       "      <td id=\"T_9c215_row5_col4\" class=\"data row5 col4\" >0.8889</td>\n",
       "      <td id=\"T_9c215_row5_col5\" class=\"data row5 col5\" >0.6957</td>\n",
       "      <td id=\"T_9c215_row5_col6\" class=\"data row5 col6\" >0.7303</td>\n",
       "    </tr>\n",
       "    <tr>\n",
       "      <th id=\"T_9c215_level0_row6\" class=\"row_heading level0 row6\" >6</th>\n",
       "      <td id=\"T_9c215_row6_col0\" class=\"data row6 col0\" >0.7619</td>\n",
       "      <td id=\"T_9c215_row6_col1\" class=\"data row6 col1\" >0.0000</td>\n",
       "      <td id=\"T_9c215_row6_col2\" class=\"data row6 col2\" >0.8333</td>\n",
       "      <td id=\"T_9c215_row6_col3\" class=\"data row6 col3\" >0.7692</td>\n",
       "      <td id=\"T_9c215_row6_col4\" class=\"data row6 col4\" >0.8000</td>\n",
       "      <td id=\"T_9c215_row6_col5\" class=\"data row6 col5\" >0.5070</td>\n",
       "      <td id=\"T_9c215_row6_col6\" class=\"data row6 col6\" >0.5095</td>\n",
       "    </tr>\n",
       "    <tr>\n",
       "      <th id=\"T_9c215_level0_row7\" class=\"row_heading level0 row7\" >7</th>\n",
       "      <td id=\"T_9c215_row7_col0\" class=\"data row7 col0\" >0.9048</td>\n",
       "      <td id=\"T_9c215_row7_col1\" class=\"data row7 col1\" >0.0000</td>\n",
       "      <td id=\"T_9c215_row7_col2\" class=\"data row7 col2\" >0.9167</td>\n",
       "      <td id=\"T_9c215_row7_col3\" class=\"data row7 col3\" >0.9167</td>\n",
       "      <td id=\"T_9c215_row7_col4\" class=\"data row7 col4\" >0.9167</td>\n",
       "      <td id=\"T_9c215_row7_col5\" class=\"data row7 col5\" >0.8056</td>\n",
       "      <td id=\"T_9c215_row7_col6\" class=\"data row7 col6\" >0.8056</td>\n",
       "    </tr>\n",
       "    <tr>\n",
       "      <th id=\"T_9c215_level0_row8\" class=\"row_heading level0 row8\" >8</th>\n",
       "      <td id=\"T_9c215_row8_col0\" class=\"data row8 col0\" >0.9048</td>\n",
       "      <td id=\"T_9c215_row8_col1\" class=\"data row8 col1\" >0.0000</td>\n",
       "      <td id=\"T_9c215_row8_col2\" class=\"data row8 col2\" >1.0000</td>\n",
       "      <td id=\"T_9c215_row8_col3\" class=\"data row8 col3\" >0.8571</td>\n",
       "      <td id=\"T_9c215_row8_col4\" class=\"data row8 col4\" >0.9231</td>\n",
       "      <td id=\"T_9c215_row8_col5\" class=\"data row8 col5\" >0.8000</td>\n",
       "      <td id=\"T_9c215_row8_col6\" class=\"data row8 col6\" >0.8165</td>\n",
       "    </tr>\n",
       "    <tr>\n",
       "      <th id=\"T_9c215_level0_row9\" class=\"row_heading level0 row9\" >9</th>\n",
       "      <td id=\"T_9c215_row9_col0\" class=\"data row9 col0\" >0.9048</td>\n",
       "      <td id=\"T_9c215_row9_col1\" class=\"data row9 col1\" >0.0000</td>\n",
       "      <td id=\"T_9c215_row9_col2\" class=\"data row9 col2\" >1.0000</td>\n",
       "      <td id=\"T_9c215_row9_col3\" class=\"data row9 col3\" >0.8571</td>\n",
       "      <td id=\"T_9c215_row9_col4\" class=\"data row9 col4\" >0.9231</td>\n",
       "      <td id=\"T_9c215_row9_col5\" class=\"data row9 col5\" >0.8000</td>\n",
       "      <td id=\"T_9c215_row9_col6\" class=\"data row9 col6\" >0.8165</td>\n",
       "    </tr>\n",
       "    <tr>\n",
       "      <th id=\"T_9c215_level0_row10\" class=\"row_heading level0 row10\" >Mean</th>\n",
       "      <td id=\"T_9c215_row10_col0\" class=\"data row10 col0\" >0.8771</td>\n",
       "      <td id=\"T_9c215_row10_col1\" class=\"data row10 col1\" >0.0000</td>\n",
       "      <td id=\"T_9c215_row10_col2\" class=\"data row10 col2\" >0.9402</td>\n",
       "      <td id=\"T_9c215_row10_col3\" class=\"data row10 col3\" >0.8564</td>\n",
       "      <td id=\"T_9c215_row10_col4\" class=\"data row10 col4\" >0.8951</td>\n",
       "      <td id=\"T_9c215_row10_col5\" class=\"data row10 col5\" >0.7464</td>\n",
       "      <td id=\"T_9c215_row10_col6\" class=\"data row10 col6\" >0.7557</td>\n",
       "    </tr>\n",
       "    <tr>\n",
       "      <th id=\"T_9c215_level0_row11\" class=\"row_heading level0 row11\" >Std</th>\n",
       "      <td id=\"T_9c215_row11_col0\" class=\"data row11 col0\" >0.0614</td>\n",
       "      <td id=\"T_9c215_row11_col1\" class=\"data row11 col1\" >0.0000</td>\n",
       "      <td id=\"T_9c215_row11_col2\" class=\"data row11 col2\" >0.0677</td>\n",
       "      <td id=\"T_9c215_row11_col3\" class=\"data row11 col3\" >0.0612</td>\n",
       "      <td id=\"T_9c215_row11_col4\" class=\"data row11 col4\" >0.0545</td>\n",
       "      <td id=\"T_9c215_row11_col5\" class=\"data row11 col5\" >0.1253</td>\n",
       "      <td id=\"T_9c215_row11_col6\" class=\"data row11 col6\" >0.1261</td>\n",
       "    </tr>\n",
       "  </tbody>\n",
       "</table>\n"
      ],
      "text/plain": [
       "<pandas.io.formats.style.Styler at 0x150a73730>"
      ]
     },
     "metadata": {},
     "output_type": "display_data"
    }
   ],
   "source": [
    "rdge_mdl = create_model('ridge')"
   ]
  },
  {
   "cell_type": "code",
   "execution_count": null,
   "metadata": {},
   "outputs": [],
   "source": []
  },
  {
   "cell_type": "code",
   "execution_count": null,
   "metadata": {},
   "outputs": [],
   "source": []
  },
  {
   "cell_type": "code",
   "execution_count": null,
   "metadata": {},
   "outputs": [],
   "source": []
  },
  {
   "cell_type": "code",
   "execution_count": null,
   "metadata": {},
   "outputs": [],
   "source": []
  },
  {
   "cell_type": "code",
   "execution_count": null,
   "metadata": {},
   "outputs": [],
   "source": []
  },
  {
   "cell_type": "code",
   "execution_count": null,
   "metadata": {},
   "outputs": [],
   "source": []
  },
  {
   "cell_type": "code",
   "execution_count": null,
   "metadata": {},
   "outputs": [],
   "source": []
  },
  {
   "cell_type": "code",
   "execution_count": null,
   "metadata": {},
   "outputs": [],
   "source": []
  },
  {
   "cell_type": "code",
   "execution_count": null,
   "metadata": {},
   "outputs": [],
   "source": []
  },
  {
   "cell_type": "code",
   "execution_count": null,
   "metadata": {},
   "outputs": [],
   "source": []
  },
  {
   "cell_type": "code",
   "execution_count": null,
   "metadata": {},
   "outputs": [],
   "source": []
  },
  {
   "cell_type": "code",
   "execution_count": null,
   "metadata": {},
   "outputs": [],
   "source": []
  },
  {
   "cell_type": "code",
   "execution_count": null,
   "metadata": {},
   "outputs": [],
   "source": [
    "prediction_mljar = automl.predict(X_test)"
   ]
  },
  {
   "cell_type": "code",
   "execution_count": null,
   "metadata": {},
   "outputs": [],
   "source": [
    "print(\"Model accuracy score:\", accuracy_score(y_test, prediction_mljar.astype(int)))"
   ]
  },
  {
   "cell_type": "code",
   "execution_count": null,
   "metadata": {},
   "outputs": [],
   "source": [
    "print(\"Model ROC_AUC score:\", roc_auc_score(y_test, prediction_mljar.astype(int)))"
   ]
  },
  {
   "cell_type": "code",
   "execution_count": null,
   "metadata": {},
   "outputs": [],
   "source": [
    "cm_mlljar = confusion_matrix(y_test, prediction_mljar, labels=None) "
   ]
  },
  {
   "cell_type": "code",
   "execution_count": null,
   "metadata": {
    "scrolled": true
   },
   "outputs": [],
   "source": [
    "util.plot_confusion_matrix(cm_mlljar,classes=['No Risk', 'Risk'], title='MLJAR  based Confusion Matrix')"
   ]
  },
  {
   "cell_type": "markdown",
   "metadata": {},
   "source": [
    "## *XGBoost based classification for heart risk*"
   ]
  },
  {
   "cell_type": "code",
   "execution_count": null,
   "metadata": {},
   "outputs": [],
   "source": [
    "## Hyperparameter optimization using RandomizedSearchCV\n",
    "import xgboost"
   ]
  },
  {
   "cell_type": "code",
   "execution_count": null,
   "metadata": {
    "scrolled": false
   },
   "outputs": [],
   "source": [
    "#Initialize Model\n",
    "clf_mdl = xgboost.XGBClassifier(use_label_encoder = False, verbosity = 1, eval_metric='logloss');\n",
    "\n",
    "params = {\n",
    "              'objective':['binary:logistic'],\n",
    "              'learning_rate': [0.1,0.3,0.5,0.7,1], #so called `eta` value\n",
    "              'max_depth': [1, 2, 3, 4, 5, 6, 7],\n",
    "              'min_child_weight': [1e-5, 1e-3, 1e-2],\n",
    "              'subsample': [0.3,0.5,0.7,1],\n",
    "              'colsample_bytree': [0.7,1],\n",
    "              'n_estimators': [100, 200, 300, 400, 500]\n",
    "}\n",
    "\n",
    "#Initializing Grid Search with Stratified K Fold\n",
    "xgb_ml = RandomizedSearchCV(clf_mdl, param_distributions=params, n_jobs=-1, cv=kfold)\n",
    "xgb_ml.fit(X_train,y_train)"
   ]
  },
  {
   "cell_type": "code",
   "execution_count": null,
   "metadata": {},
   "outputs": [],
   "source": [
    "xgb_ml.best_params_"
   ]
  },
  {
   "cell_type": "code",
   "execution_count": null,
   "metadata": {
    "scrolled": true
   },
   "outputs": [],
   "source": [
    "Tuned_model_xgb = xgb_ml.best_estimator_\n",
    "Tuned_model_xgb"
   ]
  },
  {
   "cell_type": "code",
   "execution_count": null,
   "metadata": {},
   "outputs": [],
   "source": [
    "from sklearn.model_selection import cross_val_score\n",
    "score=cross_val_score(Tuned_model_xgb,X_train,y_train,cv=10)\n",
    "score"
   ]
  },
  {
   "cell_type": "code",
   "execution_count": null,
   "metadata": {},
   "outputs": [],
   "source": [
    "score.mean()"
   ]
  },
  {
   "cell_type": "code",
   "execution_count": null,
   "metadata": {},
   "outputs": [],
   "source": [
    "prediction_xgb = Tuned_model_xgb.predict(X_test)"
   ]
  },
  {
   "cell_type": "code",
   "execution_count": null,
   "metadata": {},
   "outputs": [],
   "source": [
    "print(\"Model accuracy score:\", accuracy_score(y_test, prediction_xgb.astype(int)))"
   ]
  },
  {
   "cell_type": "code",
   "execution_count": null,
   "metadata": {},
   "outputs": [],
   "source": [
    "print(\"Model ROC_AUC score:\", roc_auc_score(y_test, prediction_xgb.astype(int)))"
   ]
  },
  {
   "cell_type": "code",
   "execution_count": null,
   "metadata": {},
   "outputs": [],
   "source": [
    "cm_xgb = confusion_matrix(y_test, prediction_xgb, labels=None) "
   ]
  },
  {
   "cell_type": "code",
   "execution_count": null,
   "metadata": {},
   "outputs": [],
   "source": [
    "util.plot_confusion_matrix(cm_xgb,classes=['No Risk', 'Risk'], title='XGB based Confusion Matrix')"
   ]
  },
  {
   "cell_type": "markdown",
   "metadata": {},
   "source": [
    "## *Random Forest based classification for heart risk*"
   ]
  },
  {
   "cell_type": "code",
   "execution_count": null,
   "metadata": {},
   "outputs": [],
   "source": [
    "from sklearn.ensemble import RandomForestClassifier"
   ]
  },
  {
   "cell_type": "code",
   "execution_count": null,
   "metadata": {},
   "outputs": [],
   "source": [
    "#Initialize Model\n",
    "clf_mdl_2 = RandomForestClassifier()\n",
    "\n",
    "params = {'bootstrap': [True, False],\n",
    " 'max_depth': range(1,10, 1),\n",
    " 'max_features': ['auto', 'sqrt'],\n",
    " 'min_samples_leaf': [1, 2, 4],\n",
    " 'min_samples_split': [2, 5, 10],\n",
    " 'n_estimators': [100, 200, 300, 400, 500]}\n",
    "\n",
    "#Initializing Grid Search with Stratified K Fold\n",
    "rf_ml = RandomizedSearchCV(clf_mdl_2, param_distributions=params, n_jobs=-1, cv=kfold)\n",
    "rf_ml.fit(X_train,y_train)"
   ]
  },
  {
   "cell_type": "code",
   "execution_count": null,
   "metadata": {},
   "outputs": [],
   "source": [
    "rf_ml.best_params_"
   ]
  },
  {
   "cell_type": "code",
   "execution_count": null,
   "metadata": {},
   "outputs": [],
   "source": [
    "Tuned_model_rf = rf_ml.best_estimator_\n",
    "Tuned_model_rf"
   ]
  },
  {
   "cell_type": "code",
   "execution_count": null,
   "metadata": {},
   "outputs": [],
   "source": [
    "score=cross_val_score(Tuned_model_rf,X_train,y_train,cv=10)\n",
    "score"
   ]
  },
  {
   "cell_type": "code",
   "execution_count": null,
   "metadata": {},
   "outputs": [],
   "source": [
    "score.mean()"
   ]
  },
  {
   "cell_type": "code",
   "execution_count": null,
   "metadata": {},
   "outputs": [],
   "source": [
    "prediction_rf = Tuned_model_rf.predict(X_test)"
   ]
  },
  {
   "cell_type": "code",
   "execution_count": null,
   "metadata": {},
   "outputs": [],
   "source": [
    "print(\"Model accuracy score:\", accuracy_score(y_test, prediction_rf.astype(int)))"
   ]
  },
  {
   "cell_type": "code",
   "execution_count": null,
   "metadata": {},
   "outputs": [],
   "source": [
    "print(\"Model ROC_AUC score:\", roc_auc_score(y_test, prediction_rf.astype(int)))"
   ]
  },
  {
   "cell_type": "code",
   "execution_count": null,
   "metadata": {},
   "outputs": [],
   "source": [
    "cm_rf = confusion_matrix(y_test, prediction_rf, labels=None) "
   ]
  },
  {
   "cell_type": "code",
   "execution_count": null,
   "metadata": {},
   "outputs": [],
   "source": [
    "util.plot_confusion_matrix(cm_rf,classes=['No Risk', 'Risk'], title='RF based Confusion Matrix')"
   ]
  },
  {
   "cell_type": "markdown",
   "metadata": {},
   "source": [
    "## *Logistic Regression based classification for heart risk*"
   ]
  },
  {
   "cell_type": "code",
   "execution_count": null,
   "metadata": {},
   "outputs": [],
   "source": [
    "from sklearn.linear_model import LogisticRegression"
   ]
  },
  {
   "cell_type": "code",
   "execution_count": null,
   "metadata": {},
   "outputs": [],
   "source": [
    "#Initialize Model\n",
    "clf_mdl_3 = LogisticRegression()\n",
    "\n",
    "params = {\n",
    "    \"max_iter\": range(100,500,2),\n",
    "    \"solver\" : ['newton-cg', 'lbfgs', 'liblinear'],\n",
    "    \"C\": [0.5, 0.1, 1.0]\n",
    "}\n",
    "\n",
    "lgr_ml = RandomizedSearchCV(clf_mdl_3, param_distributions=params, n_jobs=-1, cv=kfold)\n",
    "lgr_ml.fit(X_train,y_train)"
   ]
  },
  {
   "cell_type": "code",
   "execution_count": null,
   "metadata": {},
   "outputs": [],
   "source": [
    "lgr_ml.best_params_"
   ]
  },
  {
   "cell_type": "code",
   "execution_count": null,
   "metadata": {},
   "outputs": [],
   "source": [
    "Tuned_model_lgr = lgr_ml.best_estimator_\n",
    "Tuned_model_lgr"
   ]
  },
  {
   "cell_type": "code",
   "execution_count": null,
   "metadata": {},
   "outputs": [],
   "source": [
    "score=cross_val_score(Tuned_model_lgr,X_train,y_train,cv=10)\n",
    "score"
   ]
  },
  {
   "cell_type": "code",
   "execution_count": null,
   "metadata": {},
   "outputs": [],
   "source": [
    "score.mean()"
   ]
  },
  {
   "cell_type": "code",
   "execution_count": null,
   "metadata": {},
   "outputs": [],
   "source": [
    "prediction_lgr = Tuned_model_lgr.predict(X_test)"
   ]
  },
  {
   "cell_type": "code",
   "execution_count": null,
   "metadata": {},
   "outputs": [],
   "source": [
    "print(\"Model accuracy score:\", accuracy_score(y_test, prediction_lgr.astype(int)))"
   ]
  },
  {
   "cell_type": "code",
   "execution_count": null,
   "metadata": {},
   "outputs": [],
   "source": [
    "print(\"Model ROC_AUC score:\", roc_auc_score(y_test, prediction_lgr.astype(int)))"
   ]
  },
  {
   "cell_type": "code",
   "execution_count": null,
   "metadata": {},
   "outputs": [],
   "source": [
    "cm_lgr = confusion_matrix(y_test, prediction_lgr, labels=None) "
   ]
  },
  {
   "cell_type": "code",
   "execution_count": null,
   "metadata": {},
   "outputs": [],
   "source": [
    "util.plot_confusion_matrix(cm_lgr,classes=['No Risk', 'Risk'], title='LGR based Confusion Matrix')"
   ]
  },
  {
   "cell_type": "code",
   "execution_count": null,
   "metadata": {},
   "outputs": [],
   "source": []
  }
 ],
 "metadata": {
  "kernelspec": {
   "display_name": "Python 3 (ipykernel)",
   "language": "python",
   "name": "python3"
  },
  "language_info": {
   "codemirror_mode": {
    "name": "ipython",
    "version": 3
   },
   "file_extension": ".py",
   "mimetype": "text/x-python",
   "name": "python",
   "nbconvert_exporter": "python",
   "pygments_lexer": "ipython3",
   "version": "3.8.9"
  }
 },
 "nbformat": 4,
 "nbformat_minor": 4
}
