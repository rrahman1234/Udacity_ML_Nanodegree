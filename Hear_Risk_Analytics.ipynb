{
 "cells": [
  {
   "cell_type": "markdown",
   "metadata": {},
   "source": [
    "# Heart Risk Prediction using supervised ML"
   ]
  },
  {
   "cell_type": "code",
   "execution_count": null,
   "metadata": {},
   "outputs": [],
   "source": [
    "import sklearn\n",
    "import numpy as np\n",
    "import io\n",
    "import pandas as pd\n",
    "import matplotlib.pyplot as plt\n",
    "import plotly.express as px\n",
    "import seaborn as sns\n",
    "sns.set(rc={'figure.figsize':(11.7,8.27)})\n",
    "import matplotlib.ticker as ticker"
   ]
  },
  {
   "cell_type": "code",
   "execution_count": null,
   "metadata": {},
   "outputs": [],
   "source": [
    "import urllib\n",
    "import re\n",
    "\n",
    "file1=io.TextIOWrapper(urllib.request.urlopen(\n",
    "    'https://archive.ics.uci.edu/ml/machine-learning-databases/heart-disease/processed.cleveland.data'),encoding='ISO-8859-1')\n",
    "file2=io.TextIOWrapper(urllib.request.urlopen(\n",
    "    'https://archive.ics.uci.edu/ml/machine-learning-databases/heart-disease/processed.hungarian.data'),encoding='ISO-8859-1')\n",
    "file3=io.TextIOWrapper(urllib.request.urlopen(\n",
    "     'https://archive.ics.uci.edu/ml/machine-learning-databases/heart-disease/processed.va.data'),encoding='ISO-8859-1')\n",
    "file4=io.TextIOWrapper(urllib.request.urlopen(\n",
    "     'https://archive.ics.uci.edu/ml/machine-learning-databases/heart-disease/processed.switzerland.data'),encoding='ISO-8859-1')\n",
    "\n",
    "data_list = []\n",
    "\n",
    "for file_ in (file1,file2,file3, file4):\n",
    "    for line in file_:\n",
    "        quantities = re.split('[^0-9.name-]+',line.strip())\n",
    "        if len(quantities) == 14:\n",
    "            data_line = []\n",
    "            for x in quantities:\n",
    "                if  x!='[' or x != ']':\n",
    "                    data_line.append(x)\n",
    "                data_list.append(data_line)"
   ]
  },
  {
   "cell_type": "code",
   "execution_count": null,
   "metadata": {},
   "outputs": [],
   "source": [
    "np.shape(data_list)"
   ]
  },
  {
   "cell_type": "markdown",
   "metadata": {},
   "source": [
    "## *Data Loading from Source: In this section we will be loading UCI heart disease data*"
   ]
  },
  {
   "cell_type": "code",
   "execution_count": null,
   "metadata": {
    "scrolled": false
   },
   "outputs": [],
   "source": [
    "name_cols = ['age', 'sex', 'cp', 'trestbps', 'chol', 'fbs', 'restecg',  'thalach', 'exang',  'oldpeak',  'slope',  'ca', 'thal',  'target']\n",
    "\n",
    "df_heart_disease = pd.DataFrame(data_list,columns=name_cols)\n",
    "df_heart_disease.head()"
   ]
  },
  {
   "cell_type": "code",
   "execution_count": null,
   "metadata": {},
   "outputs": [],
   "source": [
    "df_heart_disease.to_csv('heart_disease_dataset_UCI_generated.csv')"
   ]
  },
  {
   "cell_type": "code",
   "execution_count": null,
   "metadata": {},
   "outputs": [],
   "source": [
    "#df_heart_disease = pd.read_csv('heart_disease_dataset_UCI.csv')"
   ]
  },
  {
   "cell_type": "markdown",
   "metadata": {},
   "source": [
    "## Data Pre-Processing:\n",
    "- Data cleaning \n",
    "- Remove NANs\n",
    "- Look for missing and unimportant data\n",
    "\n",
    "## Description of feature vectors:\n",
    " - description\n",
    "\n",
    "It's a clean, easy to understand set of data. However, the meaning of some of the column headers are not obvious. Here's what they mean,\n",
    "- **age**: The person's age in years\n",
    "- **sex**: The person's sex (1 = male, 0 = female)\n",
    "- **cp**:         \n",
    "        1 = typical angina\n",
    "        2 = atypical angina\n",
    "        3 = non-anginal pain\n",
    "        4 = asymptomatic\n",
    "- **trestbps**: The person's resting blood pressure (mm Hg on admission to the hospital)\n",
    "- **chol**: The person's cholesterol measurement in mg/dl\n",
    "- **fbs**: The person's fasting blood sugar (> 120 mg/dl, 1 = true; 0 = false)\n",
    "- **restecg**: Resting electrocardiographic measurement (0 = normal, 1 = having ST-T wave abnormality, 2 = showing probable or definite left ventricular hypertrophy by Estes' criteria)\n",
    "- **thalach**: The person's maximum heart rate achieved\n",
    "- **exang**: Exercise induced angina (1 = yes; 0 = no)\n",
    "- **oldpeak**: ST depression induced by exercise relative to rest ('ST' relates to positions on the ECG plot. See more here)\n",
    "- **slope**: \n",
    "        1 = upsloping\n",
    "        2 = flat\n",
    "        3 = downsloping\n",
    "- **ca**: The number of major vessels (0-3)\n",
    "- **thal**: A blood disorder called thalassemia \n",
    "        3 = normal; 6 = fixed defect; 7 = reversable defect\n",
    "- **target**: Heart disease (0 = no, 1 = yes)\n",
    "\n"
   ]
  },
  {
   "cell_type": "markdown",
   "metadata": {},
   "source": [
    "## Check for Null and NANs\n",
    "### Need to convert object types to numerical types"
   ]
  },
  {
   "cell_type": "code",
   "execution_count": null,
   "metadata": {},
   "outputs": [],
   "source": [
    "df_heart_disease.dtypes"
   ]
  },
  {
   "cell_type": "code",
   "execution_count": null,
   "metadata": {},
   "outputs": [],
   "source": [
    "df_heart_disease = df_heart_disease.astype(float, errors = 'raise')"
   ]
  },
  {
   "cell_type": "code",
   "execution_count": null,
   "metadata": {},
   "outputs": [],
   "source": [
    "df_heart_disease.dtypes"
   ]
  },
  {
   "cell_type": "code",
   "execution_count": null,
   "metadata": {},
   "outputs": [],
   "source": [
    "df_heart_disease.isnull().sum()"
   ]
  },
  {
   "cell_type": "code",
   "execution_count": null,
   "metadata": {},
   "outputs": [],
   "source": [
    "df_heart_disease.isna().sum()"
   ]
  },
  {
   "cell_type": "code",
   "execution_count": null,
   "metadata": {},
   "outputs": [],
   "source": [
    "df_heart_disease.columns"
   ]
  },
  {
   "cell_type": "code",
   "execution_count": null,
   "metadata": {},
   "outputs": [],
   "source": [
    "input_features = df_heart_disease.iloc[:,1:]\n",
    "output_features = df_heart_disease.iloc[:,-1]"
   ]
  },
  {
   "cell_type": "code",
   "execution_count": null,
   "metadata": {
    "scrolled": true
   },
   "outputs": [],
   "source": [
    "df_heart_disease.describe()"
   ]
  },
  {
   "cell_type": "markdown",
   "metadata": {},
   "source": [
    "### Consider rows with target = 1 or target = 0. Ignore other values"
   ]
  },
  {
   "cell_type": "code",
   "execution_count": null,
   "metadata": {},
   "outputs": [],
   "source": [
    "df_heart_disease = df_heart_disease[(df_heart_disease['target'] == 1) | (df_heart_disease['target'] == 0)]"
   ]
  },
  {
   "cell_type": "code",
   "execution_count": null,
   "metadata": {},
   "outputs": [],
   "source": [
    "df_heart_disease.describe()"
   ]
  },
  {
   "cell_type": "markdown",
   "metadata": {},
   "source": [
    "# **_Exploratory Data Analysis_**:\n",
    "## Check outliers using Inter Quantile Range (IQR):\n",
    "\n",
    "We are not going to remove outliers since they carry valuable info about certain types of patients. However, it can give us an idea on the necessecity of the exploratory data analysis."
   ]
  },
  {
   "cell_type": "code",
   "execution_count": null,
   "metadata": {},
   "outputs": [],
   "source": [
    "Q1 = df_heart_disease.quantile(0.90)\n",
    "Q3 = df_heart_disease.quantile(0.10)\n",
    "IQR = Q3 - Q1"
   ]
  },
  {
   "cell_type": "code",
   "execution_count": null,
   "metadata": {},
   "outputs": [],
   "source": [
    "IQR"
   ]
  },
  {
   "cell_type": "code",
   "execution_count": null,
   "metadata": {},
   "outputs": [],
   "source": [
    "df_heart_disease_IQR = (df_heart_disease < (Q1 - 1.5 * IQR)) |(df_heart_disease > (Q3 + 1.5 * IQR))"
   ]
  },
  {
   "cell_type": "code",
   "execution_count": null,
   "metadata": {},
   "outputs": [],
   "source": [
    "df_heart_disease_IQR"
   ]
  },
  {
   "cell_type": "markdown",
   "metadata": {},
   "source": [
    "### Drop Column which holds outlier"
   ]
  },
  {
   "cell_type": "code",
   "execution_count": null,
   "metadata": {
    "scrolled": true
   },
   "outputs": [],
   "source": [
    "Row_with_outliers = df_heart_disease_IQR.all(axis=0)\n",
    "indx = Row_with_outliers[Row_with_outliers== False].index.to_list()\n",
    "indx"
   ]
  },
  {
   "cell_type": "code",
   "execution_count": null,
   "metadata": {},
   "outputs": [],
   "source": [
    "df_heart_disease = df_heart_disease.drop(indx, axis = 1)"
   ]
  },
  {
   "cell_type": "code",
   "execution_count": null,
   "metadata": {},
   "outputs": [],
   "source": [
    "fig, out_fig = plt.subplots(figsize = (20,15))\n",
    "plt.xticks(rotation=45)\n",
    "out_fig = sns.boxplot(data = df_heart_disease, orient=\"h\", palette=\"crest\")"
   ]
  },
  {
   "cell_type": "code",
   "execution_count": null,
   "metadata": {
    "scrolled": false
   },
   "outputs": [],
   "source": [
    "%matplotlib inline\n",
    "fig, axis = plt.subplots(7,2,figsize=(10, 20));\n",
    "df_heart_disease.hist(ax=axis);"
   ]
  },
  {
   "cell_type": "code",
   "execution_count": null,
   "metadata": {},
   "outputs": [],
   "source": [
    "categorical_val = []\n",
    "continous_val = []\n",
    "\n",
    "for column in df_heart_disease.columns:\n",
    "    if len(df_heart_disease[column].unique()) <= 15:\n",
    "        categorical_val.append(column)\n",
    "    else:\n",
    "        continous_val.append(column)\n",
    "        \n",
    "plt.figure(figsize=(15, 20))\n",
    "for i, column in enumerate(categorical_val[:-1], 1):\n",
    "    plt.subplot(3, 3, i)\n",
    "    df_heart_disease[df_heart_disease[\"target\"] == 0][column].hist(bins=35, color='blue', label='With Hear Disease', alpha=0.6)\n",
    "    df_heart_disease[df_heart_disease[\"target\"] == 1][column].hist(bins=35, color='red', label='Without Heart Disease', alpha=0.6)\n",
    "    plt.legend()\n",
    "    plt.xlabel(column)\n",
    "    plt.legend(loc='upper right');"
   ]
  },
  {
   "cell_type": "code",
   "execution_count": null,
   "metadata": {},
   "outputs": [],
   "source": [
    "def data_Sex(sex):\n",
    "    if sex == 0:\n",
    "        return 'female'\n",
    "    else:\n",
    "        return 'male'\n",
    "\n",
    "def data_target(target):\n",
    "    if target == 0:\n",
    "        return 'No Heart Disease'\n",
    "    else:\n",
    "        return 'With Heart Disease'\n",
    "    \n",
    "def data_thal(thal):\n",
    "    if thal == 0:\n",
    "        return 'Non conclusive'\n",
    "    elif thal == 3:\n",
    "        return 'Normal'\n",
    "    elif thal == 6:\n",
    "        return 'Fixed Defect'\n",
    "    else:\n",
    "        return 'Reversible defect'\n",
    "\n",
    "def data_cp(cp):\n",
    "    if cp == 1:\n",
    "        return 'Typical angina'\n",
    "    elif cp == 2:\n",
    "        return 'Atypical angina'\n",
    "    elif cp== 3:\n",
    "        return 'Non-anginal pain'\n",
    "    else:\n",
    "        return 'Asymptomatic'\n",
    "    \n",
    "def data_restecg(restecg):\n",
    "    if restecg == 0:\n",
    "        return 'Normal'\n",
    "    elif restecg == 2:\n",
    "        return 'left ventricular hypertrophy'\n",
    "    else:\n",
    "        return 'abnormality in ST-T wave'\n",
    "\n",
    "def data_st_slope(slope):\n",
    "    if slope == 3:\n",
    "        return 'downsloping'\n",
    "    elif slope == 2:\n",
    "        return 'flat'\n",
    "    else:\n",
    "        return 'upsloping'\n",
    "\n",
    "def data_age(age):\n",
    "    if age < 30:\n",
    "        return 'young patients'\n",
    "    elif age >= 30 and age < 60:\n",
    "        return 'middle aged patients'\n",
    "    else:\n",
    "        return 'elderly patients'\n",
    "    \n",
    "def data_chol(chol):\n",
    "    if chol < 200:\n",
    "        return 'Normal Cholesterol Level'\n",
    "    else:\n",
    "        return 'High Cholesterol Level'    \n",
    "    \n",
    "df_heart_disease_with_catagoricalData = df_heart_disease.copy()\n",
    "df_heart_disease_with_catagoricalData['sex'] = df_heart_disease['sex'].apply(data_Sex)\n",
    "df_heart_disease_with_catagoricalData['target'] = df_heart_disease['target'].apply(data_target)\n",
    "df_heart_disease_with_catagoricalData['thal'] = df_heart_disease['thal'].apply(data_thal)\n",
    "df_heart_disease_with_catagoricalData['cp'] = df_heart_disease['cp'].apply(data_cp)\n",
    "df_heart_disease_with_catagoricalData['restecg'] = df_heart_disease['restecg'].apply(data_restecg)\n",
    "df_heart_disease_with_catagoricalData['slope'] = df_heart_disease['slope'].apply(data_st_slope)\n",
    "df_heart_disease_with_catagoricalData['age_class'] = df_heart_disease['age'].apply(data_age)\n",
    "df_heart_disease_with_catagoricalData['chol_level'] = df_heart_disease['chol'].apply(data_chol)"
   ]
  },
  {
   "cell_type": "code",
   "execution_count": null,
   "metadata": {},
   "outputs": [],
   "source": [
    "col_to_move = df_heart_disease_with_catagoricalData.pop('target')\n",
    "df_heart_disease_with_catagoricalData.insert(len(df_heart_disease_with_catagoricalData.columns), 'target', col_to_move)"
   ]
  },
  {
   "cell_type": "code",
   "execution_count": null,
   "metadata": {},
   "outputs": [],
   "source": [
    "df_heart_disease_with_catagoricalData.head()"
   ]
  },
  {
   "cell_type": "code",
   "execution_count": null,
   "metadata": {},
   "outputs": [],
   "source": [
    "sns.set(rc={'figure.figsize':(6,5), 'xtick.labelsize':10})\n",
    "sns.countplot(data= df_heart_disease_with_catagoricalData, x='age_class',hue='target')\n",
    "plt.title('Relationship between age and risk of heart disease \\n');\n",
    "plt.legend(loc='upper right');"
   ]
  },
  {
   "cell_type": "code",
   "execution_count": null,
   "metadata": {
    "scrolled": false
   },
   "outputs": [],
   "source": [
    "sns.set(rc={'figure.figsize':(15, 7)})\n",
    "sns.countplot(data= df_heart_disease_with_catagoricalData[df_heart_disease_with_catagoricalData['target']=='With Heart Disease'], x='age',hue='sex')\n",
    "plt.title('Relationship between gender and risk of heart disease at all age \\n');\n",
    "plt.legend(loc='upper right');"
   ]
  },
  {
   "cell_type": "code",
   "execution_count": null,
   "metadata": {},
   "outputs": [],
   "source": [
    "sns.set(rc={'figure.figsize':(6,5), 'xtick.labelsize':10})\n",
    "plot_ = sns.countplot(data= df_heart_disease_with_catagoricalData[df_heart_disease_with_catagoricalData['target']=='With Heart Disease'], x='chol_level', hue='sex')\n",
    "plt.title('Relationship between gender and risk of heart disease at all age with varying cholesterollevel \\n');\n",
    "plt.tight_layout();\n",
    "plt.legend(loc='upper right');"
   ]
  },
  {
   "cell_type": "code",
   "execution_count": null,
   "metadata": {},
   "outputs": [],
   "source": [
    "sns.set(rc={'figure.figsize':(6, 5), 'xtick.labelsize':10})\n",
    "plot_ = sns.countplot(data= df_heart_disease_with_catagoricalData, x='chol_level', hue='target')\n",
    "plt.tight_layout();\n",
    "plt.legend(loc='upper right');"
   ]
  },
  {
   "cell_type": "code",
   "execution_count": null,
   "metadata": {},
   "outputs": [],
   "source": [
    "sns.set(rc={'figure.figsize':(6, 5), 'xtick.labelsize':10})\n",
    "sns.countplot(data= df_heart_disease_with_catagoricalData[df_heart_disease_with_catagoricalData['target'] == 'With Heart Disease'], x='sex',hue='thal')\n",
    "plt.title('Relationship between gender and risk of heart disorder \"thalassemia\" \\n');\n",
    "plt.legend(loc='upper right');"
   ]
  },
  {
   "cell_type": "code",
   "execution_count": null,
   "metadata": {},
   "outputs": [],
   "source": [
    "sns.set(rc={'figure.figsize':(6, 5), 'xtick.labelsize':10})\n",
    "sns.countplot(data= df_heart_disease_with_catagoricalData, x='cp',hue='target')\n",
    "plt.title('Chest Pain varying with existence of heart disease \\n');\n",
    "plt.legend(loc='upper right');"
   ]
  },
  {
   "cell_type": "code",
   "execution_count": null,
   "metadata": {
    "scrolled": false
   },
   "outputs": [],
   "source": [
    "sns.set(rc={'figure.figsize':(6, 5), 'xtick.labelsize':10})\n",
    "sns.countplot(data= df_heart_disease_with_catagoricalData, x='chol_level',hue='target')\n",
    "plt.title('Effect of cholesterol level and  heart disease \\n');"
   ]
  },
  {
   "cell_type": "code",
   "execution_count": null,
   "metadata": {},
   "outputs": [],
   "source": [
    "sns.countplot(data= df_heart_disease_with_catagoricalData, x='restecg',hue='target')\n",
    "plt.title('Resting electrocardiographic measurement varying with existence of heart disease \\n');"
   ]
  },
  {
   "cell_type": "code",
   "execution_count": null,
   "metadata": {
    "scrolled": false
   },
   "outputs": [],
   "source": [
    "plt.figure(figsize=(14,7))\n",
    "sns.heatmap(df_heart_disease.drop('target', axis=1).corr(),annot=True,cmap=\"magma\",fmt='.2f');"
   ]
  },
  {
   "cell_type": "code",
   "execution_count": null,
   "metadata": {},
   "outputs": [],
   "source": [
    "import hvplot.pandas\n",
    "\n",
    "df_heart_disease.drop('target', axis=1).corrwith(df_heart_disease.target).hvplot.barh(\n",
    "    width=600, height=400, \n",
    "    title=\"Correlation between Heart Disease and Feature Vector\", \n",
    "    ylabel='Correlation', xlabel='Feature Vector',\n",
    ")"
   ]
  },
  {
   "cell_type": "markdown",
   "metadata": {},
   "source": [
    "# *Important Feature Selection*:\n",
    "### Univariate Feature Selection"
   ]
  },
  {
   "cell_type": "code",
   "execution_count": null,
   "metadata": {},
   "outputs": [],
   "source": [
    "from sklearn.model_selection import train_test_split\n",
    "\n",
    "L_feature = len(df_heart_disease.columns)\n",
    "X_train,X_test,y_train,y_test = train_test_split(df_heart_disease.iloc[:,:L_feature-1], df_heart_disease.iloc[:,-1], test_size=0.3, random_state=42)"
   ]
  },
  {
   "cell_type": "code",
   "execution_count": null,
   "metadata": {},
   "outputs": [],
   "source": [
    "from sklearn.feature_selection import SelectKBest, chi2\n",
    "UV_model = SelectKBest(chi2, k=5).fit(X_train, y_train)\n",
    "mask = UV_model.get_support() #list of booleans for selected features\n",
    "best_features_SKBest = [] \n",
    "\n",
    "for bool, feature in zip(mask, X_train.columns):\n",
    "    if bool:\n",
    "        best_features_SKBest .append(feature)\n",
    "\n",
    "best_features_SKBest             "
   ]
  },
  {
   "cell_type": "markdown",
   "metadata": {},
   "source": [
    "### Recursive feature elimination with cross-validation (RFECV)"
   ]
  },
  {
   "cell_type": "code",
   "execution_count": null,
   "metadata": {
    "scrolled": false
   },
   "outputs": [],
   "source": [
    "from sklearn.feature_selection import RFECV\n",
    "from sklearn.ensemble import RandomForestClassifier\n",
    "\n",
    "cv_estimator = RandomForestClassifier(random_state =42)\n",
    "cv_estimator.fit(X_train, y_train)\n",
    "cv_selector = RFECV(cv_estimator,cv= 10, step=1, scoring='accuracy')\n",
    "RFECV_model = cv_selector.fit(X_train, y_train)\n",
    "mask_3 = np.flip(np.argsort(RFECV_model.ranking_))\n",
    "\n",
    "best_features_rfecv = [] \n",
    "for items in mask_3:\n",
    "        best_features_rfecv.append(X_train.columns[items])\n",
    "\n",
    "print(best_features_rfecv)\n",
    "\n",
    "n_features = X_train.shape[1]\n",
    "plt.figure(figsize=(8,8))\n",
    "plt.barh(range(n_features), np.sort(cv_estimator.feature_importances_), align='center');\n",
    "plt.yticks(np.arange(n_features), X_train.columns.values) \n",
    "plt.xlabel('Feature importance')\n",
    "plt.ylabel('Feature')\n",
    "plt.show()"
   ]
  },
  {
   "cell_type": "code",
   "execution_count": null,
   "metadata": {},
   "outputs": [],
   "source": [
    "best_feature_list = list(set.intersection(set(best_features_SKBest), set(best_features_rfecv)))"
   ]
  },
  {
   "cell_type": "markdown",
   "metadata": {},
   "source": [
    "### Best Feature Set:"
   ]
  },
  {
   "cell_type": "code",
   "execution_count": null,
   "metadata": {
    "scrolled": true
   },
   "outputs": [],
   "source": [
    "best_feature_list"
   ]
  },
  {
   "cell_type": "markdown",
   "metadata": {},
   "source": [
    "### Visualizing simple decision tree based classification"
   ]
  },
  {
   "cell_type": "code",
   "execution_count": null,
   "metadata": {},
   "outputs": [],
   "source": [
    "from sklearn.tree import export_graphviz\n",
    "from sklearn.tree import DecisionTreeClassifier\n",
    "from six import StringIO \n",
    "from IPython.display import Image  \n",
    "import pydotplus\n",
    "\n",
    "clf = DecisionTreeClassifier(criterion=\"entropy\", max_depth=5)\n",
    "clf = clf.fit(X_train,y_train)\n",
    "\n",
    "dot_data = StringIO()\n",
    "export_graphviz(clf, out_file=dot_data,  \n",
    "                filled=False, rounded=True,\n",
    "                special_characters=True,feature_names = X_train.columns  ,class_names=['0','1'])\n",
    "graph = pydotplus.graph_from_dot_data(dot_data.getvalue())  \n",
    "Image(graph.create_png())"
   ]
  },
  {
   "cell_type": "markdown",
   "metadata": {},
   "source": [
    "# *MLJAR-supervised AutoML based classification for heart risk*"
   ]
  },
  {
   "cell_type": "markdown",
   "metadata": {},
   "source": [
    "## Get a tuned model"
   ]
  },
  {
   "cell_type": "code",
   "execution_count": null,
   "metadata": {},
   "outputs": [],
   "source": [
    "from sklearn.metrics import accuracy_score\n",
    "import supervised\n",
    "from supervised.automl import AutoML\n",
    "from sklearn.model_selection import train_test_split\n",
    "\n",
    "L_feature = len(df_heart_diseaselData.columns)\n",
    "X_train,X_test,y_train,y_test = train_test_split(df_heart_disease.iloc[:,:L_feature-1], df_heart_disease.iloc[:,-1], test_size=0.25, random_state=42)\n",
    "\n",
    "automl = AutoML(n_jobs= -1, mode = 'Compete', eval_metric =  'accuracy')\n",
    "automl.fit(X_train, y_train);\n",
    "automl.report()"
   ]
  },
  {
   "cell_type": "code",
   "execution_count": null,
   "metadata": {},
   "outputs": [],
   "source": [
    "prediction = automl.predict(X_test)\n",
    "accuracy_score(y_test, prediction)"
   ]
  },
  {
   "cell_type": "code",
   "execution_count": null,
   "metadata": {},
   "outputs": [],
   "source": []
  },
  {
   "cell_type": "code",
   "execution_count": null,
   "metadata": {},
   "outputs": [],
   "source": []
  }
 ],
 "metadata": {
  "kernelspec": {
   "display_name": "Python 3 (ipykernel)",
   "language": "python",
   "name": "python3"
  },
  "language_info": {
   "codemirror_mode": {
    "name": "ipython",
    "version": 3
   },
   "file_extension": ".py",
   "mimetype": "text/x-python",
   "name": "python",
   "nbconvert_exporter": "python",
   "pygments_lexer": "ipython3",
   "version": "3.8.9"
  }
 },
 "nbformat": 4,
 "nbformat_minor": 4
}
