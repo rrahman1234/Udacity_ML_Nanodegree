{
 "cells": [
  {
   "cell_type": "markdown",
   "metadata": {},
   "source": [
    "# Heart Risk Prediction using supervised ML"
   ]
  },
  {
   "cell_type": "code",
   "execution_count": null,
   "metadata": {},
   "outputs": [],
   "source": [
    "import sklearn\n",
    "import numpy as np\n",
    "import io\n",
    "import pandas as pd\n",
    "import matplotlib.pyplot as plt\n",
    "import plotly.express as px\n",
    "import seaborn as sns\n",
    "sns.set(rc={'figure.figsize':(11.7,8.27)})\n",
    "import matplotlib.ticker as ticker\n",
    "from sklearn.model_selection import train_test_split\n",
    "from sklearn.preprocessing import Normalizer\n",
    "from sklearn import metrics\n",
    "from sklearn.metrics import f1_score\n",
    "from sklearn.metrics import confusion_matrix, accuracy_score, recall_score, precision_score, roc_auc_score\n",
    "from sklearn.model_selection import cross_val_score\n",
    "import warnings\n",
    "warnings.simplefilter(action='ignore')\n",
    "from sklearn.model_selection import RandomizedSearchCV, GridSearchCV, StratifiedKFold\n",
    "kfold = StratifiedKFold(n_splits=5)\n",
    "\n",
    "import missingno as msno\n",
    "\n",
    "import util"
   ]
  },
  {
   "cell_type": "markdown",
   "metadata": {},
   "source": [
    "## *Data Loading from Source*"
   ]
  },
  {
   "cell_type": "markdown",
   "metadata": {},
   "source": [
    "### Using UCI  heart risk data used at kaggle competieion\n",
    "- Download UCI Cleveland heart risk data available on Kaggle\n",
    "https://www.kaggle.com/datasets/johnsmith88/heart-disease-dataset"
   ]
  },
  {
   "cell_type": "code",
   "execution_count": null,
   "metadata": {},
   "outputs": [],
   "source": [
    "df_heart_disease = pd.read_csv('heart_disease_dataset_UCI.csv')"
   ]
  },
  {
   "cell_type": "code",
   "execution_count": null,
   "metadata": {
    "scrolled": true
   },
   "outputs": [],
   "source": [
    "df_heart_disease.head()"
   ]
  },
  {
   "cell_type": "markdown",
   "metadata": {},
   "source": [
    "## Description of feature vectors:\n",
    "\n",
    "- **age**: The person's age in years\n",
    "- **sex**: The person's sex (1 = male, 0 = female)\n",
    "- **cp**:         \n",
    "        0 = typical angina\n",
    "        1 = atypical angina\n",
    "        2 = non-anginal pain\n",
    "        3 = asymptomatic\n",
    "- **trestbps**: The person's resting blood pressure (mm Hg on admission to the hospital)\n",
    "- **chol**: The person's cholesterol measurement in mg/dl\n",
    "- **fbs**: The person's fasting blood sugar (> 120 mg/dl, 1 = true; 0 = false)\n",
    "- **restecg**: Resting electrocardiographic measurement (0 = normal, 1 = having ST-T wave abnormality, 2 = showing probable or definite left ventricular hypertrophy by Estes' criteria)\n",
    "- **thalach**: The person's maximum heart rate achieved\n",
    "- **exang**: Exercise induced angina (1 = yes; 0 = no)\n",
    "- **oldpeak**: ST depression induced by exercise relative to rest ('ST' relates to positions on the ECG plot. See more here)\n",
    "- **slope**: \n",
    "        0 = upsloping\n",
    "        1 = flat\n",
    "        2 = downsloping\n",
    "- **ca**: The number of major vessels (0-3)\n",
    "- **thal**: A blood disorder called thalassemia \n",
    "        0: NULL (dropped from the dataset previously)\n",
    "        1: fixed defect (no blood flow in some part of the heart)\n",
    "        2: normal blood flow\n",
    "        3: reversible defect (a blood flow is observed but it is not normal)\n",
    "- **target**: Heart disease (0 = no, 1 = yes)\n",
    "\n"
   ]
  },
  {
   "cell_type": "markdown",
   "metadata": {},
   "source": [
    "## Data Pre-Processing:\n",
    "- Data cleaning \n",
    "- Remove NANs\n",
    "- Look for missing and unimportant data\n",
    "\n",
    "***Check for Null and NANs***\n",
    "Need to convert object types to numerical types"
   ]
  },
  {
   "cell_type": "code",
   "execution_count": null,
   "metadata": {},
   "outputs": [],
   "source": [
    "df_heart_disease.dtypes"
   ]
  },
  {
   "cell_type": "code",
   "execution_count": null,
   "metadata": {},
   "outputs": [],
   "source": [
    "df_heart_disease.isnull().sum()"
   ]
  },
  {
   "cell_type": "code",
   "execution_count": null,
   "metadata": {},
   "outputs": [],
   "source": [
    "df_heart_disease.isna().sum()"
   ]
  },
  {
   "cell_type": "markdown",
   "metadata": {},
   "source": [
    "***Visualize missing value***"
   ]
  },
  {
   "cell_type": "code",
   "execution_count": null,
   "metadata": {},
   "outputs": [],
   "source": [
    "msno.matrix(df_heart_disease);"
   ]
  },
  {
   "cell_type": "code",
   "execution_count": null,
   "metadata": {},
   "outputs": [],
   "source": [
    "df_heart_disease.columns"
   ]
  },
  {
   "cell_type": "code",
   "execution_count": null,
   "metadata": {},
   "outputs": [],
   "source": [
    "df_heart_disease.columns.duplicated()"
   ]
  },
  {
   "cell_type": "code",
   "execution_count": null,
   "metadata": {
    "scrolled": true
   },
   "outputs": [],
   "source": [
    "df_heart_disease.describe()"
   ]
  },
  {
   "cell_type": "markdown",
   "metadata": {},
   "source": [
    "***Consider rows with target = 1 or target = 0. Ignore other values***"
   ]
  },
  {
   "cell_type": "code",
   "execution_count": null,
   "metadata": {},
   "outputs": [],
   "source": [
    "df_heart_disease = df_heart_disease[(df_heart_disease['target'] == 1) | (df_heart_disease['target'] == 0)]"
   ]
  },
  {
   "cell_type": "markdown",
   "metadata": {},
   "source": [
    "***Check outliers using Inter Quantile Range (IQR)***\n",
    "\n",
    "We are not going to remove outliers since they carry valuable info about certain types of patients. However, it can give us an idea on the necessecity of the exploratory data analysis."
   ]
  },
  {
   "cell_type": "code",
   "execution_count": null,
   "metadata": {},
   "outputs": [],
   "source": [
    "Q1 = df_heart_disease.quantile(0.95)\n",
    "Q3 = df_heart_disease.quantile(0.1)\n",
    "IQR = Q3 - Q1"
   ]
  },
  {
   "cell_type": "code",
   "execution_count": null,
   "metadata": {},
   "outputs": [],
   "source": [
    "Q1"
   ]
  },
  {
   "cell_type": "code",
   "execution_count": null,
   "metadata": {},
   "outputs": [],
   "source": [
    "IQR"
   ]
  },
  {
   "cell_type": "code",
   "execution_count": null,
   "metadata": {},
   "outputs": [],
   "source": [
    "df_heart_disease_IQR = (df_heart_disease < (Q1 - 1.5 * IQR)) |(df_heart_disease > (Q3 + 1.5 * IQR))"
   ]
  },
  {
   "cell_type": "code",
   "execution_count": null,
   "metadata": {},
   "outputs": [],
   "source": [
    "df_heart_disease_IQR"
   ]
  },
  {
   "cell_type": "markdown",
   "metadata": {},
   "source": [
    "***Drop Column which holds outlier***"
   ]
  },
  {
   "cell_type": "code",
   "execution_count": null,
   "metadata": {
    "scrolled": true
   },
   "outputs": [],
   "source": [
    "Row_with_outliers = df_heart_disease_IQR.all(axis=0)\n",
    "indx = Row_with_outliers[Row_with_outliers== False].index.to_list()\n",
    "indx"
   ]
  },
  {
   "cell_type": "code",
   "execution_count": null,
   "metadata": {},
   "outputs": [],
   "source": [
    "df_heart_disease = df_heart_disease.drop(indx, axis = 1)"
   ]
  },
  {
   "cell_type": "code",
   "execution_count": null,
   "metadata": {},
   "outputs": [],
   "source": [
    "df_heart_disease.reset_index(drop=True, inplace=True)"
   ]
  },
  {
   "cell_type": "code",
   "execution_count": null,
   "metadata": {},
   "outputs": [],
   "source": [
    "df_heart_disease.head()"
   ]
  },
  {
   "cell_type": "code",
   "execution_count": null,
   "metadata": {},
   "outputs": [],
   "source": [
    "df_heart_disease.plot(kind='box', subplots=True, layout=(2,7),\n",
    "sharex=False,sharey=False, figsize=(20, 10), \n",
    "color='deeppink');"
   ]
  },
  {
   "cell_type": "code",
   "execution_count": null,
   "metadata": {
    "scrolled": false
   },
   "outputs": [],
   "source": [
    "df_heart_disease.describe()\n",
    "#df_heart_disease.style.set_table_attributes('style=\"font-size: 10px\"')"
   ]
  },
  {
   "cell_type": "code",
   "execution_count": null,
   "metadata": {},
   "outputs": [],
   "source": [
    "def data_Sex(sex):\n",
    "    if sex == 0:\n",
    "        return 'female'\n",
    "    else:\n",
    "        return 'male'\n",
    "\n",
    "def data_target(target):\n",
    "    if target == 1:\n",
    "        return 'No Heart Disease'\n",
    "    else:\n",
    "        return 'With Heart Disease'\n",
    "    \n",
    "def data_thal(thal):\n",
    "    if thal == 0:\n",
    "        return 'Non conclusive'\n",
    "    elif thal == 2:\n",
    "        return 'Normal'\n",
    "    elif thal == 1:\n",
    "        return 'Fixed Defect'\n",
    "    else:\n",
    "        return 'Reversible defect'\n",
    "\n",
    "def data_cp(cp):\n",
    "    if cp == 0:\n",
    "        return 'Typical angina'\n",
    "    elif cp == 1:\n",
    "        return 'Atypical angina'\n",
    "    elif cp== 2:\n",
    "        return 'Non-anginal pain'\n",
    "    else:\n",
    "        return 'Asymptomatic'\n",
    "    \n",
    "def data_restecg(restecg):\n",
    "    if restecg == 1:\n",
    "        return 'Normal'\n",
    "    elif restecg == 0:\n",
    "        return 'left ventricular hypertrophy'\n",
    "    else:\n",
    "        return 'abnormality in ST-T wave'\n",
    "\n",
    "def data_st_slope(slope):\n",
    "    if slope == 0:\n",
    "        return 'downsloping'\n",
    "    elif slope == 1:\n",
    "        return 'flat'\n",
    "    else:\n",
    "        return 'upsloping'\n",
    "\n",
    "def data_age(age):\n",
    "    if age < 30:\n",
    "        return 'young patients'\n",
    "    elif age >= 30 and age < 60:\n",
    "        return 'middle aged patients'\n",
    "    else:\n",
    "        return 'elderly patients'\n",
    "    \n",
    "def data_chol(chol):\n",
    "    if chol < 200:\n",
    "        return 'Normal Cholesterol Level'\n",
    "    else:\n",
    "        return 'High Cholesterol Level'    \n",
    "\n",
    "    \n",
    "def data_trestbps(trestbps):\n",
    "    if trestbps < 90:\n",
    "        return 'Low Blood Pressure'\n",
    "    elif trestbps >= 90 and trestbps <= 130:\n",
    "        return 'Normal Blood Pressure'\n",
    "    else:\n",
    "        return 'High Blood Pressure'        \n",
    "    \n",
    "    \n",
    "df_heart_disease_with_catagoricalData = df_heart_disease.copy()\n",
    "df_heart_disease_with_catagoricalData['sex'] = df_heart_disease['sex'].apply(data_Sex)\n",
    "df_heart_disease_with_catagoricalData['target'] = df_heart_disease['target'].apply(data_target)\n",
    "df_heart_disease_with_catagoricalData['thal'] = df_heart_disease['thal'].apply(data_thal)\n",
    "df_heart_disease_with_catagoricalData['cp'] = df_heart_disease['cp'].apply(data_cp)\n",
    "df_heart_disease_with_catagoricalData['restecg'] = df_heart_disease['restecg'].apply(data_restecg)\n",
    "df_heart_disease_with_catagoricalData['slope'] = df_heart_disease['slope'].apply(data_st_slope)\n",
    "df_heart_disease_with_catagoricalData['age_class'] = df_heart_disease['age'].apply(data_age)\n",
    "df_heart_disease_with_catagoricalData['chol_level'] = df_heart_disease['chol'].apply(data_chol)\n",
    "df_heart_disease_with_catagoricalData['bp_level'] = df_heart_disease['trestbps'].apply(data_trestbps)"
   ]
  },
  {
   "cell_type": "code",
   "execution_count": null,
   "metadata": {},
   "outputs": [],
   "source": [
    "col_to_move = df_heart_disease_with_catagoricalData.pop('target')\n",
    "df_heart_disease_with_catagoricalData.insert(len(df_heart_disease_with_catagoricalData.columns), 'target', col_to_move)"
   ]
  },
  {
   "cell_type": "code",
   "execution_count": null,
   "metadata": {},
   "outputs": [],
   "source": [
    "df_heart_disease_with_catagoricalData.head()"
   ]
  },
  {
   "cell_type": "markdown",
   "metadata": {},
   "source": [
    "## **_Exploratory Data Analysis_**:"
   ]
  },
  {
   "cell_type": "code",
   "execution_count": null,
   "metadata": {},
   "outputs": [],
   "source": [
    "fig, out_fig = plt.subplots(figsize = (20,15))\n",
    "plt.xticks(rotation=45)\n",
    "out_fig = sns.boxplot(data = df_heart_disease, orient=\"h\", palette=\"crest\")"
   ]
  },
  {
   "cell_type": "code",
   "execution_count": null,
   "metadata": {},
   "outputs": [],
   "source": [
    "for i,col in enumerate(df_heart_disease.columns.values):\n",
    "    plt.subplot(5,3,i+1)\n",
    "    plt.scatter([i for i in range(303)],df_heart_disease[col].values.tolist())\n",
    "    plt.title(col)\n",
    "    fig,ax=plt.gcf(),plt.gca()\n",
    "    fig.set_size_inches(10,10)\n",
    "    plt.tight_layout()\n",
    "plt.show()"
   ]
  },
  {
   "cell_type": "code",
   "execution_count": null,
   "metadata": {
    "scrolled": false
   },
   "outputs": [],
   "source": [
    "%matplotlib inline\n",
    "fig, axis = plt.subplots(7,2,figsize=(10, 17));\n",
    "df_heart_disease.hist(ax=axis);"
   ]
  },
  {
   "cell_type": "code",
   "execution_count": null,
   "metadata": {},
   "outputs": [],
   "source": [
    "categorical_val = []\n",
    "continous_val = []\n",
    "\n",
    "for column in df_heart_disease.columns:\n",
    "    if len(df_heart_disease[column].unique()) <= 15:\n",
    "        categorical_val.append(column)\n",
    "    else:\n",
    "        continous_val.append(column)\n",
    "        \n",
    "plt.figure(figsize=(12, 12))\n",
    "for i, column in enumerate(categorical_val[:-1], 1):\n",
    "    plt.subplot(3, 3, i)\n",
    "    df_heart_disease[df_heart_disease[\"target\"] == 0][column].hist(bins=35, color='blue', label='Without Heart Disease', alpha=0.6)\n",
    "    df_heart_disease[df_heart_disease[\"target\"] == 1][column].hist(bins=35, color='red', label='With Heart Disease', alpha=0.6)\n",
    "    plt.legend()\n",
    "    plt.xlabel(column)\n",
    "    plt.legend(loc='upper right');"
   ]
  },
  {
   "cell_type": "code",
   "execution_count": null,
   "metadata": {},
   "outputs": [],
   "source": [
    "sns.set(rc={'figure.figsize':(6,5), 'xtick.labelsize':10})\n",
    "sns.countplot(data= df_heart_disease_with_catagoricalData, x='age_class',hue='target')\n",
    "plt.title('Relationship between age and risk of heart disease \\n');\n",
    "plt.legend(loc='upper right');"
   ]
  },
  {
   "cell_type": "code",
   "execution_count": null,
   "metadata": {
    "scrolled": false
   },
   "outputs": [],
   "source": [
    "sns.set(rc={'figure.figsize':(15, 7)})\n",
    "sns.countplot(data= df_heart_disease_with_catagoricalData[df_heart_disease_with_catagoricalData['target']=='With Heart Disease'], x='age',hue='sex')\n",
    "plt.title('Relationship between gender and risk of heart disease at all age \\n');\n",
    "plt.legend(loc='upper right');"
   ]
  },
  {
   "cell_type": "code",
   "execution_count": null,
   "metadata": {},
   "outputs": [],
   "source": [
    "sns.set(rc={'figure.figsize':(6,5), 'xtick.labelsize':10})\n",
    "plot_ = sns.countplot(data= df_heart_disease_with_catagoricalData[df_heart_disease_with_catagoricalData['target']=='With Heart Disease'], x='chol_level', hue='sex')\n",
    "plt.title('Relationship between gender and risk of heart disease at all age with varying cholesterollevel \\n');\n",
    "plt.tight_layout();\n",
    "plt.title('Relationship between cholesterol level and gender\" \\n');\n",
    "plt.legend(loc='upper right');"
   ]
  },
  {
   "cell_type": "code",
   "execution_count": null,
   "metadata": {},
   "outputs": [],
   "source": [
    "sns.set(rc={'figure.figsize':(6, 5), 'xtick.labelsize':10})\n",
    "sns.countplot(data= df_heart_disease_with_catagoricalData[df_heart_disease_with_catagoricalData['target'] == 'With Heart Disease'], x='sex',hue='thal')\n",
    "plt.title('Relationship between gender and risk of heart disorder \"thalassemia\" \\n');\n",
    "plt.legend(loc='upper right');"
   ]
  },
  {
   "cell_type": "code",
   "execution_count": null,
   "metadata": {},
   "outputs": [],
   "source": [
    "sns.set(rc={'figure.figsize':(6, 5), 'xtick.labelsize':10})\n",
    "sns.countplot(data= df_heart_disease_with_catagoricalData, x='cp',hue='target')\n",
    "plt.title('Chest Pain varying with existence of heart disease \\n');\n",
    "plt.legend(loc='upper right');"
   ]
  },
  {
   "cell_type": "code",
   "execution_count": null,
   "metadata": {
    "scrolled": true
   },
   "outputs": [],
   "source": [
    "sns.set(rc={'figure.figsize':(6, 5), 'xtick.labelsize':10})\n",
    "sns.countplot(data= df_heart_disease_with_catagoricalData, x='chol_level',hue='target')\n",
    "plt.title('Effect of cholesterol level and  heart disease \\n');"
   ]
  },
  {
   "cell_type": "code",
   "execution_count": null,
   "metadata": {
    "scrolled": true
   },
   "outputs": [],
   "source": [
    "sns.countplot(data= df_heart_disease_with_catagoricalData, x='restecg',hue='target')\n",
    "plt.title('Resting electrocardiographic measurement varying with existence of heart disease \\n');"
   ]
  },
  {
   "cell_type": "code",
   "execution_count": null,
   "metadata": {},
   "outputs": [],
   "source": [
    "sns.set(rc={'figure.figsize':(6, 5), 'xtick.labelsize':10})\n",
    "sns.countplot(data= df_heart_disease_with_catagoricalData, x='bp_level',hue='target')\n",
    "plt.title('Effect of blood pressure level and  heart disease \\n');"
   ]
  },
  {
   "cell_type": "code",
   "execution_count": null,
   "metadata": {
    "scrolled": true
   },
   "outputs": [],
   "source": [
    "sns.set(rc={'figure.figsize':(6, 5), 'xtick.labelsize':10})\n",
    "sns.countplot(data= df_heart_disease_with_catagoricalData, x='slope',hue='target')\n",
    "plt.title('Effect of slope and  heart disease \\n');"
   ]
  },
  {
   "cell_type": "code",
   "execution_count": null,
   "metadata": {
    "scrolled": true
   },
   "outputs": [],
   "source": [
    "sns.set(rc={'figure.figsize':(6, 5), 'xtick.labelsize':10})\n",
    "sns.countplot(data= df_heart_disease_with_catagoricalData, x='ca',hue='target')\n",
    "plt.title('Effect of # of blood vessel and  heart disease \\n');"
   ]
  },
  {
   "cell_type": "code",
   "execution_count": null,
   "metadata": {
    "scrolled": false
   },
   "outputs": [],
   "source": [
    "pal = sns.light_palette(\"blue\", as_cmap=True)\n",
    "sns.jointplot(data=df_heart_disease[df_heart_disease['target'] == 1],\n",
    "              x='chol',\n",
    "              y='trestbps',\n",
    "              kind='hex',\n",
    "              cmap='Reds');"
   ]
  },
  {
   "cell_type": "code",
   "execution_count": null,
   "metadata": {},
   "outputs": [],
   "source": [
    "pal = sns.light_palette(\"blue\", as_cmap=True)\n",
    "sns.jointplot(data=df_heart_disease[df_heart_disease['target'] == 1],\n",
    "              x='thalach',\n",
    "              y='chol',\n",
    "              kind='hex',\n",
    "              cmap='Reds');"
   ]
  },
  {
   "cell_type": "code",
   "execution_count": null,
   "metadata": {},
   "outputs": [],
   "source": [
    "plt.figure(figsize=(10,5))\n",
    "sns.pointplot(x=df_heart_disease['age'],y=df_heart_disease['thalach'],color='red',alpha=0.8)\n",
    "plt.xlabel('Age',fontsize = 15,color='blue')\n",
    "plt.xticks(rotation=45)\n",
    "plt.ylabel('Thalach',fontsize = 15,color='blue')\n",
    "plt.title('Age vs Thalach',fontsize = 15,color='blue')\n",
    "plt.grid()\n",
    "plt.show()"
   ]
  },
  {
   "cell_type": "code",
   "execution_count": null,
   "metadata": {
    "scrolled": true
   },
   "outputs": [],
   "source": [
    "plt.figure(figsize=(10,5))\n",
    "sns.pointplot(x=df_heart_disease['age'],y=df_heart_disease['chol'],color='red', alpha=0.8)\n",
    "plt.xlabel('Age',fontsize = 15,color='blue')\n",
    "plt.xticks(rotation=45)\n",
    "plt.ylabel('Chol',fontsize = 15,color='blue')\n",
    "plt.title('Age vs Chol',fontsize = 15,color='blue')\n",
    "plt.grid()\n",
    "plt.show()"
   ]
  },
  {
   "cell_type": "code",
   "execution_count": null,
   "metadata": {
    "scrolled": true
   },
   "outputs": [],
   "source": [
    "plt.figure(figsize=(10,5))\n",
    "sns.pointplot(x=df_heart_disease['age'],y=df_heart_disease['oldpeak'],color='red', alpha=0.8)\n",
    "plt.xlabel('Age',fontsize = 15,color='blue')\n",
    "plt.xticks(rotation=45)\n",
    "plt.ylabel('Chol',fontsize = 15,color='blue')\n",
    "plt.title('Age vs oldpeak',fontsize = 15,color='blue')\n",
    "plt.grid()\n",
    "plt.show()"
   ]
  },
  {
   "cell_type": "code",
   "execution_count": null,
   "metadata": {},
   "outputs": [],
   "source": [
    "plt.figure(figsize=(10,5))\n",
    "sns.pointplot(x=df_heart_disease['age'],y=df_heart_disease['trestbps'],color='red', alpha=0.8)\n",
    "plt.xlabel('Age',fontsize = 15,color='blue')\n",
    "plt.xticks(rotation=45)\n",
    "plt.ylabel('trestbps',fontsize = 15,color='blue')\n",
    "plt.title('Age vs trestbps',fontsize = 15,color='blue')\n",
    "plt.grid()\n",
    "plt.show()"
   ]
  },
  {
   "cell_type": "code",
   "execution_count": null,
   "metadata": {
    "scrolled": false
   },
   "outputs": [],
   "source": [
    "plt.figure(figsize=(14,7))\n",
    "sns.heatmap(df_heart_disease.drop('target', axis=1).corr(),annot=True,cmap=\"magma\",fmt='.2f');"
   ]
  },
  {
   "cell_type": "code",
   "execution_count": null,
   "metadata": {
    "scrolled": false
   },
   "outputs": [],
   "source": [
    "import hvplot.pandas\n",
    "\n",
    "df_heart_disease.drop('target', axis=1).corrwith(df_heart_disease.target).hvplot.barh(\n",
    "    width=600, height=400, \n",
    "    title=\"Correlation between Heart Disease and Feature Vector\", \n",
    "    ylabel='Correlation', xlabel='Feature Vector',\n",
    ")"
   ]
  },
  {
   "cell_type": "markdown",
   "metadata": {},
   "source": [
    "### Features are not highly correlated. So it is reasonable to use these features to the machine learning model."
   ]
  },
  {
   "cell_type": "code",
   "execution_count": null,
   "metadata": {},
   "outputs": [],
   "source": [
    "#Top  x% features to consider\n",
    "fraction_of_top_features = 0.8\n",
    "\n",
    "X = df_heart_disease.drop('target', axis=1)\n",
    "y = df_heart_disease['target']\n",
    "X_train, X_test,y_train,y_test = train_test_split(X, y, test_size=0.25, random_state=42)\n",
    "\n",
    "transformer = Normalizer()\n",
    "X_train_scaled = transformer.fit_transform(X_train)\n",
    "X_test_scaled = transformer.transform(X_test)"
   ]
  },
  {
   "cell_type": "markdown",
   "metadata": {},
   "source": [
    "# *Important Feature Selection*:\n",
    "### Univariate Feature Selection"
   ]
  },
  {
   "cell_type": "code",
   "execution_count": null,
   "metadata": {},
   "outputs": [],
   "source": [
    "from sklearn.feature_selection import SelectKBest, chi2\n",
    "UV_model = SelectKBest(chi2, k='all').fit(X_train_scaled, y_train)\n",
    "mask = np.argsort(np.flip(UV_model.scores_)) #list of booleans for selected features\n",
    "best_features_SKBest = [] \n",
    "best_features_SKBest = X_train.columns[mask]  \n",
    "\n",
    "best_features_SKBest"
   ]
  },
  {
   "cell_type": "markdown",
   "metadata": {},
   "source": [
    "### Recursive feature elimination with Random Forest Classifier"
   ]
  },
  {
   "cell_type": "code",
   "execution_count": null,
   "metadata": {
    "scrolled": false
   },
   "outputs": [],
   "source": [
    "from sklearn.ensemble import RandomForestClassifier\n",
    "from sklearn.inspection import permutation_importance\n",
    "\n",
    "model_rf = RandomForestClassifier(n_estimators=1500, max_depth=5)\n",
    "model_rf.fit(X_train_scaled, y_train)\n",
    "\n",
    "feature_importance = model_rf.feature_importances_\n",
    "sorted_idx = np.argsort(feature_importance)\n",
    "fig = plt.figure(figsize=(12, 6))\n",
    "plt.barh(range(len(sorted_idx)), feature_importance[sorted_idx], align='center')\n",
    "plt.yticks(range(len(sorted_idx)), np.array(X_train.columns)[sorted_idx])\n",
    "plt.title('Feature Importance: Random Forest')\n",
    "\n",
    "best_features_rf= X_train.columns[np.flip(sorted_idx)]\n",
    "best_features_rf = best_features_rf[:int(fraction_of_top_features*len(best_features_rf))]"
   ]
  },
  {
   "cell_type": "code",
   "execution_count": null,
   "metadata": {},
   "outputs": [],
   "source": [
    "from sklearn.inspection import permutation_importance\n",
    "import xgboost as xgb\n",
    "\n",
    "model_xgb = xgb.XGBClassifier(n_estimators=1500, max_depth=5, eta=0.05)\n",
    "model_xgb.fit(X_train_scaled, y_train)\n",
    "\n",
    "feature_importance = model_xgb.feature_importances_\n",
    "sorted_idx = np.argsort(feature_importance)\n",
    "fig = plt.figure(figsize=(12, 6))\n",
    "plt.barh(range(len(sorted_idx)), feature_importance[sorted_idx], align='center')\n",
    "plt.yticks(range(len(sorted_idx)), np.array(X_train.columns)[sorted_idx])\n",
    "plt.title('Feature Importance: XGBoost')\n",
    "\n",
    "best_features_xgb = X_train.columns[np.flip(sorted_idx)]\n",
    "best_features_xgb = best_features_xgb[:int(fraction_of_top_features*len(best_features_xgb))]"
   ]
  },
  {
   "cell_type": "markdown",
   "metadata": {},
   "source": [
    "### Recursive feature elimination with XGBoost Classifier"
   ]
  },
  {
   "cell_type": "code",
   "execution_count": null,
   "metadata": {},
   "outputs": [],
   "source": [
    "best_feature_list = list(set.intersection(set(best_features_SKBest), set(best_features_rf), set(best_features_xgb)))"
   ]
  },
  {
   "cell_type": "markdown",
   "metadata": {},
   "source": [
    "### Use PCA to see how many features are important:"
   ]
  },
  {
   "cell_type": "code",
   "execution_count": null,
   "metadata": {},
   "outputs": [],
   "source": [
    "from sklearn.decomposition import PCA\n",
    "\n",
    "pca = PCA(n_components = len(X_train.columns)).fit(X_train_scaled)\n",
    "\n",
    "plt.plot(pca.explained_variance_ratio_.cumsum(), lw=3, color='#087E8B')\n",
    "plt.title('Significance of principal components', size=20)\n",
    "plt.show()"
   ]
  },
  {
   "cell_type": "markdown",
   "metadata": {},
   "source": [
    "Based on PCA seems like first 4 features are significant"
   ]
  },
  {
   "cell_type": "markdown",
   "metadata": {},
   "source": [
    "### Best Feature Set:"
   ]
  },
  {
   "cell_type": "code",
   "execution_count": null,
   "metadata": {
    "scrolled": true
   },
   "outputs": [],
   "source": [
    "best_feature_list"
   ]
  },
  {
   "cell_type": "markdown",
   "metadata": {},
   "source": [
    "### Visualizing simple decision tree based classification using ***Best Feature Set***"
   ]
  },
  {
   "cell_type": "code",
   "execution_count": null,
   "metadata": {},
   "outputs": [],
   "source": [
    "from sklearn.tree import export_graphviz\n",
    "from sklearn.tree import DecisionTreeClassifier\n",
    "from six import StringIO \n",
    "from IPython.display import Image  \n",
    "import pydotplus\n",
    "\n",
    "clf = DecisionTreeClassifier(criterion=\"entropy\", max_depth=5)\n",
    "clf = clf.fit(X_train[best_feature_list],y_train)\n",
    "\n",
    "dot_data = StringIO()\n",
    "export_graphviz(clf, out_file=dot_data,  \n",
    "                filled=False, rounded=True,\n",
    "                special_characters=True,feature_names = X_train[best_feature_list].columns  ,class_names=['No Heart Risk','With Heart Risk'])\n",
    "graph = pydotplus.graph_from_dot_data(dot_data.getvalue())  \n",
    "Image(graph.create_png())"
   ]
  },
  {
   "cell_type": "markdown",
   "metadata": {},
   "source": [
    "# ML Model Development for heart risk detection"
   ]
  },
  {
   "cell_type": "markdown",
   "metadata": {},
   "source": [
    "### Get a tuned model that has comparatively highest accuracy:\n",
    "Use features with numerical values only ***df_heart_disease***"
   ]
  },
  {
   "cell_type": "markdown",
   "metadata": {},
   "source": [
    "### Use extracted best features from these schemes. \n",
    "***best_feature_list***"
   ]
  },
  {
   "cell_type": "code",
   "execution_count": null,
   "metadata": {},
   "outputs": [],
   "source": [
    "X_train = X_train[best_feature_list]\n",
    "X_test  = X_test[best_feature_list]"
   ]
  },
  {
   "cell_type": "code",
   "execution_count": null,
   "metadata": {},
   "outputs": [],
   "source": [
    "X = X[best_feature_list]"
   ]
  },
  {
   "cell_type": "code",
   "execution_count": null,
   "metadata": {},
   "outputs": [],
   "source": [
    "df_heart_disease = df_heart_disease[best_feature_list + ['target']]"
   ]
  },
  {
   "cell_type": "code",
   "execution_count": null,
   "metadata": {},
   "outputs": [],
   "source": [
    "ML_models = []\n",
    "ML_Prediction_models = []"
   ]
  },
  {
   "cell_type": "markdown",
   "metadata": {},
   "source": [
    "## *XGBoost based classification for heart risk*"
   ]
  },
  {
   "cell_type": "code",
   "execution_count": null,
   "metadata": {},
   "outputs": [],
   "source": [
    "## Hyperparameter optimization using RandomizedSearchCV\n",
    "import xgboost"
   ]
  },
  {
   "cell_type": "code",
   "execution_count": null,
   "metadata": {
    "scrolled": false
   },
   "outputs": [],
   "source": [
    "#Initialize Model\n",
    "clf_mdl = xgboost.XGBClassifier(use_label_encoder = False, verbosity = 1, eval_metric='logloss');\n",
    "\n",
    "params = {\n",
    "              'objective':['binary:logistic'],\n",
    "              'learning_rate': [0.001, 0.005, 0.01, 0.1,0.3,0.5,0.7,1], \n",
    "              'max_depth': [1, 2, 3, 4, 5, 6, 7],\n",
    "              'min_child_weight': [1e-5, 1e-3, 1e-2],\n",
    "              'subsample': [0.01, 0.1, 0.3,0.5,0.7,1],\n",
    "              'colsample_bytree': [0.7,1],\n",
    "              'n_estimators': [100, 200, 300, 400, 500, 1000]\n",
    "}\n",
    "\n",
    "#Initializing Grid Search with Stratified K Fold\n",
    "xgb_ml = RandomizedSearchCV(clf_mdl, param_distributions=params, n_jobs=-1, cv=kfold)\n",
    "xgb_ml.fit(X_train,y_train)"
   ]
  },
  {
   "cell_type": "code",
   "execution_count": null,
   "metadata": {},
   "outputs": [],
   "source": [
    "xgb_ml.best_params_"
   ]
  },
  {
   "cell_type": "code",
   "execution_count": null,
   "metadata": {
    "scrolled": true
   },
   "outputs": [],
   "source": [
    "Tuned_model_xgb = xgb_ml.best_estimator_\n",
    "Tuned_model_xgb"
   ]
  },
  {
   "cell_type": "code",
   "execution_count": null,
   "metadata": {},
   "outputs": [],
   "source": [
    "prediction_xgb = Tuned_model_xgb.predict(X_test)"
   ]
  },
  {
   "cell_type": "code",
   "execution_count": null,
   "metadata": {},
   "outputs": [],
   "source": [
    "ML_models.append(Tuned_model_xgb)\n",
    "ML_Prediction_models.append(prediction_xgb)"
   ]
  },
  {
   "cell_type": "code",
   "execution_count": null,
   "metadata": {},
   "outputs": [],
   "source": [
    "prediction_xgb_1 = prediction_xgb = Tuned_model_xgb.predict(X)"
   ]
  },
  {
   "cell_type": "code",
   "execution_count": null,
   "metadata": {},
   "outputs": [],
   "source": [
    "cm_xgb = confusion_matrix(y, prediction_xgb, labels=None) "
   ]
  },
  {
   "cell_type": "code",
   "execution_count": null,
   "metadata": {},
   "outputs": [],
   "source": [
    "util.plot_confusion_matrix(cm_xgb,classes=['No Risk', 'Risk'], title='XGB based Confusion Matrix')"
   ]
  },
  {
   "cell_type": "code",
   "execution_count": null,
   "metadata": {
    "scrolled": false
   },
   "outputs": [],
   "source": [
    "metrics.plot_roc_curve(Tuned_model_xgb, X[best_feature_list], y)"
   ]
  },
  {
   "cell_type": "code",
   "execution_count": null,
   "metadata": {},
   "outputs": [],
   "source": [
    "prediction_xgb = Tuned_model_xgb.predict(X_test)"
   ]
  },
  {
   "cell_type": "code",
   "execution_count": null,
   "metadata": {},
   "outputs": [],
   "source": [
    "cm_xgb_test = confusion_matrix(y_test, prediction_xgb, labels=None) "
   ]
  },
  {
   "cell_type": "code",
   "execution_count": null,
   "metadata": {},
   "outputs": [],
   "source": [
    "util.plot_confusion_matrix(cm_xgb_test,classes=['No Risk', 'Risk'], title='XGB based Confusion Matrix')"
   ]
  },
  {
   "cell_type": "code",
   "execution_count": null,
   "metadata": {
    "scrolled": false
   },
   "outputs": [],
   "source": [
    "metrics.plot_roc_curve(Tuned_model_xgb, X_test[best_feature_list], y_test)"
   ]
  },
  {
   "cell_type": "code",
   "execution_count": null,
   "metadata": {},
   "outputs": [],
   "source": [
    "util.plot_learning_curve(estimator = Tuned_model_xgb, title = \"XGB learning curve\", X = X_train, y = y_train, cv = kfold);"
   ]
  },
  {
   "cell_type": "markdown",
   "metadata": {},
   "source": [
    "## *Random Forest based classification for heart risk*"
   ]
  },
  {
   "cell_type": "code",
   "execution_count": null,
   "metadata": {},
   "outputs": [],
   "source": [
    "from sklearn.ensemble import RandomForestClassifier"
   ]
  },
  {
   "cell_type": "code",
   "execution_count": null,
   "metadata": {},
   "outputs": [],
   "source": [
    "#Initialize Model\n",
    "clf_mdl_2 = RandomForestClassifier()\n",
    "\n",
    "params = {'bootstrap': [True, False],\n",
    " 'max_depth': range(1,10, 1),\n",
    " 'max_features': ['auto', 'sqrt'],\n",
    " 'min_samples_leaf': [1, 2, 4],\n",
    " 'min_samples_split': [2, 5, 10],\n",
    " 'n_estimators': [100, 200, 300, 400, 500]}\n",
    "\n",
    "#Initializing Grid Search with Stratified K Fold\n",
    "rf_ml = RandomizedSearchCV(clf_mdl_2, param_distributions=params, n_jobs=-1, cv=kfold)\n",
    "rf_ml.fit(X_train,y_train)"
   ]
  },
  {
   "cell_type": "code",
   "execution_count": null,
   "metadata": {},
   "outputs": [],
   "source": [
    "rf_ml.best_params_"
   ]
  },
  {
   "cell_type": "code",
   "execution_count": null,
   "metadata": {},
   "outputs": [],
   "source": [
    "Tuned_model_rf = rf_ml.best_estimator_\n",
    "Tuned_model_rf"
   ]
  },
  {
   "cell_type": "code",
   "execution_count": null,
   "metadata": {},
   "outputs": [],
   "source": [
    "prediction_rf = Tuned_model_rf.predict(X_test)"
   ]
  },
  {
   "cell_type": "code",
   "execution_count": null,
   "metadata": {},
   "outputs": [],
   "source": [
    "ML_models.append(Tuned_model_rf)\n",
    "ML_Prediction_models.append(prediction_rf)"
   ]
  },
  {
   "cell_type": "code",
   "execution_count": null,
   "metadata": {},
   "outputs": [],
   "source": [
    "prediction_rf_1 = Tuned_model_rf.predict(X)"
   ]
  },
  {
   "cell_type": "code",
   "execution_count": null,
   "metadata": {},
   "outputs": [],
   "source": [
    "cm_rf = confusion_matrix(y, prediction_rf_1, labels=None) "
   ]
  },
  {
   "cell_type": "code",
   "execution_count": null,
   "metadata": {},
   "outputs": [],
   "source": [
    "util.plot_confusion_matrix(cm_rf,classes=['No Risk', 'Risk'], title='RF based Confusion Matrix')"
   ]
  },
  {
   "cell_type": "code",
   "execution_count": null,
   "metadata": {},
   "outputs": [],
   "source": [
    "metrics.plot_roc_curve(Tuned_model_rf, X, y) "
   ]
  },
  {
   "cell_type": "code",
   "execution_count": null,
   "metadata": {},
   "outputs": [],
   "source": [
    "prediction_rf = Tuned_model_rf.predict(X_test)"
   ]
  },
  {
   "cell_type": "code",
   "execution_count": null,
   "metadata": {},
   "outputs": [],
   "source": [
    "cm_rf_test = confusion_matrix(y_test, prediction_rf, labels=None) "
   ]
  },
  {
   "cell_type": "code",
   "execution_count": null,
   "metadata": {},
   "outputs": [],
   "source": [
    "util.plot_confusion_matrix(cm_rf_test,classes=['No Risk', 'Risk'], title='RF based Confusion Matrix')"
   ]
  },
  {
   "cell_type": "code",
   "execution_count": null,
   "metadata": {},
   "outputs": [],
   "source": [
    "metrics.plot_roc_curve(Tuned_model_rf, X_test, y_test) "
   ]
  },
  {
   "cell_type": "code",
   "execution_count": null,
   "metadata": {
    "scrolled": false
   },
   "outputs": [],
   "source": [
    "util.plot_learning_curve(estimator = Tuned_model_rf, title = \"RF learning curve\", X = X_train, y = y_train, cv = kfold)"
   ]
  },
  {
   "cell_type": "markdown",
   "metadata": {},
   "source": [
    "## *Logistic Regression based classification for heart risk*"
   ]
  },
  {
   "cell_type": "code",
   "execution_count": null,
   "metadata": {},
   "outputs": [],
   "source": [
    "from sklearn.linear_model import LogisticRegression"
   ]
  },
  {
   "cell_type": "code",
   "execution_count": null,
   "metadata": {},
   "outputs": [],
   "source": [
    "#Initialize Model\n",
    "clf_mdl_3 = LogisticRegression()\n",
    "\n",
    "params = {\n",
    "    \"max_iter\": range(100,500,2),\n",
    "    \"solver\" : ['newton-cg', 'lbfgs', 'liblinear'],\n",
    "    \"C\": [0.5, 0.1, 1.0]\n",
    "}\n",
    "\n",
    "lgr_ml = RandomizedSearchCV(clf_mdl_3, param_distributions=params, n_jobs=-1, cv=kfold)\n",
    "lgr_ml.fit(X_train,y_train)"
   ]
  },
  {
   "cell_type": "code",
   "execution_count": null,
   "metadata": {},
   "outputs": [],
   "source": [
    "lgr_ml.best_params_"
   ]
  },
  {
   "cell_type": "code",
   "execution_count": null,
   "metadata": {},
   "outputs": [],
   "source": [
    "Tuned_model_lgr = lgr_ml.best_estimator_\n",
    "Tuned_model_lgr"
   ]
  },
  {
   "cell_type": "code",
   "execution_count": null,
   "metadata": {},
   "outputs": [],
   "source": [
    "prediction_lgr = Tuned_model_lgr.predict(X_test)"
   ]
  },
  {
   "cell_type": "code",
   "execution_count": null,
   "metadata": {},
   "outputs": [],
   "source": [
    "ML_models.append(Tuned_model_lgr)\n",
    "ML_Prediction_models.append(prediction_lgr)"
   ]
  },
  {
   "cell_type": "code",
   "execution_count": null,
   "metadata": {},
   "outputs": [],
   "source": [
    "prediction_lgr_1 = Tuned_model_lgr.predict(X)"
   ]
  },
  {
   "cell_type": "code",
   "execution_count": null,
   "metadata": {},
   "outputs": [],
   "source": [
    "cm_lgr = confusion_matrix(y, prediction_lgr_1, labels=None) "
   ]
  },
  {
   "cell_type": "code",
   "execution_count": null,
   "metadata": {},
   "outputs": [],
   "source": [
    "util.plot_confusion_matrix(cm_lgr,classes=['No Risk', 'Risk'], title='LGR based Confusion Matrix')"
   ]
  },
  {
   "cell_type": "code",
   "execution_count": null,
   "metadata": {},
   "outputs": [],
   "source": [
    "metrics.plot_roc_curve(Tuned_model_lgr, X, y) "
   ]
  },
  {
   "cell_type": "code",
   "execution_count": null,
   "metadata": {},
   "outputs": [],
   "source": [
    "prediction_lgr = Tuned_model_lgr.predict(X_test)"
   ]
  },
  {
   "cell_type": "code",
   "execution_count": null,
   "metadata": {},
   "outputs": [],
   "source": [
    "cm_lgr_test = confusion_matrix(y_test, prediction_lgr, labels=None) "
   ]
  },
  {
   "cell_type": "code",
   "execution_count": null,
   "metadata": {},
   "outputs": [],
   "source": [
    "util.plot_confusion_matrix(cm_lgr_test,classes=['No Risk', 'Risk'], title='LGR based Confusion Matrix')"
   ]
  },
  {
   "cell_type": "code",
   "execution_count": null,
   "metadata": {},
   "outputs": [],
   "source": [
    "metrics.plot_roc_curve(Tuned_model_lgr, X_test, y_test) "
   ]
  },
  {
   "cell_type": "code",
   "execution_count": null,
   "metadata": {},
   "outputs": [],
   "source": [
    "util.plot_learning_curve(estimator = Tuned_model_lgr, title = \"LGR learning curve\", X = X_train, y = y_train, cv = kfold)"
   ]
  },
  {
   "cell_type": "markdown",
   "metadata": {},
   "source": [
    "## *LightGBM based classification for heart risk*"
   ]
  },
  {
   "cell_type": "code",
   "execution_count": null,
   "metadata": {},
   "outputs": [],
   "source": [
    "## Hyperparameter optimization using RandomizedSearchCV\n",
    "import lightgbm as lgb"
   ]
  },
  {
   "cell_type": "code",
   "execution_count": null,
   "metadata": {
    "scrolled": false
   },
   "outputs": [],
   "source": [
    "#Initialize Model\n",
    "clf_mdl_4 = lgb.LGBMClassifier();\n",
    "\n",
    "params = {'num_leaves':range(10,100, 10), 'min_child_samples':range(5,25,5),'max_depth': range(5, 15, 1),\n",
    "             'learning_rate':[0.05,0.1,0.2],'reg_alpha': [0,0.01,0.03]}\n",
    "\n",
    "#Initializing Grid Search with Stratified K Fold\n",
    "lgb_ml = RandomizedSearchCV(clf_mdl_4, param_distributions=params, n_jobs=-1, cv=kfold)\n",
    "lgb_ml.fit(X_train,y_train)"
   ]
  },
  {
   "cell_type": "code",
   "execution_count": null,
   "metadata": {},
   "outputs": [],
   "source": [
    "lgb_ml.best_params_"
   ]
  },
  {
   "cell_type": "code",
   "execution_count": null,
   "metadata": {
    "scrolled": true
   },
   "outputs": [],
   "source": [
    "Tuned_model_lgb = lgb_ml.best_estimator_\n",
    "Tuned_model_lgb"
   ]
  },
  {
   "cell_type": "code",
   "execution_count": null,
   "metadata": {},
   "outputs": [],
   "source": [
    "prediction_lgb = Tuned_model_lgb.predict(X_test)"
   ]
  },
  {
   "cell_type": "code",
   "execution_count": null,
   "metadata": {},
   "outputs": [],
   "source": [
    "ML_models.append(Tuned_model_lgb)\n",
    "ML_Prediction_models.append(prediction_lgb)"
   ]
  },
  {
   "cell_type": "code",
   "execution_count": null,
   "metadata": {},
   "outputs": [],
   "source": [
    "prediction_lgb_1 = Tuned_model_lgb.predict(X)"
   ]
  },
  {
   "cell_type": "code",
   "execution_count": null,
   "metadata": {},
   "outputs": [],
   "source": [
    "cm_lgb = confusion_matrix(y, prediction_lgb_1, labels=None) "
   ]
  },
  {
   "cell_type": "code",
   "execution_count": null,
   "metadata": {},
   "outputs": [],
   "source": [
    "util.plot_confusion_matrix(cm_lgb,classes=['No Risk', 'Risk'], title='LGBM based Confusion Matrix')"
   ]
  },
  {
   "cell_type": "code",
   "execution_count": null,
   "metadata": {},
   "outputs": [],
   "source": [
    "metrics.plot_roc_curve(Tuned_model_lgb, X, y) "
   ]
  },
  {
   "cell_type": "code",
   "execution_count": null,
   "metadata": {},
   "outputs": [],
   "source": [
    "prediction_lgb = Tuned_model_lgb.predict(X_test)"
   ]
  },
  {
   "cell_type": "code",
   "execution_count": null,
   "metadata": {},
   "outputs": [],
   "source": [
    "cm_lgb_test = confusion_matrix(y_test, prediction_lgb, labels=None) "
   ]
  },
  {
   "cell_type": "code",
   "execution_count": null,
   "metadata": {},
   "outputs": [],
   "source": [
    "util.plot_confusion_matrix(cm_lgb_test,classes=['No Risk', 'Risk'], title='LGBM based Confusion Matrix')"
   ]
  },
  {
   "cell_type": "code",
   "execution_count": null,
   "metadata": {},
   "outputs": [],
   "source": [
    "metrics.plot_roc_curve(Tuned_model_lgb, X_test, y_test) "
   ]
  },
  {
   "cell_type": "code",
   "execution_count": null,
   "metadata": {
    "scrolled": false
   },
   "outputs": [],
   "source": [
    "util.plot_learning_curve(estimator = Tuned_model_lgb, title = \"LGM learning curve\", X = X_train, y = y_train, cv = kfold)"
   ]
  },
  {
   "cell_type": "markdown",
   "metadata": {},
   "source": [
    "## *Linear Discriminant Analysis based classification for heart risk*"
   ]
  },
  {
   "cell_type": "code",
   "execution_count": null,
   "metadata": {},
   "outputs": [],
   "source": [
    "from sklearn.discriminant_analysis import LinearDiscriminantAnalysis"
   ]
  },
  {
   "cell_type": "code",
   "execution_count": null,
   "metadata": {},
   "outputs": [],
   "source": [
    "#Initialize Model\n",
    "clf_mdl_5 = LinearDiscriminantAnalysis()\n",
    "\n",
    "params = {\n",
    "    \"solver\" : [\"svd\"],\n",
    "     \"tol\" : [0.0001,0.0002,0.0003]\n",
    "}\n",
    "\n",
    "lda_ml = RandomizedSearchCV(clf_mdl_5, param_distributions=params, n_jobs=-1, cv=kfold)\n",
    "lda_ml.fit(X_train,y_train)"
   ]
  },
  {
   "cell_type": "code",
   "execution_count": null,
   "metadata": {},
   "outputs": [],
   "source": [
    "lda_ml.best_params_"
   ]
  },
  {
   "cell_type": "code",
   "execution_count": null,
   "metadata": {},
   "outputs": [],
   "source": [
    "Tuned_model_lda = lda_ml.best_estimator_\n",
    "Tuned_model_lda"
   ]
  },
  {
   "cell_type": "code",
   "execution_count": null,
   "metadata": {},
   "outputs": [],
   "source": [
    "prediction_lda = Tuned_model_lda.predict(X_test)"
   ]
  },
  {
   "cell_type": "code",
   "execution_count": null,
   "metadata": {},
   "outputs": [],
   "source": [
    "ML_models.append(Tuned_model_lda)\n",
    "ML_Prediction_models.append(prediction_lda)"
   ]
  },
  {
   "cell_type": "code",
   "execution_count": null,
   "metadata": {},
   "outputs": [],
   "source": [
    "prediction_lda_1 = Tuned_model_lda.predict(X)"
   ]
  },
  {
   "cell_type": "code",
   "execution_count": null,
   "metadata": {},
   "outputs": [],
   "source": [
    "cm_lda = confusion_matrix(y, prediction_lda_1, labels=None) "
   ]
  },
  {
   "cell_type": "code",
   "execution_count": null,
   "metadata": {},
   "outputs": [],
   "source": [
    "util.plot_confusion_matrix(cm_lda,classes=['No Risk', 'Risk'], title='LDA based Confusion Matrix')"
   ]
  },
  {
   "cell_type": "code",
   "execution_count": null,
   "metadata": {},
   "outputs": [],
   "source": [
    "metrics.plot_roc_curve(Tuned_model_lda, X, y) "
   ]
  },
  {
   "cell_type": "code",
   "execution_count": null,
   "metadata": {},
   "outputs": [],
   "source": [
    "prediction_lda = Tuned_model_lda.predict(X_test)"
   ]
  },
  {
   "cell_type": "code",
   "execution_count": null,
   "metadata": {},
   "outputs": [],
   "source": [
    "cm_lda_test = confusion_matrix(y_test, prediction_lda, labels=None) "
   ]
  },
  {
   "cell_type": "code",
   "execution_count": null,
   "metadata": {},
   "outputs": [],
   "source": [
    "util.plot_confusion_matrix(cm_lda_test,classes=['No Risk', 'Risk'], title='LDA based Confusion Matrix')"
   ]
  },
  {
   "cell_type": "code",
   "execution_count": null,
   "metadata": {},
   "outputs": [],
   "source": [
    "metrics.plot_roc_curve(Tuned_model_lda, X_test, y_test) "
   ]
  },
  {
   "cell_type": "code",
   "execution_count": null,
   "metadata": {},
   "outputs": [],
   "source": [
    "util.plot_learning_curve(estimator = Tuned_model_lda, title = \"LDA learning curve\", X = X_train, y = y_train, cv = kfold)"
   ]
  },
  {
   "cell_type": "markdown",
   "metadata": {},
   "source": [
    "## *Ensemble learning based classification for heart risk*"
   ]
  },
  {
   "cell_type": "code",
   "execution_count": null,
   "metadata": {},
   "outputs": [],
   "source": [
    "from sklearn.ensemble import VotingClassifier"
   ]
  },
  {
   "cell_type": "code",
   "execution_count": null,
   "metadata": {},
   "outputs": [],
   "source": [
    "VotingPredictor = VotingClassifier(estimators =\n",
    "                           [('rfc', Tuned_model_rf), \n",
    "                            ('lgr', Tuned_model_lgr), \n",
    "                            ('lda', Tuned_model_lda),\n",
    "                            ('xgb', Tuned_model_xgb),\n",
    "                            ('lgb', Tuned_model_lgb)],\n",
    "                           voting='soft', n_jobs = -1)\n",
    "\n",
    "\n",
    "VotingPredictor = VotingPredictor.fit(X_train, y_train);"
   ]
  },
  {
   "cell_type": "code",
   "execution_count": null,
   "metadata": {},
   "outputs": [],
   "source": [
    "prediction_vp = VotingPredictor.predict(X_test)"
   ]
  },
  {
   "cell_type": "code",
   "execution_count": null,
   "metadata": {},
   "outputs": [],
   "source": [
    "ML_models.append(VotingPredictor)\n",
    "ML_Prediction_models.append(prediction_vp)"
   ]
  },
  {
   "cell_type": "code",
   "execution_count": null,
   "metadata": {},
   "outputs": [],
   "source": [
    "prediction_vp_1 = VotingPredictor.predict(X)"
   ]
  },
  {
   "cell_type": "code",
   "execution_count": null,
   "metadata": {},
   "outputs": [],
   "source": [
    "cm_vp = confusion_matrix(y, prediction_vp_1, labels=None) "
   ]
  },
  {
   "cell_type": "code",
   "execution_count": null,
   "metadata": {},
   "outputs": [],
   "source": [
    "util.plot_confusion_matrix(cm_vp,classes=['No Risk', 'Risk'], title='LDA based Confusion Matrix')"
   ]
  },
  {
   "cell_type": "code",
   "execution_count": null,
   "metadata": {
    "scrolled": false
   },
   "outputs": [],
   "source": [
    "metrics.plot_roc_curve(VotingPredictor, X, y) "
   ]
  },
  {
   "cell_type": "code",
   "execution_count": null,
   "metadata": {
    "scrolled": false
   },
   "outputs": [],
   "source": [
    "util.plot_learning_curve(estimator = VotingPredictor, title = \"VP learning curve\",\n",
    "                    X = X_train, y = y_train, cv = kfold);"
   ]
  },
  {
   "cell_type": "code",
   "execution_count": null,
   "metadata": {
    "scrolled": false
   },
   "outputs": [],
   "source": [
    "Metrics_df = pd.DataFrame()\n",
    "\n",
    "data_dict = {}\n",
    "\n",
    "model_name = []\n",
    "model_metrics = []\n",
    "\n",
    "for item in enumerate(ML_models):\n",
    "    y_pred = ML_Prediction_models[item[0]]\n",
    "    recall_scr = recall_score(y_test, y_pred)\n",
    "    f1_scr = f1_score(y_test, y_pred)   \n",
    "    precision_scr = precision_score(y_test, y_pred) \n",
    "    accuracy_scr = accuracy_score(y_test, y_pred)\n",
    "    roc_auc_scr = roc_auc_score(y_test, y_pred)    \n",
    "    cross_val_scr = cross_val_score(ML_models[item[0]], X_train, y_train,cv=10, n_jobs = -1, scoring = 'accuracy').mean()\n",
    "    model_name.append(type(ML_models[item[0]]).__name__)\n",
    "    model_metrics.append([recall_scr, f1_scr, precision_scr, accuracy_scr, roc_auc_scr, cross_val_scr])\n",
    "\n",
    "\n",
    "for i in range(len(model_name)):\n",
    "    data_dict[model_name[i]] = model_metrics[i]\n"
   ]
  },
  {
   "cell_type": "code",
   "execution_count": null,
   "metadata": {
    "scrolled": false
   },
   "outputs": [],
   "source": [
    "metrics_name = ['recall', 'f1', 'precision','accuracy', 'roc_auc', 'cross_validation']\n",
    "Metrics_df = pd.DataFrame.from_dict(data_dict, orient='index', columns=metrics_name)\n",
    "Metrics_df.head()"
   ]
  },
  {
   "cell_type": "code",
   "execution_count": null,
   "metadata": {},
   "outputs": [],
   "source": [
    "Metrics_df['f1'].plot(kind=\"bar\",title='f1');"
   ]
  },
  {
   "cell_type": "code",
   "execution_count": null,
   "metadata": {},
   "outputs": [],
   "source": [
    "Metrics_df['accuracy'].plot(kind=\"bar\", title='accuracy');"
   ]
  },
  {
   "cell_type": "code",
   "execution_count": null,
   "metadata": {},
   "outputs": [],
   "source": [
    "Metrics_df['roc_auc'].plot(kind=\"bar\", title='roc_auc');"
   ]
  },
  {
   "cell_type": "code",
   "execution_count": null,
   "metadata": {},
   "outputs": [],
   "source": [
    "Metrics_df['recall'].plot(kind=\"bar\", title='recall');"
   ]
  },
  {
   "cell_type": "code",
   "execution_count": null,
   "metadata": {
    "scrolled": false
   },
   "outputs": [],
   "source": [
    "Metrics_df['precision'].plot(kind=\"bar\", title='precision');"
   ]
  }
 ],
 "metadata": {
  "kernelspec": {
   "display_name": "Python 3 (ipykernel)",
   "language": "python",
   "name": "python3"
  },
  "language_info": {
   "codemirror_mode": {
    "name": "ipython",
    "version": 3
   },
   "file_extension": ".py",
   "mimetype": "text/x-python",
   "name": "python",
   "nbconvert_exporter": "python",
   "pygments_lexer": "ipython3",
   "version": "3.8.9"
  }
 },
 "nbformat": 4,
 "nbformat_minor": 4
}
